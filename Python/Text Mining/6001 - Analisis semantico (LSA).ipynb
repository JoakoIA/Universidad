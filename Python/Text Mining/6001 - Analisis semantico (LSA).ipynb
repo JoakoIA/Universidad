{
 "cells": [
  {
   "cell_type": "markdown",
   "id": "e54497c3-100a-42ae-b31b-4c1e6622dd11",
   "metadata": {},
   "source": [
    "## __Text mining y Procesamiento de Lenguaje Natural (NLP)__\n",
    "\n",
    "__Profesor__: Anthony D. Cho\n",
    "\n",
    "__Tema__: Analisis semantico\n",
    "\n",
    "__Método__: Latent Semantic Analysis (LSA)\n",
    "\n",
    "***"
   ]
  },
  {
   "cell_type": "markdown",
   "id": "1bd2a9f9-3531-473c-87e7-a187b2062341",
   "metadata": {},
   "source": [
    "__Dependencias__\n",
    "\n",
    "```{python}\n",
    "    python -m pip install nltk spacy\n",
    "    python -m spacy download en_core_web_sm\n",
    "    python -m spacy download es_core_news_sm\n",
    "```"
   ]
  },
  {
   "cell_type": "code",
   "execution_count": null,
   "id": "7247e86e-b15c-45a0-a7c4-be1be7e77271",
   "metadata": {},
   "outputs": [],
   "source": []
  },
  {
   "cell_type": "markdown",
   "id": "7d30880a",
   "metadata": {},
   "source": [
    "## Librerias"
   ]
  },
  {
   "cell_type": "code",
   "execution_count": 2,
   "id": "53dff896",
   "metadata": {},
   "outputs": [],
   "source": [
    "import re\n",
    "import joblib\n",
    "from glob import glob\n",
    "import matplotlib.pyplot as plt\n",
    "from pandas import DataFrame\n",
    "\n",
    "from string import punctuation\n",
    "from spacy.lang.es.stop_words import STOP_WORDS\n",
    "from spacy import load\n",
    "\n",
    "from sklearn.feature_extraction.text import TfidfVectorizer\n",
    "from numpy.linalg import svd\n",
    "from numpy import dot, diag\n",
    "\n",
    "## Instancia del modelo de lenguaje\n",
    "nlp = load('es_core_news_sm')"
   ]
  },
  {
   "cell_type": "code",
   "execution_count": null,
   "id": "b2d89bc8",
   "metadata": {},
   "outputs": [],
   "source": []
  },
  {
   "cell_type": "markdown",
   "id": "fca90efb",
   "metadata": {},
   "source": [
    "## Carga de documentos"
   ]
  },
  {
   "cell_type": "code",
   "execution_count": 9,
   "id": "7f81288f",
   "metadata": {},
   "outputs": [],
   "source": [
    "## Encontrar la ruta de cada archivo de interes\n",
    "path_docs = glob('*/doc*.txt')\n",
    "\n",
    "## Almacenamiendo de contenido de los documentos e id (nombre del archivo)\n",
    "corpus, doc_id = [], [] \n",
    "\n",
    "## Incio de proceso de carga de documentos\n",
    "if len(path_docs):\n",
    "    for file in path_docs:\n",
    "\n",
    "        ## Se carga el texto\n",
    "        text = open(file, 'r', encoding='utf-8').read()\n",
    "        \n",
    "        ## Se almacena el texto\n",
    "        corpus.append(text)\n",
    "        \n",
    "        id = file.split('\\\\')[-1].split('.')[0]\n",
    "\n",
    "        ## Se almacena el id\n",
    "        doc_id.append(id)\n",
    "else:\n",
    "    print('No corpus have found.')"
   ]
  },
  {
   "cell_type": "code",
   "execution_count": 3,
   "id": "6f1f1469",
   "metadata": {},
   "outputs": [
    {
     "data": {
      "text/plain": [
       "['doc1', 'doc2', 'doc3', 'doc4', 'doc5', 'doc6', 'doc7']"
      ]
     },
     "execution_count": 3,
     "metadata": {},
     "output_type": "execute_result"
    }
   ],
   "source": [
    "doc_id"
   ]
  },
  {
   "cell_type": "markdown",
   "id": "58a229a6",
   "metadata": {},
   "source": [
    "#### Preprocesamiento"
   ]
  },
  {
   "cell_type": "code",
   "execution_count": 12,
   "id": "7fd9083e",
   "metadata": {},
   "outputs": [
    {
     "data": {
      "text/plain": [
       "['laptop año reciente impacto xps comenzar carrera bisel delgado cosa influir absolutamente dispositivo contar pantalla versión reciente dell llevado cosa lejos xps ampliado pantalla relación aspecto encoger bisel inferior resultado pantalla laptop tamaño xps año teclado touchpad aprovechar superficie posible dispositivo poderoso duradero sacrificar funcionalidad diseño barata duda ganado lugar opción premium definitivamente laptop poder comprar xps empezar core ig gb ram gb ssd pantalla full hd x pixel configurada core ig gb ram tb almacenamiento pantalla oled',\n",
       " 'ver macbook air reciente desviación mac año macbook pro mac mini macbook air funcionar silicio apple chip m costo procesador m aportar ventaja importante macbook air convirtiéndola portátil perfecto estudiante chip m poder configurar él gb ram tb ssd mejora traer chip m duración rendimiento bateer viejo macbook air incapacitado procesador lento doble núcleo utilizado mantener sistema completamente ventilador apple realizar tarea m sacrificar velocidad duración bateer realmente laptop estudiantes aguantar escaso forma perfecto aula cafetería biblioteca lugar difícil encontrar enchufe dólares monto descuento dólares estudiante convertir regalo perfecto alguien universidad',\n",
       " 'general gasta dólares computadorar portátil primero característica renuncia rendimiento caso versión acer swift amd equipa procesador ryzen procesador núcleos realizar tarea exigente allá mero trabajo productividad poder trabajar edición video portátil increíble precio obtién gb ram ssd gb entusiasmado pantalla pequeño defecto calidad fabricación computadoro portátil bonito poder esperar acer swift actualizado reciente procesador ryzen entregar rendimiento',\n",
       " 'macbook pro corregir problema reciente línea “ pro ” touch bar ido volver amplio selección puerto grueso enfriado listo disculpa pantalla miniled hz ver computadora portátil especialmente contenido hdr formato m pro m max agreguir gráfico nivel discreto increíble eficiencia laptop duración baterío serie cámara web p altavoz mejorado mejor clase precio rendimiento significar usuario promedio necesitar macbook air necesitas laptop potente creación contenido macbook pro computadora portátil “ profesional ” poder comprar',\n",
       " 'razer bladir sentir imposible tarjeta gráfico rtx laptop delgado pulgada venir rendimiento impresionante espacio laptops gaming razer bladir lenovo legion pro razer bladir sentir milagro laptop razer impulsado procesador amd presentar poderoso ryzen hx pantalla p hz sorprendentemente razer bladir ciento dólares razer bladir laptop barata juegos potente laptop juegos general poder comprar',\n",
       " 'gustar driftar trate disciplina buscar rápido ligeramente complicado técnico dominar tiempo aspecto deber quieres sencillo consejo ayudar drifting maestro poner camino llegar fácil importante prácticamente situación competir elegir vehículo va mover hora derrapar peculiar disciplina clave caber opción óptimo tracción trasero x alternativa medio tracción delantero recomendable rueda trasero prácticamente trabajo control beneficioso',\n",
       " 'audi embarcado proyecto deportivo importante seguramente llegado futuro fórmula oficial compañía alemán dejar rama rally dakar trío piloto carrero intentar llevar él victoria esperanza puesto figura carlos sainz stephaber peterhansel dominador prueba actual ganador nasser alattiyah español francés estrenar vehículo electrificado historia carrero morder polvo general culpar avería demostrar potencial proyecto conseguir victoria etapa unidad potencia eléctrico avance cochar audi problema avería llegar frente esperanza luchar victoria estar activo propósito presentado vehículo audi cara próximo edición dakar correr arabia saudí enero año']"
      ]
     },
     "execution_count": 12,
     "metadata": {},
     "output_type": "execute_result"
    }
   ],
   "source": [
    "## Limpieza de textos\n",
    "cleanTexts = []\n",
    "\n",
    "for doc in corpus:\n",
    "\n",
    "    # ## Remover numeros y puntuaciones\n",
    "    doc = re.sub(r'[\\\"\\¿\\°\\d+]', '', doc)\n",
    "    doc = [s for s in doc if s not in punctuation]\n",
    "    doc = ''.join(doc)\n",
    "\n",
    "    ## Normalización y remover stopwords\n",
    "    documento = nlp(doc.lower())\n",
    "    tokens = [word.text for word in documento]\n",
    "    doc = [word for word in tokens if word not in STOP_WORDS]\n",
    "    doc = ' '.join(doc)\n",
    "    doc = re.sub(pattern='\\s+', repl=' ', string=doc)\n",
    "    \n",
    "    ## Aplicar lemmatización\n",
    "    documento = nlp(doc)\n",
    "    lemmas = [word.lemma_ for word in documento]\n",
    "    doc = ' '.join(lemmas)\n",
    "    doc = re.sub(pattern='\\s+', repl=' ', string=doc)\n",
    "\n",
    "    ## Almacenado de contenido procesado\n",
    "    cleanTexts.append(doc)\n",
    "\n",
    "## Mostar contenido procesado\n",
    "cleanTexts\n",
    "    "
   ]
  },
  {
   "cell_type": "code",
   "execution_count": null,
   "id": "c97b9843",
   "metadata": {},
   "outputs": [],
   "source": []
  },
  {
   "cell_type": "code",
   "execution_count": 26,
   "id": "cc4f34d2",
   "metadata": {},
   "outputs": [
    {
     "name": "stdout",
     "output_type": "stream",
     "text": [
      "(shape) tf (terms, docs): (322, 7)\n"
     ]
    }
   ],
   "source": [
    "## Instancia del modelo\n",
    "model = TfidfVectorizer()\n",
    "\n",
    "## Ajuste del modelo y retorno de TF matrix como (term, docs)\n",
    "tf_sparse = model.fit_transform(cleanTexts).T\n",
    "\n",
    "## Extraer la lista de los palabras que representan las columnas de la matriz generada\n",
    "vocabulary = model.get_feature_names_out()\n",
    "\n",
    "print('(shape) tf (terms, docs): {}'.format(tf_sparse.shape))"
   ]
  },
  {
   "cell_type": "code",
   "execution_count": 19,
   "id": "2a4cd7e5",
   "metadata": {},
   "outputs": [
    {
     "name": "stdout",
     "output_type": "stream",
     "text": [
      "(shape) U: (322, 322) - sigma: (7,) - Vt: (7, 7)\n",
      "[1.19265319 1.01714604 1.00155152 0.98296618 0.96344509 0.937058\n",
      " 0.87599098]\n"
     ]
    }
   ],
   "source": [
    "## Aplicación del método SVD\n",
    "U, sigma, Vt = svd(tf_sparse.toarray())\n",
    "\n",
    "print('(shape) U: {} - sigma: {} - Vt: {}'.format(U.shape, sigma.shape, Vt.shape))\n",
    "print(sigma)"
   ]
  },
  {
   "cell_type": "code",
   "execution_count": 29,
   "id": "9bedabb7",
   "metadata": {},
   "outputs": [
    {
     "name": "stdout",
     "output_type": "stream",
     "text": [
      "(shape) termsMatrix: (322, 2) - docMatrix: (7, 2)\n"
     ]
    }
   ],
   "source": [
    "## Tamaño del espacio latente\n",
    "n_latente = 2\n",
    "\n",
    "## Computo de la matriz (Terms, latent features)\n",
    "termsMatrix = dot( U[:, :n_latente],\n",
    "                    diag( sigma[:n_latente] )\n",
    "                    )\n",
    "\n",
    "## Computo de la matriz  (docs, latent features)\n",
    "docMatrix = dot( diag( sigma[:n_latente] ),\n",
    "                    Vt[:n_latente, :],\n",
    "                ).T\n",
    "\n",
    "print('(shape) termsMatrix: {} - docMatrix: {}'.format(termsMatrix.shape, docMatrix.shape))"
   ]
  },
  {
   "cell_type": "code",
   "execution_count": null,
   "id": "8f7aa126",
   "metadata": {},
   "outputs": [],
   "source": []
  },
  {
   "cell_type": "code",
   "execution_count": 30,
   "id": "515f93d0",
   "metadata": {},
   "outputs": [
    {
     "data": {
      "text/plain": [
       "['LSA_model']"
      ]
     },
     "execution_count": 30,
     "metadata": {},
     "output_type": "execute_result"
    }
   ],
   "source": [
    "## Exportar construcción a archivo formato joblib (opcional)\n",
    "data = {'sigma': sigma,\n",
    "        'terms': termsMatrix,\n",
    "        'docs': docMatrix,\n",
    "        'vocabulary': vocabulary}\n",
    "\n",
    "joblib.dump(value=data, filename='LSA_model', compress=9)"
   ]
  },
  {
   "cell_type": "code",
   "execution_count": 31,
   "id": "f7abc0f1",
   "metadata": {},
   "outputs": [
    {
     "data": {
      "text/plain": [
       "array([[-0.44519135,  0.13748366],\n",
       "       [-0.6104172 , -0.11020805],\n",
       "       [-0.53727956,  0.0564949 ],\n",
       "       [-0.61865452, -0.162426  ],\n",
       "       [-0.41530732, -0.01982383],\n",
       "       [-0.04877299,  0.72195065],\n",
       "       [-0.07318079,  0.67257631]])"
      ]
     },
     "execution_count": 31,
     "metadata": {},
     "output_type": "execute_result"
    }
   ],
   "source": [
    "docMatrix"
   ]
  },
  {
   "cell_type": "code",
   "execution_count": null,
   "id": "f45e9c22",
   "metadata": {},
   "outputs": [],
   "source": []
  },
  {
   "cell_type": "code",
   "execution_count": null,
   "id": "cd116f2d",
   "metadata": {},
   "outputs": [],
   "source": []
  },
  {
   "cell_type": "markdown",
   "id": "6bb835c5",
   "metadata": {},
   "source": [
    "#### Mostrar nivel de importancia de los autovalores"
   ]
  },
  {
   "cell_type": "code",
   "execution_count": 42,
   "id": "2b79c60e",
   "metadata": {},
   "outputs": [
    {
     "data": {
      "image/png": "[encoded data removed]",
      "text/plain": [
       "<Figure size 700x700 with 1 Axes>"
      ]
     },
     "metadata": {},
     "output_type": "display_data"
    }
   ],
   "source": [
    "## List of index of values\n",
    "setNumValues = range(1, len(sigma)+1)\n",
    "\n",
    "## Importance list\n",
    "importance = [x**2 for x in sigma]\n",
    "\n",
    "## Display-space instance\n",
    "plt.figure(figsize=(7,7))\n",
    "plt.bar(setNumValues, importance)\n",
    "plt.ylabel('Importante'); plt.xlabel('Singular values')\n",
    "plt.title('Importance of singular values in SVD')\n",
    "plt.tight_layout()\n",
    "plt.show()"
   ]
  },
  {
   "cell_type": "code",
   "execution_count": 34,
   "id": "925cfb88",
   "metadata": {},
   "outputs": [],
   "source": [
    "def vectorsVisualizer(vocabulary, vectors):\n",
    "    \"\"\"\n",
    "        DESCRIPTION:\n",
    "            2D-vector visualizer. The first 2 coordinates are taken for visualizing.\n",
    "        \n",
    "        INPUT:\n",
    "            @param vocabulary: list of terms\n",
    "            @type vocabulary: list\n",
    "            \n",
    "            @param vectors: latent space matrix representation\n",
    "            @type vectors: numpy.ndarray\n",
    "        \n",
    "        OUTPUT:\n",
    "            Scattered graphic\n",
    "        \n",
    "    \"\"\"\n",
    "    \n",
    "    ## Pairs (x,y) allocation\n",
    "    x, y = [], []\n",
    "    for v in vectors:\n",
    "        x.append( v[0] )\n",
    "        y.append( v[1] )\n",
    "    \n",
    "    ## Display-space instance\n",
    "    plt.figure(figsize=(7,7))\n",
    "    plt.title('Vector representation')\n",
    "    \n",
    "    for i in range(len(x)):\n",
    "        plt.scatter(x[i], y[i])\n",
    "        plt.annotate(text=vocabulary[i],\n",
    "                     xy=(x[i], y[i]),\n",
    "                     xytext=(5, 2),\n",
    "                     textcoords='offset points',\n",
    "                     ha='right',\n",
    "                     va='bottom'\n",
    "                     )\n",
    "    plt.xlabel('latent feature 1'); plt.ylabel('latent feature 2');\n",
    "    plt.tight_layout()\n",
    "    plt.show()"
   ]
  },
  {
   "cell_type": "code",
   "execution_count": 35,
   "id": "59f7b666",
   "metadata": {},
   "outputs": [
    {
     "data": {
      "image/png": "[encoded data removed]",
      "text/plain": [
       "<Figure size 700x700 with 1 Axes>"
      ]
     },
     "metadata": {},
     "output_type": "display_data"
    }
   ],
   "source": [
    "## Terms visualizer\n",
    "vectorsVisualizer(vocabulary, termsMatrix[:20])"
   ]
  },
  {
   "cell_type": "code",
   "execution_count": 41,
   "id": "b04f967d",
   "metadata": {},
   "outputs": [
    {
     "data": {
      "image/png": "[encoded data removed]",
      "text/plain": [
       "<Figure size 700x700 with 1 Axes>"
      ]
     },
     "metadata": {},
     "output_type": "display_data"
    }
   ],
   "source": [
    "## docs visualizer\n",
    "vectorsVisualizer(doc_id, docMatrix)"
   ]
  },
  {
   "cell_type": "code",
   "execution_count": 39,
   "id": "cb3aa473",
   "metadata": {},
   "outputs": [
    {
     "data": {
      "text/html": [
       "<div>\n",
       "<style scoped>\n",
       "    .dataframe tbody tr th:only-of-type {\n",
       "        vertical-align: middle;\n",
       "    }\n",
       "\n",
       "    .dataframe tbody tr th {\n",
       "        vertical-align: top;\n",
       "    }\n",
       "\n",
       "    .dataframe thead th {\n",
       "        text-align: right;\n",
       "    }\n",
       "</style>\n",
       "<table border=\"1\" class=\"dataframe\">\n",
       "  <thead>\n",
       "    <tr style=\"text-align: right;\">\n",
       "      <th></th>\n",
       "      <th>0</th>\n",
       "      <th>1</th>\n",
       "    </tr>\n",
       "  </thead>\n",
       "  <tbody>\n",
       "    <tr>\n",
       "      <th>absolutamente</th>\n",
       "      <td>-0.037239</td>\n",
       "      <td>0.013484</td>\n",
       "    </tr>\n",
       "    <tr>\n",
       "      <th>acer</th>\n",
       "      <td>-0.118510</td>\n",
       "      <td>0.014611</td>\n",
       "    </tr>\n",
       "    <tr>\n",
       "      <th>activo</th>\n",
       "      <td>-0.006075</td>\n",
       "      <td>0.065465</td>\n",
       "    </tr>\n",
       "    <tr>\n",
       "      <th>actual</th>\n",
       "      <td>-0.006075</td>\n",
       "      <td>0.065465</td>\n",
       "    </tr>\n",
       "    <tr>\n",
       "      <th>actualizado</th>\n",
       "      <td>-0.059255</td>\n",
       "      <td>0.007306</td>\n",
       "    </tr>\n",
       "    <tr>\n",
       "      <th>...</th>\n",
       "      <td>...</td>\n",
       "      <td>...</td>\n",
       "    </tr>\n",
       "    <tr>\n",
       "      <th>volver</th>\n",
       "      <td>-0.061595</td>\n",
       "      <td>-0.018962</td>\n",
       "    </tr>\n",
       "    <tr>\n",
       "      <th>web</th>\n",
       "      <td>-0.061595</td>\n",
       "      <td>-0.018962</td>\n",
       "    </tr>\n",
       "    <tr>\n",
       "      <th>xps</th>\n",
       "      <td>-0.148956</td>\n",
       "      <td>0.053938</td>\n",
       "    </tr>\n",
       "    <tr>\n",
       "      <th>él</th>\n",
       "      <td>-0.044185</td>\n",
       "      <td>0.046055</td>\n",
       "    </tr>\n",
       "    <tr>\n",
       "      <th>óptimo</th>\n",
       "      <td>-0.005372</td>\n",
       "      <td>0.093240</td>\n",
       "    </tr>\n",
       "  </tbody>\n",
       "</table>\n",
       "<p>322 rows × 2 columns</p>\n",
       "</div>"
      ],
      "text/plain": [
       "                      0         1\n",
       "absolutamente -0.037239  0.013484\n",
       "acer          -0.118510  0.014611\n",
       "activo        -0.006075  0.065465\n",
       "actual        -0.006075  0.065465\n",
       "actualizado   -0.059255  0.007306\n",
       "...                 ...       ...\n",
       "volver        -0.061595 -0.018962\n",
       "web           -0.061595 -0.018962\n",
       "xps           -0.148956  0.053938\n",
       "él            -0.044185  0.046055\n",
       "óptimo        -0.005372  0.093240\n",
       "\n",
       "[322 rows x 2 columns]"
      ]
     },
     "execution_count": 39,
     "metadata": {},
     "output_type": "execute_result"
    }
   ],
   "source": [
    "## Construcción de un dataframe del vcabulario con los pesos del espacio latente\n",
    "terms = DataFrame(data=termsMatrix, index=vocabulary)\n",
    "terms"
   ]
  },
  {
   "cell_type": "code",
   "execution_count": 40,
   "id": "72ab875e",
   "metadata": {},
   "outputs": [
    {
     "data": {
      "text/html": [
       "<div>\n",
       "<style scoped>\n",
       "    .dataframe tbody tr th:only-of-type {\n",
       "        vertical-align: middle;\n",
       "    }\n",
       "\n",
       "    .dataframe tbody tr th {\n",
       "        vertical-align: top;\n",
       "    }\n",
       "\n",
       "    .dataframe thead th {\n",
       "        text-align: right;\n",
       "    }\n",
       "</style>\n",
       "<table border=\"1\" class=\"dataframe\">\n",
       "  <thead>\n",
       "    <tr style=\"text-align: right;\">\n",
       "      <th></th>\n",
       "      <th>0</th>\n",
       "      <th>1</th>\n",
       "    </tr>\n",
       "  </thead>\n",
       "  <tbody>\n",
       "    <tr>\n",
       "      <th>doc1</th>\n",
       "      <td>-0.445191</td>\n",
       "      <td>0.137484</td>\n",
       "    </tr>\n",
       "    <tr>\n",
       "      <th>doc2</th>\n",
       "      <td>-0.610417</td>\n",
       "      <td>-0.110208</td>\n",
       "    </tr>\n",
       "    <tr>\n",
       "      <th>doc3</th>\n",
       "      <td>-0.537280</td>\n",
       "      <td>0.056495</td>\n",
       "    </tr>\n",
       "    <tr>\n",
       "      <th>doc4</th>\n",
       "      <td>-0.618655</td>\n",
       "      <td>-0.162426</td>\n",
       "    </tr>\n",
       "    <tr>\n",
       "      <th>doc5</th>\n",
       "      <td>-0.415307</td>\n",
       "      <td>-0.019824</td>\n",
       "    </tr>\n",
       "    <tr>\n",
       "      <th>doc6</th>\n",
       "      <td>-0.048773</td>\n",
       "      <td>0.721951</td>\n",
       "    </tr>\n",
       "    <tr>\n",
       "      <th>doc7</th>\n",
       "      <td>-0.073181</td>\n",
       "      <td>0.672576</td>\n",
       "    </tr>\n",
       "  </tbody>\n",
       "</table>\n",
       "</div>"
      ],
      "text/plain": [
       "             0         1\n",
       "doc1 -0.445191  0.137484\n",
       "doc2 -0.610417 -0.110208\n",
       "doc3 -0.537280  0.056495\n",
       "doc4 -0.618655 -0.162426\n",
       "doc5 -0.415307 -0.019824\n",
       "doc6 -0.048773  0.721951\n",
       "doc7 -0.073181  0.672576"
      ]
     },
     "execution_count": 40,
     "metadata": {},
     "output_type": "execute_result"
    }
   ],
   "source": [
    "## Construcción de un dataframe de los documentos con los pesos del espacio latente\n",
    "docs = DataFrame(data=docMatrix, index=doc_id)\n",
    "docs"
   ]
  },
  {
   "cell_type": "code",
   "execution_count": 4,
   "id": "9f1a92f4",
   "metadata": {},
   "outputs": [
    {
     "name": "stdout",
     "output_type": "stream",
     "text": [
      "(Shape) data: (2000, 4)\n",
      "(Number of genres) 1063\n"
     ]
    }
   ],
   "source": [
    "## Columns selection\n",
    "import pandas as pd\n",
    "columns = ['title', 'synopsis', 'genre', 'img_url']\n",
    "\n",
    "## Load data\n",
    "data = pd.read_csv('animes.csv', usecols=columns).dropna()\n",
    "\n",
    "## resampling\n",
    "data = data.sample(n=2000, random_state=20221026)\n",
    "\n",
    "## Display number of rows and columns\n",
    "print('(Shape) data: {}'.format(data.shape))\n",
    "\n",
    "#2-Construya la tabla de representación binaria de los géneros de los animes (si un anime tiene mas de un genero en una lista tomar cada genero por separado). \n",
    "\n",
    "## Generos\n",
    "generos = data['genre'].str.split(',').explode().unique()\n",
    "\n",
    "## Construcción de la tabla de representación binaria\n",
    "generosMatrix = DataFrame(columns=generos, index=data.index)\n",
    "\n",
    "## Llenado de la tabla\n",
    "for i in generosMatrix.index:\n",
    "    generosMatrix.loc[i, data.loc[i, 'genre'].split(',')] = 1\n",
    "\n",
    "## Llenado de los valores faltantes\n",
    "generosMatrix.fillna(0, inplace=True)\n",
    "\n",
    "#3- Determine las reglas de asociación más relevantes que tienen entre los géneros.\n",
    "\n",
    "## Importación de librerias\n",
    "from mlxtend.frequent_patterns import apriori\n",
    "from mlxtend.frequent_patterns import association_rules\n",
    "\n",
    "## Aplicación del algoritmo apriori\n",
    "frequent_itemsets = apriori(generosMatrix, min_support=0.01, use_colnames=True)\n",
    "\n",
    "## Aplicación de las reglas de asociación\n",
    "rules = association_rules(frequent_itemsets, metric=\"lift\", min_threshold=1)\n",
    "\n",
    "## Visualización de las reglas de asociación\n",
    "rules"
   ]
  }
 ],
 "metadata": {
  "kernelspec": {
   "display_name": "Python 3",
   "language": "python",
   "name": "python3"
  },
  "language_info": {
   "codemirror_mode": {
    "name": "ipython",
    "version": 3
   },
   "file_extension": ".py",
   "mimetype": "text/x-python",
   "name": "python",
   "nbconvert_exporter": "python",
   "pygments_lexer": "ipython3",
   "version": "3.11.4"
  }
 },
 "nbformat": 4,
 "nbformat_minor": 5
}
