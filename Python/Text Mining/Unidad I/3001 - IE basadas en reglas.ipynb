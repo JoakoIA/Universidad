{
 "cells": [
  {
   "cell_type": "markdown",
   "id": "87d47d55",
   "metadata": {},
   "source": [
    "## __Text mining y Procesamiento de Lenguaje Natural (NLP)__\n",
    "\n",
    "__Profesor__: Anthony D. Cho\n",
    "\n",
    "__Tema__: Análisis sintáctico\n",
    "\n",
    "__Método__: Extracción de información - Basadas en reglas\n",
    "\n",
    "***"
   ]
  },
  {
   "cell_type": "code",
   "execution_count": null,
   "id": "04b5dd63-8d16-4a7a-892b-db0cb0d4cec8",
   "metadata": {},
   "outputs": [],
   "source": []
  },
  {
   "cell_type": "markdown",
   "id": "f68b1568-fe29-48ed-aef5-edd40aa23b8a",
   "metadata": {},
   "source": [
    "__Dependencias__\n",
    "\n",
    "```python\n",
    "    python -m pip install nltk spacy\n",
    "    python -m spacy download en_core_web_sm\n",
    "    python -m spacy download es_core_news_sm\n",
    "    \n",
    "```"
   ]
  },
  {
   "cell_type": "code",
   "execution_count": null,
   "id": "7f1d4a91-5a6e-4626-bfcc-b8a6f9471cf5",
   "metadata": {},
   "outputs": [],
   "source": []
  },
  {
   "cell_type": "markdown",
   "id": "69669fcb-9853-45dc-80a7-b6762687c8f4",
   "metadata": {},
   "source": [
    "### Librerias"
   ]
  },
  {
   "cell_type": "code",
   "execution_count": null,
   "id": "078e2c5e",
   "metadata": {},
   "outputs": [],
   "source": [
    "import re\n",
    "from spacy import load\n",
    "\n",
    "## Carga del modelo de lenguaje\n",
    "nlp = load('es_core_news_sm')    "
   ]
  },
  {
   "cell_type": "code",
   "execution_count": null,
   "id": "a85c6224-5ff5-41e8-ba25-58be64d9fd52",
   "metadata": {},
   "outputs": [],
   "source": []
  },
  {
   "cell_type": "markdown",
   "id": "a3b67036-ac7d-4eaf-b629-2263118fb1cb",
   "metadata": {},
   "source": [
    "### Declaración de funciones"
   ]
  },
  {
   "cell_type": "code",
   "execution_count": null,
   "id": "ac7aa3bb-4ab6-4a14-8d0f-1f9883587dfd",
   "metadata": {},
   "outputs": [],
   "source": [
    "def pos_tagger(text):\n",
    "    \"\"\"\n",
    "        DESCRIPTION:\n",
    "            Apply POS-Tagging to a corpus document\n",
    "        \n",
    "        INPUT:\n",
    "            @param text: corpus document\n",
    "            @type text: str\n",
    "        \n",
    "        OUTPUT:\n",
    "            @param tagget_text: POS-tagged text\n",
    "            @type tagget_text: str\n",
    "        \n",
    "    \"\"\"\n",
    "    \n",
    "    ## Apply language model to a text\n",
    "    document = nlp(text)\n",
    "    \n",
    "    ## Apply word-tagging\n",
    "    tagget_text = ''.join( f'{word.text}/{word.pos_} ' for word in document )\n",
    "    \n",
    "    ## Remove any white spaces at the end of the string  \n",
    "    tagget_text = tagget_text.rstrip()\n",
    "    \n",
    "    ## Return tagged text\n",
    "    return tagget_text"
   ]
  },
  {
   "cell_type": "code",
   "execution_count": null,
   "id": "a2ef4bde-c8de-4744-bab3-1e4b3f20b823",
   "metadata": {},
   "outputs": [],
   "source": []
  },
  {
   "cell_type": "markdown",
   "id": "444ad6b7-eb4f-40ed-8a51-3188a39c6a76",
   "metadata": {},
   "source": [
    "## Extracción de términos numéricos enteros"
   ]
  },
  {
   "cell_type": "code",
   "execution_count": null,
   "id": "24a5a373-6c70-4ef3-b67b-b2f4ab13ca07",
   "metadata": {},
   "outputs": [],
   "source": [
    "## Inserción del texto\n",
    "texto = 'El numero de personas infectadas pasó de 1000 a 2001 en una semana.'\n",
    "\n",
    "## Extracción de los tokens numéricos enteros en el texto\n",
    "## Patron numerico en expresión regular\n",
    "patron = '[0-9]+'\n",
    "\n",
    "## Find all tokens that match the pattern\n",
    "token_numericos = re.findall(pattern=patron, string=texto)\n",
    "\n",
    "## Mostrar la lista de los tokens numericos\n",
    "token_numericos\n"
   ]
  },
  {
   "cell_type": "code",
   "execution_count": null,
   "id": "656a518c",
   "metadata": {},
   "outputs": [],
   "source": []
  },
  {
   "cell_type": "markdown",
   "id": "8290eb09",
   "metadata": {},
   "source": [
    "## Extracción de pronombres"
   ]
  },
  {
   "cell_type": "code",
   "execution_count": null,
   "id": "d10b4069",
   "metadata": {},
   "outputs": [],
   "source": [
    "## Establecer conexión con el archivo de información\n",
    "filename = 'Data/texto_01.txt'\n",
    "file = open(filename, 'r', encoding='utf-8')\n",
    "\n",
    "## Lista para almacenar los pronombres\n",
    "pronom_lista = []\n",
    "\n",
    "## Patron de expresión regular para extrae PROPN o NOUN\n",
    "patron = '(\\w+)/(PROPN|NOUN)'\n",
    "\n",
    "for line in file:\n",
    "    \n",
    "    ## Eliminar espacios vacios al final del text.\n",
    "    text = line.rstrip()\n",
    "    \n",
    "    ## Aplicar POS tagging al texto\n",
    "    text_POS = pos_tagger(text)\n",
    "    \n",
    "    ## Extract words from POS tagged text based on the RE pattern\n",
    "    word_list = [w for (w,t) in re.findall(pattern=patron, string=text_POS)]\n",
    "\n",
    "    if len(word_list):\n",
    "        ## Si hay al menos una palabra, se almacena en la lista de pronombres\n",
    "        pronom_lista.append(word_list)\n",
    "\n",
    "## Cerrar la coneion con el archivo de información\n",
    "file.close()\n",
    "\n",
    "## Mostrar la lista de pronombres\n",
    "pronom_lista"
   ]
  },
  {
   "cell_type": "code",
   "execution_count": null,
   "id": "a6fdf7cb",
   "metadata": {},
   "outputs": [],
   "source": []
  },
  {
   "cell_type": "markdown",
   "id": "1a84d7fa",
   "metadata": {},
   "source": [
    "## Extracción de información relevante basada en relación. "
   ]
  },
  {
   "cell_type": "code",
   "execution_count": null,
   "id": "b932e7e9-6ebd-4a10-9afa-d9a777b41e13",
   "metadata": {},
   "outputs": [],
   "source": [
    "## Inserción del texto\n",
    "texto = 'Jenny, gerente de la AMD'\n",
    "\n",
    "## Aplicar POS tagging al texto\n",
    "text_POS = pos_tagger(texto)\n",
    "\n",
    "## Patron en expresión regular para reconocimiento\n",
    "name = '(\\s*(\\w+)/PROPN)+\\s*'\n",
    "position = '\\,/PUNCT\\s*(\\w+)/NOUN'\n",
    "separator = '\\s*\\w+/ADP\\s*\\w+/DET\\s*'\n",
    "organization = '(\\w+)/PROPN'\n",
    "\n",
    "patron = name + position + separator + organization\n",
    "\n",
    "## Encontrar el primer match del patron en el texto\n",
    "relacion = re.search(pattern=patron, string=text_POS)\n",
    "\n",
    "## Mostrar hallazgo\n",
    "print(relacion)\n",
    "\n",
    "## Mostrar la relación\n",
    "if relacion is not None:\n",
    "    for i in range(1, len(relacion.groups())):\n",
    "        print(relacion.groups()[i])"
   ]
  }
 ],
 "metadata": {
  "kernelspec": {
   "display_name": "Python 3",
   "language": "python",
   "name": "python3"
  },
  "language_info": {
   "codemirror_mode": {
    "name": "ipython",
    "version": 3
   },
   "file_extension": ".py",
   "mimetype": "text/x-python",
   "name": "python",
   "nbconvert_exporter": "python",
   "pygments_lexer": "ipython3",
   "version": "3.10.11"
  }
 },
 "nbformat": 4,
 "nbformat_minor": 5
}
