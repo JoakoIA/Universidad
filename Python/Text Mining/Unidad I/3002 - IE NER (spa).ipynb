{
 "cells": [
  {
   "cell_type": "markdown",
   "id": "15fe088d",
   "metadata": {},
   "source": [
    "## __Text mining y Procesamiento de Lenguaje Natural (NLP)__\n",
    "\n",
    "__Profesor__: Anthony D. Cho\n",
    "\n",
    "__Tema__: Análisis sintáctico\n",
    "\n",
    "__Método__: Extracción de información - Named-Entity Recognition (NER)\n",
    "\n",
    "***"
   ]
  },
  {
   "cell_type": "code",
   "execution_count": null,
   "id": "04b5dd63-8d16-4a7a-892b-db0cb0d4cec8",
   "metadata": {},
   "outputs": [],
   "source": []
  },
  {
   "cell_type": "markdown",
   "id": "f68b1568-fe29-48ed-aef5-edd40aa23b8a",
   "metadata": {},
   "source": [
    "__Dependencias__\n",
    "\n",
    "```python\n",
    "    python -m pip install nltk spacy\n",
    "    python -m spacy download en_core_web_sm\n",
    "    python -m spacy download es_core_news_sm\n",
    "    \n",
    "```"
   ]
  },
  {
   "cell_type": "code",
   "execution_count": null,
   "id": "7f1d4a91-5a6e-4626-bfcc-b8a6f9471cf5",
   "metadata": {},
   "outputs": [],
   "source": []
  },
  {
   "cell_type": "markdown",
   "id": "69669fcb-9853-45dc-80a7-b6762687c8f4",
   "metadata": {},
   "source": [
    "### Librerias"
   ]
  },
  {
   "cell_type": "code",
   "execution_count": null,
   "id": "63d0d71e",
   "metadata": {},
   "outputs": [],
   "source": [
    "import re\n",
    "from spacy import load, explain, displacy\n",
    "\n",
    "## Carga del modelo de lenguaje\n",
    "nlp = load('es_core_news_sm')"
   ]
  },
  {
   "cell_type": "code",
   "execution_count": null,
   "id": "a85c6224-5ff5-41e8-ba25-58be64d9fd52",
   "metadata": {},
   "outputs": [],
   "source": []
  },
  {
   "cell_type": "markdown",
   "id": "444ad6b7-eb4f-40ed-8a51-3188a39c6a76",
   "metadata": {},
   "source": [
    "## Carga de información"
   ]
  },
  {
   "cell_type": "code",
   "execution_count": null,
   "id": "24a5a373-6c70-4ef3-b67b-b2f4ab13ca07",
   "metadata": {},
   "outputs": [],
   "source": [
    "## Establecer conexión con el archivo de información\n",
    "filename = 'Data/texto_03_spa.txt'\n",
    "file = open(filename, 'r', encoding='utf-8')\n",
    "\n",
    "## Cargar el contenido del archivo de información \n",
    "texto = file.read()\n",
    "\n",
    "## Eliminar el espacio vacio sobrante al final del texto cargado\n",
    "texto.rstrip()\n",
    "\n",
    "## Cerrar conexión con el archivo de información\n",
    "file.close()\n",
    "\n",
    "## Mostrar el texto cargado\n",
    "print(texto)"
   ]
  },
  {
   "cell_type": "code",
   "execution_count": null,
   "id": "356395e9",
   "metadata": {},
   "outputs": [],
   "source": []
  },
  {
   "cell_type": "markdown",
   "id": "8f656847",
   "metadata": {},
   "source": [
    "#### Extracción de entidades"
   ]
  },
  {
   "cell_type": "code",
   "execution_count": null,
   "id": "9c8e564f",
   "metadata": {},
   "outputs": [],
   "source": [
    "## Aplicar el modelo de lenguaje al texto\n",
    "documento = nlp(texto)\n",
    "\n",
    "## Extraer las entidades detectada por el modelo de lenguaje\n",
    "entidades = [NE for NE in documento.ents]\n",
    "\n",
    "## Mostrar las entidades encontradas\n",
    "entidades"
   ]
  },
  {
   "cell_type": "code",
   "execution_count": null,
   "id": "7815dd22-dd0b-4c07-89bd-39ba3b8f0744",
   "metadata": {},
   "outputs": [],
   "source": []
  },
  {
   "cell_type": "markdown",
   "id": "5fb90649",
   "metadata": {},
   "source": [
    "#### Descripción de las entidades"
   ]
  },
  {
   "cell_type": "code",
   "execution_count": null,
   "id": "7ee33a0d",
   "metadata": {},
   "outputs": [],
   "source": [
    "for entidad in entidades:\n",
    "    print('{} - {}. ({})'.format(entidad.text, entidad.label_, explain(entidad.label_)), end=2*'\\n')"
   ]
  },
  {
   "cell_type": "code",
   "execution_count": null,
   "id": "ce3bc39c-ae22-4441-908d-90c2f2e2d601",
   "metadata": {},
   "outputs": [],
   "source": []
  },
  {
   "cell_type": "markdown",
   "id": "0665529c",
   "metadata": {},
   "source": [
    "#### Filtrado de entidades"
   ]
  },
  {
   "cell_type": "code",
   "execution_count": null,
   "id": "0d11e7d3",
   "metadata": {},
   "outputs": [],
   "source": [
    "## Tipo de entidad a filtrar\n",
    "tipo_entidad = 'PER'\n",
    "\n",
    "## Espacio para almacenado de las entidades filtrados\n",
    "entidades_filtradas = []\n",
    "\n",
    "for entidad in entidades:\n",
    "    if entidad.label_ == tipo_entidad:\n",
    "        \n",
    "        ## Si la entidad coincide se almacena el token en la lista filtrada\n",
    "        entidades_filtradas.append(entidad.text)\n",
    "\n",
    "## Mostrar la lista de netidades filtradas\n",
    "entidades_filtradas"
   ]
  },
  {
   "cell_type": "code",
   "execution_count": null,
   "id": "39c55f90-454f-469d-839b-54fdab806afe",
   "metadata": {},
   "outputs": [],
   "source": []
  },
  {
   "cell_type": "markdown",
   "id": "fbf10a09",
   "metadata": {},
   "source": [
    "#### Visualizador de entidades"
   ]
  },
  {
   "cell_type": "code",
   "execution_count": null,
   "id": "343e927e-fcab-41c4-b62c-5e39197eae8d",
   "metadata": {},
   "outputs": [],
   "source": [
    "## Visualizador de entidades\n",
    "\n",
    "documento = nlp(texto)\n",
    "\n",
    "## Entity visualizer, ent, highlights named entities and their labels in a text.\n",
    "displacy.render(documento, style='ent', jupyter=True)"
   ]
  },
  {
   "cell_type": "code",
   "execution_count": null,
   "id": "64d727a5-e0f8-4037-a994-81e06f784f6c",
   "metadata": {},
   "outputs": [],
   "source": []
  }
 ],
 "metadata": {
  "kernelspec": {
   "display_name": "Python 3",
   "language": "python",
   "name": "python3"
  },
  "language_info": {
   "codemirror_mode": {
    "name": "ipython",
    "version": 3
   },
   "file_extension": ".py",
   "mimetype": "text/x-python",
   "name": "python",
   "nbconvert_exporter": "python",
   "pygments_lexer": "ipython3",
   "version": "3.10.11"
  }
 },
 "nbformat": 4,
 "nbformat_minor": 5
}
