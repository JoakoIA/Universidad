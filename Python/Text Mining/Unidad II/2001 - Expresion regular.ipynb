{
 "cells": [
  {
   "cell_type": "markdown",
   "metadata": {},
   "source": [
    "## __Text mining y Procesamiento de Lenguaje Natural (NLP)__\n",
    "\n",
    "__Profesor__: Anthony D. Cho\n",
    "\n",
    "__Asunto__: Expresión regular\n",
    "\n",
    "***"
   ]
  },
  {
   "cell_type": "markdown",
   "metadata": {},
   "source": [
    "## Operadores simples"
   ]
  },
  {
   "cell_type": "markdown",
   "metadata": {},
   "source": [
    "<center>\n",
    "\n",
    "| **Operador** | **Descripción** | **Ejemplo** |\n",
    "|------------|----------------------------|-------------|\n",
    "| ^          | Empieza con                | \"^hola\"     |\n",
    "| $          | Termina con                | \"ido$\"      |\n",
    "| [ ]         | Un conjunto de caracteres | \"[a-m]\"     |\n",
    "| .          | Cualquier carater (Excepto caracter de nueva linea) | \"p..o\" |\n",
    "| ?          | Cero o una ocurrencia      | \"pe.?o\"     |\n",
    "| *          | Cero o más ocurrencias     | \"pe.*o\"     |\n",
    "| +          | Una o más ocurrencias      | \"pe.+o\"     |\n",
    "| { }         | Cantidad expecífica de ocurrencias | \"pe.{3}o\" |\n",
    "| \\|           | Uno o otro                | \"pepe\\|perro\" |\n",
    "\n",
    "</center>"
   ]
  },
  {
   "cell_type": "markdown",
   "metadata": {},
   "source": [
    "## Operadores especiales"
   ]
  },
  {
   "cell_type": "markdown",
   "metadata": {},
   "source": [
    "<center>\n",
    "\n",
    "| **Operador** | **Descripción** | **Ejemplo** |\n",
    "|------------|----------------------------|-------------|\n",
    "| \\A          | Retorna un match si el patron se encuentra al inicio de la cadena de caracteres                | \"\\Ahola\"     |\n",
    "| \\b          | Retorna los matches donde el patrón está al inicio o al final de una palabra  | r\"\\bido\" o r\"ido\\b\"      |\n",
    "| \\B         | Retorna los matches donde el patrón esté presente pero que no esté al inicio o al final de una palabra | r\"\\Bido\" o r\"ido\\B\"     |\n",
    "| \\d          | Retorna la lista de digitos que aparecen en una cadena de caracteres | \"\\d\" |\n",
    "| \\D          | Retorna los caracteres que no sean digitos en una cadena de caracteres       | \"\\D\"     |\n",
    "| \\s          | Retorna una lista de espacios vacios en una cadena de caracteres  | \"\\s\"     |\n",
    "| \\S          | Retorna una lista de caracteres sin espacios vacios | \"\\S\"     |\n",
    "| \\w         | Retona una lista de caracteres [a-Z], digitos [0-9] y underscore _ en una cadena de caracteres | \"\\w\" |\n",
    "| \\W          | Retorna el complemento de \\w.                | \"\\W\" |\n",
    "| \\Z          | Retorna un match si el patron está al final de la cadena de caracteres | \"Hola\\Z\"\n",
    "\n",
    "</center>"
   ]
  },
  {
   "cell_type": "markdown",
   "metadata": {},
   "source": [
    "## Conjuntos"
   ]
  },
  {
   "cell_type": "markdown",
   "metadata": {},
   "source": [
    "<center>\n",
    "\n",
    "| **Conjunto** | **Descripción** |\n",
    "|------------|----------------------------|\n",
    "| [pqt]      | Retorna una lista de match de cada caracter indicado (p, q, t) |\n",
    "| [a-n]      | Retorna una lista de match de los caracteres entre a y n (minuscula) |\n",
    "| [^pqt]     | Retorna una lista de match de cualquier caracter excepto p, q, t |\n",
    "| [0123]     | Retorna una lista de match de los digitos indicados (0, 1, 2, 3) |\n",
    "| [0-9]      | Retorna una lista de match de los digitos entre 0 y 9 |\n",
    "| [0-5][0-9] | Retorna una lista de match números de dos digitos entre 00 y 59 |\n",
    "| [a-zA-Z]   | Retorna una lista de match de caracter entre a y z (minusculas y mayusculas) |\n",
    "| [+]        | En conjuntos +, *, ., \\|, (), $, {} no tiene significado especial, por tanto, el conjunto [+] retorna la lista de match que coincida con el simbolo '+' | \n",
    "\n",
    "</center>"
   ]
  },
  {
   "cell_type": "markdown",
   "metadata": {},
   "source": [
    "## Funciones"
   ]
  },
  {
   "cell_type": "markdown",
   "metadata": {},
   "source": [
    "<center>\n",
    "\n",
    "| **Función** | **Descripción** |\n",
    "|------------|----------------------------|\n",
    "| findall    | Retorna una lista que contiene todos los matches con un patron definido |\n",
    "| search     | Retorna un __objeto Match__ si existe un match, si hay varios retorna el primero que encuentre.     |\n",
    "| split      | Retorna una lista de candenas de caracteres donde los cortes coincida con el patron definido |\n",
    "| sub        | Reemplaza uno o varios maches con la cadena de caracteres |\n",
    "\n",
    "</center>"
   ]
  },
  {
   "cell_type": "markdown",
   "metadata": {},
   "source": []
  },
  {
   "cell_type": "markdown",
   "metadata": {},
   "source": [
    "#### Algunas fuentes de documentaciones y ejemplos"
   ]
  },
  {
   "cell_type": "markdown",
   "metadata": {},
   "source": [
    "* [Python RegEx](https://www.w3schools.com/python/python_regex.asp)\n",
    "* [Regular expression operations](https://docs.python.org/3/library/re.html)\n",
    "* [Regular Expressions: Regexes in Python (Part 1)](https://realpython.com/regex-python/)\n",
    "* [Regular Expressions: Regexes in Python (Part 2)](https://realpython.com/regex-python-part-2/)"
   ]
  },
  {
   "cell_type": "markdown",
   "metadata": {},
   "source": [
    "#### Libreria"
   ]
  },
  {
   "cell_type": "code",
   "execution_count": null,
   "metadata": {},
   "outputs": [],
   "source": [
    "import re"
   ]
  },
  {
   "cell_type": "markdown",
   "metadata": {},
   "source": [
    "## Verificar si la cadena de caracteres empieza con \"No\" y termina en \"mí\" "
   ]
  },
  {
   "cell_type": "code",
   "execution_count": null,
   "metadata": {},
   "outputs": [],
   "source": [
    "## Inserción de la candena de caracteres o frase\n",
    "cadena = 'No me importa lo que la sociedad diga de mí'\n",
    "\n",
    "## Encontrar un match si empieza con \"No\" y termina en \"mí\".\n",
    "indicator = re.search(pattern=\"^No.*mí$\", \n",
    "                      string=cadena)\n",
    "\n",
    "## Imprimir contenido del indicador\n",
    "print(indicator)\n",
    "\n",
    "## Un reporte simple\n",
    "if indicator:\n",
    "    print('Si, hay un match!')\n",
    "else:\n",
    "    print('No hay match')"
   ]
  },
  {
   "cell_type": "code",
   "execution_count": null,
   "metadata": {},
   "outputs": [],
   "source": [
    "## Pedir e imprimir la terna que representa la posicion en que inicia y termina la cadena de caracteres\n",
    "print(indicator.span())"
   ]
  },
  {
   "cell_type": "code",
   "execution_count": null,
   "metadata": {},
   "outputs": [],
   "source": [
    "## Pedir e imprimir la cadena de caracteres que fue pasada a la funcion\n",
    "print(indicator.string)"
   ]
  },
  {
   "cell_type": "code",
   "execution_count": null,
   "metadata": {},
   "outputs": [],
   "source": [
    "## Pedir e imprimir la parte de la cadena de caracteres que hizo el match con el patron\n",
    "print(indicator.group())"
   ]
  },
  {
   "cell_type": "markdown",
   "metadata": {},
   "source": [
    "## Encontrar una lista de caracteres que hace match entre la cadena de caracteres y las letras entre a y k"
   ]
  },
  {
   "cell_type": "code",
   "execution_count": null,
   "metadata": {},
   "outputs": [],
   "source": [
    "## Inserción de la candena de caracteres o frase\n",
    "cadena = 'No me importa lo que la sociedad diga de mí'\n",
    "\n",
    "## Buscar todos los caracteres que coincida con el patron indicado\n",
    "lista = re.findall(pattern=\"[a-k]\", \n",
    "                   string=cadena)\n",
    "print(lista)"
   ]
  },
  {
   "cell_type": "markdown",
   "metadata": {},
   "source": [
    "## Encontrar las palabras que terminan en \"a\""
   ]
  },
  {
   "cell_type": "code",
   "execution_count": null,
   "metadata": {},
   "outputs": [],
   "source": [
    "## Inserción de la candena de caracteres o frase\n",
    "cadena = 'No me importa lo que la sociedad diga de mí'\n",
    "\n",
    "## Buscar todos los caracteres que coincida con el patron indicado\n",
    "lista = re.findall(pattern=r\"[^\\s]*a\\b\", \n",
    "                   string=cadena)\n",
    "print(lista)"
   ]
  },
  {
   "cell_type": "markdown",
   "metadata": {},
   "source": [
    "## Extrar los términos numericos en una cadena de caraceres"
   ]
  },
  {
   "cell_type": "code",
   "execution_count": null,
   "metadata": {},
   "outputs": [],
   "source": [
    "## Inserción de la candena de caracteres o frase\n",
    "cadena = 'No me {importa} lo que la [sociedad] diga de mí en 2015 a las 16:00'\n",
    "\n",
    "## Separamos las palabras con un solo espaciado vacio\n",
    "lista = re.findall(pattern=\"\\d\", \n",
    "                   string=cadena)\n",
    "print(lista)"
   ]
  },
  {
   "cell_type": "markdown",
   "metadata": {},
   "source": [
    "## Separar la cadena de caracteres mediante un patron"
   ]
  },
  {
   "cell_type": "code",
   "execution_count": null,
   "metadata": {},
   "outputs": [],
   "source": [
    "## Inserción de la candena de caracteres o frase\n",
    "cadena = 'No me {importa} lo que la [sociedad] diga de mí en 2015 a las 16:00'\n",
    "\n",
    "## Separamos las palabras con un solo espaciado vacio\n",
    "lista = re.split(pattern=\"\\s\", \n",
    "                 string=cadena, \n",
    "                 maxsplit=0)\n",
    "print(lista)"
   ]
  },
  {
   "cell_type": "markdown",
   "metadata": {},
   "source": [
    "## Reemplazar algunos caracteres en una cadena de caracteres"
   ]
  },
  {
   "cell_type": "code",
   "execution_count": null,
   "metadata": {},
   "outputs": [],
   "source": [
    "## Inserción de la candena de caracteres o frase\n",
    "cadena = 'No me {importa} lo que la [sociedad] diga de mí en 2015 a las 16:00'\n",
    "\n",
    "## Separamos las palabras con un solo espaciado vacio\n",
    "lista = re.sub(pattern=\"[\\[\\]\\{\\}]\", \n",
    "               repl='',\n",
    "               string=cadena, \n",
    "               count=0)\n",
    "print(lista)"
   ]
  }
 ],
 "metadata": {
  "kernelspec": {
   "display_name": "Python 3",
   "language": "python",
   "name": "python3"
  },
  "language_info": {
   "codemirror_mode": {
    "name": "ipython",
    "version": 3
   },
   "file_extension": ".py",
   "mimetype": "text/x-python",
   "name": "python",
   "nbconvert_exporter": "python",
   "pygments_lexer": "ipython3",
   "version": "3.10.11"
  },
  "orig_nbformat": 4
 },
 "nbformat": 4,
 "nbformat_minor": 2
}
