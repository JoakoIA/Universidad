{
 "cells": [
  {
   "cell_type": "markdown",
   "id": "6eaad305-65bd-4578-91ab-53dbb1918092",
   "metadata": {},
   "source": [
    "## __Text mining y Procesamiento de Lenguaje Natural (NLP)__\n",
    "\n",
    "__Profesor__: Anthony D. Cho\n",
    "\n",
    "__Tema__: Análisis sintáctico\n",
    "\n",
    "__Método__: Full parsing \n",
    "\n",
    "***"
   ]
  },
  {
   "cell_type": "code",
   "execution_count": null,
   "id": "455efe2d-cc5b-4d32-a63e-9645e32d5cba",
   "metadata": {},
   "outputs": [],
   "source": []
  },
  {
   "cell_type": "markdown",
   "id": "97a3bd45-2412-4630-8602-afd69500dbc5",
   "metadata": {},
   "source": [
    "__Dependencias__\n",
    "\n",
    "```python\n",
    "    python3 -m pip install nltk spacy\n",
    "    python3 -m spacy download en_core_web_sm\n",
    "    python3 -m spacy download es_core_news_sm\n",
    "    \n",
    "    python3 -m pip install svglib\n",
    "```"
   ]
  },
  {
   "cell_type": "markdown",
   "id": "e8af83d9-29de-40d8-81cc-e40ce5165e26",
   "metadata": {},
   "source": [
    "[Lista de terminos (Ingles) de full parsing - Spacy](https://github.com/clir/clearnlp-guidelines/blob/master/md/specifications/dependency_labels.md)\n",
    "\n",
    "[Glosario de término general - SpaCy](https://github.com/explosion/spaCy/blob/master/spacy/glossary.py)\n",
    "\n",
    "[Glosario de término universal de relación-dependencia](https://universaldependencies.org/u/dep/)"
   ]
  },
  {
   "cell_type": "code",
   "execution_count": null,
   "id": "9f748b9f-1f03-42ba-9ac6-a54c21ec10b0",
   "metadata": {},
   "outputs": [],
   "source": []
  },
  {
   "cell_type": "markdown",
   "id": "b6524378-6ec8-45ca-8fca-a95a5d8e758a",
   "metadata": {},
   "source": [
    "### Librerias"
   ]
  },
  {
   "cell_type": "code",
   "execution_count": null,
   "id": "016cfa8f-3d32-46ab-9c2f-ad8a91c04898",
   "metadata": {},
   "outputs": [],
   "source": [
    "from os import mkdir\n",
    "from os.path import exists\n",
    "from pathlib import Path\n",
    "\n",
    "from svglib.svglib import svg2rlg\n",
    "from reportlab.graphics import renderPDF\n",
    "\n",
    "from spacy import load, displacy\n",
    "\n",
    "## Cargar el modelo del lenguaje\n",
    "nlp = load('es_core_news_sm')"
   ]
  },
  {
   "cell_type": "code",
   "execution_count": null,
   "id": "2a463067-747c-40dc-a6ec-f0a4dabf0969",
   "metadata": {},
   "outputs": [],
   "source": []
  },
  {
   "cell_type": "markdown",
   "id": "bab3bed1-f31e-4ad8-aec5-e67bd58d95f6",
   "metadata": {},
   "source": [
    "### Declaración de funciones"
   ]
  },
  {
   "cell_type": "code",
   "execution_count": null,
   "id": "f173628b-d70e-482a-81c9-e8ce31e66d4c",
   "metadata": {},
   "outputs": [],
   "source": [
    "def readText(filename, sep='.'):\n",
    "    \"\"\"\n",
    "        DESCRIPTION:\n",
    "            Read a document content\n",
    "            \n",
    "        INPUT:\n",
    "            @param filename: plain text filename.\n",
    "            @type filename: str\n",
    "            \n",
    "        OUTPUT:\n",
    "            @param text: text splitted by a given pattern.\n",
    "            @type text: str\n",
    "    \n",
    "    \"\"\"\n",
    "    \n",
    "    ## Open plain text file\n",
    "    file = open(file=filename, mode='r', encoding='utf-8')\n",
    "    \n",
    "    ## Read file content and split by \"sep\" pattern\n",
    "    content = file.read().split(sep=sep)\n",
    "    \n",
    "    ## Close file\n",
    "    file.close()\n",
    "    \n",
    "    ## Return splitted content\n",
    "    return content\n"
   ]
  },
  {
   "cell_type": "code",
   "execution_count": null,
   "id": "9039c094-63b6-4298-9f6e-4b4ad68b87a0",
   "metadata": {},
   "outputs": [],
   "source": [
    "def createOutputFile(sentence_id, image, output_folder=''):\n",
    "    \"\"\"\n",
    "        DESCRIPTION:\n",
    "            Build full parsing graph of a sentence\n",
    "        \n",
    "        INPUT:\n",
    "            @param sentence_id: the id of a sentence\n",
    "            @type sentence_id: int\n",
    "            \n",
    "            @param image: \n",
    "            @type image: str\n",
    "            \n",
    "            @param output_folder: folder path for images storage. \n",
    "            @type output_folder: str\n",
    "        \n",
    "        OUTPUT:\n",
    "            SVG Images\n",
    "    \"\"\"\n",
    "        \n",
    "    if len(output_folder):\n",
    "        if not exists(output_folder):\n",
    "            mkdir(output_folder)\n",
    "        \n",
    "        filename = f'{output_folder}/FP_File_{sentence_id:03}.svg'\n",
    "    else:\n",
    "        filename = f'FP_File_{sentence_id:03}.svg'\n",
    "    \n",
    "    ## Output file path\n",
    "    output_path = Path(filename)\n",
    "    \n",
    "    ## Export image to a svg file\n",
    "    output_path.open('w', encoding=\"utf-8\").write(image)\n",
    "    \n",
    "    ## Export to pdf\n",
    "    drawing = svg2rlg(filename)\n",
    "    renderPDF.drawToFile(drawing, f'{filename[:-4]}.pdf')"
   ]
  },
  {
   "cell_type": "code",
   "execution_count": null,
   "id": "388b0b7b-cbd4-4d04-a6a4-c2bd2391dd1f",
   "metadata": {},
   "outputs": [],
   "source": []
  },
  {
   "cell_type": "markdown",
   "id": "488587c3-0804-4877-a88f-bbed3c0075e5",
   "metadata": {},
   "source": [
    "## Ejecuciones"
   ]
  },
  {
   "cell_type": "markdown",
   "id": "76f0e191-8cb0-456f-869e-c43569ac961c",
   "metadata": {},
   "source": [
    "#### Test inicial"
   ]
  },
  {
   "cell_type": "code",
   "execution_count": null,
   "id": "9ff31e02-6ec9-4a03-91fb-3a78ef06d531",
   "metadata": {},
   "outputs": [],
   "source": [
    "## Contenido del texto\n",
    "texto = \"El vuelo llegó sin problema\"\n",
    "\n",
    "## Aplicar modelo de lenaguaje al texto\n",
    "documento = nlp(text=texto)\n",
    "\n",
    "## Extraer dependencias a partir del modelo\n",
    "dependencias = [word.dep_ for word in documento]\n",
    "dependencias"
   ]
  },
  {
   "cell_type": "code",
   "execution_count": null,
   "id": "75a67939-2a54-4974-afa1-13ec549eeeb7",
   "metadata": {},
   "outputs": [],
   "source": [
    "## Mostrar en entorno jupyter\n",
    "onJupyter = True\n",
    "image = displacy.render(documento, style='dep', jupyter=onJupyter)\n",
    "\n",
    "## Exportar imagen a SVG y PDF\n",
    "if not onJupyter: \n",
    "    createOutputFile(sentence_id=100, image=image, output_folder='outputs')"
   ]
  },
  {
   "cell_type": "markdown",
   "id": "f1d02f1c-2074-47b1-9ece-9a428db696f6",
   "metadata": {},
   "source": [
    "#### Carga de información"
   ]
  },
  {
   "cell_type": "code",
   "execution_count": null,
   "id": "1be3781a-1f3d-48c5-a326-7c1892821ca1",
   "metadata": {},
   "outputs": [],
   "source": [
    "filename = 'Data/texto_02.txt'\n",
    "texto = readText(filename=filename)\n",
    "\n",
    "print('Numero de oraciones: {}'.format(len(texto)))\n",
    "texto"
   ]
  },
  {
   "cell_type": "code",
   "execution_count": null,
   "id": "9e5665ee-6669-4b47-b88c-cccb08fa9d6e",
   "metadata": {},
   "outputs": [],
   "source": []
  },
  {
   "cell_type": "markdown",
   "id": "b6763096-a5ac-47fd-a03a-e1f2b5851149",
   "metadata": {},
   "source": []
  },
  {
   "cell_type": "code",
   "execution_count": null,
   "id": "e310ee5e-9bec-44d9-9b26-e9eefe61a8d3",
   "metadata": {},
   "outputs": [],
   "source": [
    "## Mostrar en entorno jupyter\n",
    "onJupyter = True\n",
    "\n",
    "for i, sentence in enumerate(texto):\n",
    "    \n",
    "    ## Aplicación del modelo de lenguaje al texto.\n",
    "    document = nlp(sentence)\n",
    "    \n",
    "    ## Visualizar las dependencias o relaciones\n",
    "    image = displacy.render(document, style='dep', jupyter=onJupyter)\n",
    "    \n",
    "    if not onJupyter:\n",
    "        ## Exportar el esquema de dependencias-relaciones\n",
    "        createOutputFile(i, image, 'outputs')\n",
    "    \n"
   ]
  },
  {
   "cell_type": "code",
   "execution_count": null,
   "id": "0e3d8527-56d9-473b-812a-711767fb06cd",
   "metadata": {},
   "outputs": [],
   "source": []
  },
  {
   "cell_type": "code",
   "execution_count": null,
   "id": "79d04d32-efe8-4f23-9e41-30bcc53bfbf4",
   "metadata": {},
   "outputs": [],
   "source": []
  },
  {
   "cell_type": "code",
   "execution_count": null,
   "id": "b3cfeac3-9297-41d8-b903-4f32a09f717b",
   "metadata": {},
   "outputs": [],
   "source": []
  },
  {
   "cell_type": "code",
   "execution_count": null,
   "id": "b3437f86-16e2-45b9-a2aa-30ad5ca290cc",
   "metadata": {},
   "outputs": [],
   "source": []
  }
 ],
 "metadata": {
  "kernelspec": {
   "display_name": "Python 3",
   "language": "python",
   "name": "python3"
  },
  "language_info": {
   "codemirror_mode": {
    "name": "ipython",
    "version": 3
   },
   "file_extension": ".py",
   "mimetype": "text/x-python",
   "name": "python",
   "nbconvert_exporter": "python",
   "pygments_lexer": "ipython3",
   "version": "3.10.11"
  }
 },
 "nbformat": 4,
 "nbformat_minor": 5
}
