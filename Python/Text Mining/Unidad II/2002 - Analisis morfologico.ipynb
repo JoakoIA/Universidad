{
 "cells": [
  {
   "cell_type": "markdown",
   "id": "e1158671-1e64-48e1-b551-d2e6acea39c2",
   "metadata": {},
   "source": [
    "## __Text mining y Procesamiento de Lenguaje Natural (NLP)__\n",
    "\n",
    "__Profesor__: Anthony D. Cho\n",
    "\n",
    "__Tema__: Análisis morfológico\n",
    "\n",
    "***"
   ]
  },
  {
   "cell_type": "markdown",
   "id": "c9be3fbf",
   "metadata": {},
   "source": [
    "__Documentación__:\n",
    "\n",
    "* [Documentacion de Spacy](https://spacy.io/models)\n",
    "* [Documentacion de NLTK](https://www.nltk.org/)"
   ]
  },
  {
   "cell_type": "markdown",
   "id": "3826c8ac-cc91-445f-a400-955a5cf3a493",
   "metadata": {},
   "source": [
    "__Dependencias__\n",
    "\n",
    "```python\n",
    "    python3 -m pip install nltk spacy\n",
    "    python3 -m spacy download en_core_web_sm\n",
    "    python3 -m spacy download es_core_news_sm\n",
    "```"
   ]
  },
  {
   "cell_type": "markdown",
   "id": "c3329aaa-b6c2-4360-8586-5228c1379363",
   "metadata": {},
   "source": [
    "### Librerias"
   ]
  },
  {
   "cell_type": "code",
   "execution_count": 43,
   "id": "ffa2c20e",
   "metadata": {},
   "outputs": [],
   "source": [
    "from spacy import load\n",
    "from spacy.lang.es.stop_words import STOP_WORDS\n",
    "from string import punctuation\n",
    "import re\n",
    "from nltk.stem import SnowballStemmer \n",
    "\n",
    "## Cargar el modelo del lenguaje\n",
    "nlp = load('es_core_news_sm')\n",
    "# nlp = load('en_core_web_sm')\n",
    "\n",
    "## Modelo de Stemming\n",
    "stemmer = SnowballStemmer('spanish')    \n",
    "\n",
    "## Agregar simbolos de puntuaciones\n",
    "punctuation = punctuation + '¿°'"
   ]
  },
  {
   "cell_type": "code",
   "execution_count": null,
   "id": "e3ac7b60",
   "metadata": {},
   "outputs": [],
   "source": []
  },
  {
   "cell_type": "markdown",
   "id": "4b4627fe-17c0-4fba-9827-4220786edd88",
   "metadata": {},
   "source": [
    "## Ejecuciones"
   ]
  },
  {
   "cell_type": "markdown",
   "id": "7f2cb8b2",
   "metadata": {},
   "source": [
    "#### Carga de texto:"
   ]
  },
  {
   "cell_type": "code",
   "execution_count": 18,
   "id": "9b083a01",
   "metadata": {},
   "outputs": [
    {
     "name": "stdout",
     "output_type": "stream",
     "text": [
      "Cantidad de oraciones: 6\n"
     ]
    }
   ],
   "source": [
    "filename = \"Data/texto_01.txt\"\n",
    "\n",
    "## Abrir el archivo de texto plano\n",
    "file = open(file=filename, mode='r', encoding='utf-8')\n",
    "\n",
    "## Leer el contenido y separarlo por '.'\n",
    "texts = file.read().split('.')\n",
    "\n",
    "## Cerrar el archivo\n",
    "file.close()\n",
    "\n",
    "## Mostrar información\n",
    "print('Cantidad de oraciones: {}'.format(len(texts)))"
   ]
  },
  {
   "cell_type": "code",
   "execution_count": 19,
   "id": "6b9b5cc6",
   "metadata": {},
   "outputs": [
    {
     "name": "stdout",
     "output_type": "stream",
     "text": [
      "Sharp lamenta protesta de camioneros en Valparaíso y atribuye responsabilidad al Gobierno El alcalde afirmó que \"hace dos semanas\" enviaron una propuesta al Presidente para abordar las demandas del gremio, que acusa falta de proyectos para reactivar la región\n",
      "\n",
      " \"No tenemos aún respuesta\", aseguró\n",
      "\n",
      "\n",
      "\n",
      "SANTIAGO\n",
      "\n",
      "- El alcalde de Valparaíso, Jorge Sharp (Movimiento Autonomista), salió al paso del reclamo de los camioneros de la región que mantienen bloqueada parte de la Ruta 68, a la altura del cruce La Pólvora, acusando falta de proyectos para reactivar la región\n",
      "\n",
      " Pasada la medianoche, la Federación Regional de Dueños de Camiones (Fedequinta) dio inicio a la manifestación con la que acusan, además, una baja del empleo en la zona\n",
      "\n",
      "\n",
      "\n",
      "\n",
      "\n",
      "\n"
     ]
    }
   ],
   "source": [
    "## Mostrar contenido cargado\n",
    "for text in texts:\n",
    "    print(text, end=2*'\\n')"
   ]
  },
  {
   "cell_type": "markdown",
   "id": "f58a2ea6",
   "metadata": {},
   "source": [
    "#### Limpieza de texto:"
   ]
  },
  {
   "cell_type": "code",
   "execution_count": 35,
   "id": "2380eb38",
   "metadata": {},
   "outputs": [
    {
     "name": "stdout",
     "output_type": "stream",
     "text": [
      "Cantidad de oraciones: 5\n",
      "['sharp lamenta protesta camioneros valparaíso atribuye responsabilidad gobierno alcalde semanas enviaron propuesta presidente abordar demandas gremio acusa falta proyectos reactivar región', 'respuesta', 'santiago', 'alcalde valparaíso jorge sharp movimiento autonomista salió paso reclamo camioneros región mantienen bloqueada ruta altura cruce pólvora acusando falta proyectos reactivar región', 'medianoche federación regional dueños camiones fedequinta inicio manifestación acusan baja empleo zona']\n"
     ]
    }
   ],
   "source": [
    "## Almacenador de textos procesados\n",
    "clean_texts = []\n",
    "\n",
    "for text in texts:\n",
    "\n",
    "    ## Tokenizamos\n",
    "    # Aplicamos el modelo de lenguaje al texto\n",
    "    documento = nlp(text=text)\n",
    "\n",
    "    # Extraemos los tokens del documento, convertir en minuscula y eliminamos los espacios del lado derecho de cada token.\n",
    "    tokens = [palabra.text.lower().rstrip() for palabra in documento]\n",
    "\n",
    "    ## Remover stopwords y puntuaciones\n",
    "    new_tokens = []\n",
    "    for token in tokens:\n",
    "        if (token not in STOP_WORDS) and (token not in punctuation) and (len(token)>0):\n",
    "            new_tokens.append(token)\n",
    "\n",
    "    ## Unimos los tokens filtrados\n",
    "    new_documento = ' '.join(new_tokens)\n",
    "\n",
    "    ## Remover numeros (opcional)\n",
    "    new_documento = re.sub(pattern='\\d', repl='', string=new_documento)\n",
    "\n",
    "    ## Remover espaciados sobrantes\n",
    "    new_documento = re.sub(pattern='\\s+', repl=' ', string=new_documento)\n",
    "\n",
    "    if len(new_documento):\n",
    "        ## Almacenamos el texto limpiado\n",
    "        clean_texts.append( new_documento )\n",
    "\n",
    "## Mostrar información\n",
    "print('Cantidad de oraciones: {}'.format(len(clean_texts)))\n",
    "print(clean_texts)\n"
   ]
  },
  {
   "cell_type": "code",
   "execution_count": 37,
   "id": "b5cc45fd",
   "metadata": {},
   "outputs": [
    {
     "name": "stdout",
     "output_type": "stream",
     "text": [
      "sharp lamenta protesta camioneros valparaíso atribuye responsabilidad gobierno alcalde semanas enviaron propuesta presidente abordar demandas gremio acusa falta proyectos reactivar región\n",
      "\n",
      "respuesta\n",
      "\n",
      "santiago\n",
      "\n",
      "alcalde valparaíso jorge sharp movimiento autonomista salió paso reclamo camioneros región mantienen bloqueada ruta altura cruce pólvora acusando falta proyectos reactivar región\n",
      "\n",
      "medianoche federación regional dueños camiones fedequinta inicio manifestación acusan baja empleo zona\n",
      "\n"
     ]
    }
   ],
   "source": [
    "## Mostrar contenido limpiado\n",
    "for text in clean_texts:\n",
    "    print(text, end=2*'\\n')"
   ]
  },
  {
   "cell_type": "code",
   "execution_count": null,
   "id": "9bb63cd2",
   "metadata": {},
   "outputs": [],
   "source": []
  },
  {
   "cell_type": "markdown",
   "id": "f70c8cf0",
   "metadata": {},
   "source": [
    "#### Lematización:"
   ]
  },
  {
   "cell_type": "code",
   "execution_count": 40,
   "id": "d33f6a76",
   "metadata": {},
   "outputs": [],
   "source": [
    "## Almacenador de textos procesados con lemmatizado\n",
    "lemma_texts = []\n",
    "\n",
    "for text in clean_texts:\n",
    "\n",
    "    ## Aplicamos el modelo de lenguaje al texto de interés.\n",
    "    documento = nlp(text)\n",
    "\n",
    "    ## Extraer los lemmas de modelo de lenguaje procesado.\n",
    "    lemmas = [word.lemma_ for word in documento]\n",
    "\n",
    "    ## Unamos los lemmas para generar una cadena de lemmas\n",
    "    documento_lemma = ' '.join(lemmas)\n",
    "\n",
    "    ## Almacenamos el texto lemmatizado\n",
    "    lemma_texts.append( documento_lemma )"
   ]
  },
  {
   "cell_type": "code",
   "execution_count": 41,
   "id": "ef9520c5",
   "metadata": {},
   "outputs": [
    {
     "name": "stdout",
     "output_type": "stream",
     "text": [
      "sharp lamentar protesta camioneros valparaíso atribuir responsabilidad gobierno alcalde semanas enviar propuesta presidente abordar demanda gremio acusar falta proyecto reactivar región\n",
      "\n",
      "respuesta\n",
      "\n",
      "santiago\n",
      "\n",
      "alcalde valparaíso jorge sharp movimiento autonomista salir paso reclamo camionero región mantener bloqueado ruto altura cruce pólvora acusar faltar proyecto reactivar región\n",
      "\n",
      "medianoche federación regional dueño camión fedequintar inicio manifestación acusar bajo empleo zona\n",
      "\n"
     ]
    }
   ],
   "source": [
    "## Mostrar contenido lemmatizado\n",
    "for text in lemma_texts:\n",
    "    print(text, end=2*'\\n')"
   ]
  },
  {
   "cell_type": "code",
   "execution_count": null,
   "id": "5c69471e",
   "metadata": {},
   "outputs": [],
   "source": []
  },
  {
   "cell_type": "markdown",
   "id": "a0302d9a",
   "metadata": {},
   "source": [
    "#### Stemming"
   ]
  },
  {
   "cell_type": "code",
   "execution_count": 44,
   "id": "e8b68df8",
   "metadata": {},
   "outputs": [],
   "source": [
    "stemm_texts = []\n",
    "\n",
    "for text in clean_texts:\n",
    "    \n",
    "    ## Tokenizamos\n",
    "    # Aplicamos el modelo de lenguaje al texto\n",
    "    documento = nlp(text=text)\n",
    "\n",
    "    # Extraemos los tokens del documento\n",
    "    tokens = [palabra.text for palabra in documento]\n",
    "\n",
    "    ## Aplicamos stemming\n",
    "    stemms = [stemmer.stem(word) for word in tokens]\n",
    "\n",
    "    ## Unamos los stemms para generar una cadena de stemms\n",
    "    documento_stemm = ' '.join(stemms)\n",
    "\n",
    "    ## Almacenamos el texto lemmatizado\n",
    "    stemm_texts.append( documento_stemm )"
   ]
  },
  {
   "cell_type": "code",
   "execution_count": 46,
   "id": "0d4de4cc",
   "metadata": {},
   "outputs": [
    {
     "data": {
      "text/plain": [
       "['sharp lament protest camioner valparais atribu respons gobiern alcald seman envi propuest president abord demand gremi acus falt proyect reactiv region',\n",
       " 'respuest',\n",
       " 'santiag',\n",
       " 'alcald valparais jorg sharp movimient autonom sal pas reclam camioner region mantien bloqu rut altur cruc polvor acus falt proyect reactiv region',\n",
       " 'medianoch feder regional dueñ camion fedequint inici manifest acus baj emple zon']"
      ]
     },
     "execution_count": 46,
     "metadata": {},
     "output_type": "execute_result"
    }
   ],
   "source": [
    "stemm_texts"
   ]
  },
  {
   "cell_type": "code",
   "execution_count": 45,
   "id": "8cac696f",
   "metadata": {},
   "outputs": [
    {
     "name": "stdout",
     "output_type": "stream",
     "text": [
      "sharp lament protest camioner valparais atribu respons gobiern alcald seman envi propuest president abord demand gremi acus falt proyect reactiv region\n",
      "\n",
      "respuest\n",
      "\n",
      "santiag\n",
      "\n",
      "alcald valparais jorg sharp movimient autonom sal pas reclam camioner region mantien bloqu rut altur cruc polvor acus falt proyect reactiv region\n",
      "\n",
      "medianoch feder regional dueñ camion fedequint inici manifest acus baj emple zon\n",
      "\n"
     ]
    }
   ],
   "source": [
    "## Mostrar contenido stemmatizado\n",
    "for text in stemm_texts:\n",
    "    print(text, end=2*'\\n')"
   ]
  }
 ],
 "metadata": {
  "kernelspec": {
   "display_name": "Python 3",
   "language": "python",
   "name": "python3"
  },
  "language_info": {
   "codemirror_mode": {
    "name": "ipython",
    "version": 3
   },
   "file_extension": ".py",
   "mimetype": "text/x-python",
   "name": "python",
   "nbconvert_exporter": "python",
   "pygments_lexer": "ipython3",
   "version": "3.10.11"
  }
 },
 "nbformat": 4,
 "nbformat_minor": 5
}
