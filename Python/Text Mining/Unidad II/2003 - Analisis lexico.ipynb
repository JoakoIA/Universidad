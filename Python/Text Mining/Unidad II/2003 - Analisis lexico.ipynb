{
 "cells": [
  {
   "cell_type": "markdown",
   "id": "147f6a3b-20b0-4173-9614-afdbde6dfc42",
   "metadata": {},
   "source": [
    "## __Text mining y Procesamiento de Lenguaje Natural (NLP)__\n",
    "\n",
    "__Profesor__: Anthony D. Cho\n",
    "\n",
    "__Tema__: Análisis léxico\n",
    "\n",
    "***"
   ]
  },
  {
   "cell_type": "markdown",
   "id": "b3b10d61-3e13-4235-b039-ecb0f7f22dbc",
   "metadata": {},
   "source": [
    "[Universal Part-Of-Speech tagset](https://universaldependencies.org/u/pos/)"
   ]
  },
  {
   "cell_type": "markdown",
   "id": "0ab6e851-8a48-44ff-bb2f-df0fe467e1d7",
   "metadata": {},
   "source": [
    "* ADJ: adjective\n",
    "* ADP: adposition\n",
    "* ADV: adverb\n",
    "* AUX: auxiliary\n",
    "* CCONJ: coordinating conjunction\n",
    "* DET: determiner\n",
    "* INTJ: interjection\n",
    "* NOUN: noun\n",
    "* NUM: numeral\n",
    "* PART: particle\n",
    "* PRON: pronoun\n",
    "* PROPN: proper noun\n",
    "* PUNCT: punctuation\n",
    "* SCONJ: subordinating conjunction\n",
    "* SYM: symbol\n",
    "* VERB: verb\n",
    "* X: other"
   ]
  },
  {
   "cell_type": "markdown",
   "id": "33ef957e-d380-4dcd-aac2-5d656aba3029",
   "metadata": {},
   "source": [
    "__Dependencias__\n",
    "\n",
    "```python\n",
    "    python3 -m pip install nltk spacy\n",
    "    python3 -m spacy download en_core_web_sm\n",
    "    python3 -m spacy download es_core_news_sm\n",
    "```"
   ]
  },
  {
   "cell_type": "markdown",
   "id": "454263c5-28d0-438f-9e57-375f677bde43",
   "metadata": {},
   "source": [
    "### Librerias"
   ]
  },
  {
   "cell_type": "code",
   "execution_count": 5,
   "id": "01d80fdd-4b32-4f10-bdda-ffca653e585b",
   "metadata": {},
   "outputs": [],
   "source": [
    "from spacy import load\n",
    "import re\n",
    "\n",
    "## Cargar el modelo del lenguaje\n",
    "nlp = load('es_core_news_sm')"
   ]
  },
  {
   "cell_type": "code",
   "execution_count": null,
   "id": "21d7c71d-7cd2-4f2d-b5f8-1d731a58618f",
   "metadata": {},
   "outputs": [],
   "source": []
  },
  {
   "cell_type": "markdown",
   "id": "e3a98048-34df-4b78-97b3-0922ce62892b",
   "metadata": {},
   "source": [
    "## Ejecuciones"
   ]
  },
  {
   "cell_type": "markdown",
   "id": "f9771c91-ea41-416d-b6e4-5c1b696beccc",
   "metadata": {},
   "source": [
    "__**OJO**__:   Cuando usamos un modelo de lenguaje ya definido, no hay necesidad de preprocesar el texto."
   ]
  },
  {
   "cell_type": "code",
   "execution_count": null,
   "id": "28f5807e-17f9-42a2-a84f-ab758de0437c",
   "metadata": {},
   "outputs": [],
   "source": []
  },
  {
   "cell_type": "markdown",
   "id": "8dc2b964-44bc-412a-8a94-2d7a7cef0ac0",
   "metadata": {},
   "source": [
    "#### Carga de texto:"
   ]
  },
  {
   "cell_type": "code",
   "execution_count": 3,
   "id": "5d3852a0-956a-46d9-a183-b89a0ddcdf48",
   "metadata": {},
   "outputs": [],
   "source": [
    "filename = \"Data/texto_01.txt\"\n",
    "\n",
    "## Abrir el archivo de texto plano\n",
    "file = open(file=filename, mode='r', encoding='utf-8')\n",
    "\n",
    "## Leer el contenido\n",
    "text = file.read()\n",
    "\n",
    "## Cerrar el archivo\n",
    "file.close()"
   ]
  },
  {
   "cell_type": "code",
   "execution_count": 4,
   "id": "0b7ae392",
   "metadata": {},
   "outputs": [
    {
     "data": {
      "text/plain": [
       "'Sharp lamenta protesta de camioneros en Valparaíso y atribuye responsabilidad al Gobierno El alcalde afirmó que \"hace dos semanas\" enviaron una propuesta al Presidente para abordar las demandas del gremio, que acusa falta de proyectos para reactivar la región. \"No tenemos aún respuesta\", aseguró.\\n\\nSANTIAGO.- El alcalde de Valparaíso, Jorge Sharp (Movimiento Autonomista), salió al paso del reclamo de los camioneros de la región que mantienen bloqueada parte de la Ruta 68, a la altura del cruce La Pólvora, acusando falta de proyectos para reactivar la región. Pasada la medianoche, la Federación Regional de Dueños de Camiones (Fedequinta) dio inicio a la manifestación con la que acusan, además, una baja del empleo en la zona.\\n\\n\\n'"
      ]
     },
     "execution_count": 4,
     "metadata": {},
     "output_type": "execute_result"
    }
   ],
   "source": [
    "## Mostrar texto\n",
    "text"
   ]
  },
  {
   "cell_type": "code",
   "execution_count": null,
   "id": "a94c6375-58d1-4271-9a60-b3e0a8bc3b9b",
   "metadata": {},
   "outputs": [],
   "source": []
  },
  {
   "cell_type": "markdown",
   "id": "e2a84f24-d1df-4fe6-8dda-9d59ca998230",
   "metadata": {},
   "source": [
    "#### Aplicar POS-Tagging"
   ]
  },
  {
   "cell_type": "code",
   "execution_count": 13,
   "id": "8e84a80f",
   "metadata": {},
   "outputs": [
    {
     "name": "stdout",
     "output_type": "stream",
     "text": [
      "Sharp/PROPN lamenta/VERB protesta/NOUN de/ADP camioneros/NOUN en/ADP Valparaíso/PROPN y/CCONJ atribuye/VERB responsabilidad/NOUN al/ADP Gobierno/PROPN El/DET alcalde/NOUN afirmó/VERB que/SCONJ \"/PUNCT hace/VERB dos/NUM semanas/NOUN \"/PUNCT enviaron/VERB una/DET propuesta/NOUN al/ADP Presidente/PROPN para/ADP abordar/VERB las/DET demandas/NOUN del/ADP gremio/NOUN ,/PUNCT que/PRON acusa/VERB falta/NOUN de/ADP proyectos/NOUN para/ADP reactivar/VERB la/DET región/NOUN ./PUNCT \"/PUNCT No/ADV tenemos/VERB aún/ADV respuesta/NOUN \"/PUNCT ,/PUNCT aseguró/VERB ./PUNCT   /SPACE SANTIAGO.-/VERB El/DET alcalde/NOUN de/ADP Valparaíso/PROPN ,/PUNCT Jorge/PROPN Sharp/PROPN (/PUNCT Movimiento/PROPN Autonomista/PROPN )/PUNCT ,/PUNCT salió/VERB al/ADP paso/NOUN del/ADP reclamo/NOUN de/ADP los/DET camioneros/NOUN de/ADP la/DET región/NOUN que/PRON mantienen/VERB bloqueada/ADJ parte/NOUN de/ADP la/DET Ruta/PROPN 68/NUM ,/PUNCT a/ADP la/DET altura/NOUN del/ADP cruce/NOUN La/DET Pólvora/PROPN ,/PUNCT acusando/VERB falta/NOUN de/ADP proyectos/NOUN para/ADP reactivar/VERB la/DET región/NOUN ./PUNCT Pasada/ADJ la/DET medianoche/NOUN ,/PUNCT la/DET Federación/PROPN Regional/PROPN de/ADP Dueños/PROPN de/ADP Camiones/PROPN (/PUNCT Fedequinta/PROPN )/PUNCT dio/VERB inicio/NOUN a/ADP la/DET manifestación/NOUN con/ADP la/DET que/PRON acusan/VERB ,/PUNCT además/ADV ,/PUNCT una/DET baja/NOUN del/ADP empleo/NOUN en/ADP la/DET zona/NOUN ./PUNCT    /SPACE \n"
     ]
    }
   ],
   "source": [
    "# Aplicamos el modelo de lenguaje al texto\n",
    "documento = nlp(text)\n",
    "\n",
    "## Aplicamos word-tagging\n",
    "texto_tagget = ''.join( f'{word.text}/{word.pos_} ' for word in documento )\n",
    "\n",
    "## Remover espaciados sobrantes \n",
    "texto_tagget = re.sub(pattern='\\s', repl=' ', string=texto_tagget)\n",
    "\n",
    "## Mostrar el texto etiquetado\n",
    "print(texto_tagget)"
   ]
  },
  {
   "cell_type": "code",
   "execution_count": null,
   "id": "720b44b3-5034-4d7f-a57a-52a340278eb6",
   "metadata": {},
   "outputs": [],
   "source": []
  }
 ],
 "metadata": {
  "kernelspec": {
   "display_name": "Python 3",
   "language": "python",
   "name": "python3"
  },
  "language_info": {
   "codemirror_mode": {
    "name": "ipython",
    "version": 3
   },
   "file_extension": ".py",
   "mimetype": "text/x-python",
   "name": "python",
   "nbconvert_exporter": "python",
   "pygments_lexer": "ipython3",
   "version": "3.10.11"
  }
 },
 "nbformat": 4,
 "nbformat_minor": 5
}
