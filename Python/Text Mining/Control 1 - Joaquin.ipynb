{
 "cells": [
  {
   "cell_type": "markdown",
   "id": "bb6a18e3",
   "metadata": {},
   "source": [
    "## __Text mining y Procesamiento de Lenguaje Natural (NLP)__\n",
    "\n",
    "__Profesor__: Anthony D. Cho\n",
    "\n",
    "__Asunto__: Control 1\n",
    "\n",
    "***"
   ]
  },
  {
   "cell_type": "markdown",
   "id": "35f68618",
   "metadata": {},
   "source": [
    "__Instrucciones:__ Al finalizar el control, enviar al correo anthony.cho@umayor.cl\n",
    "\n",
    "El control consta de 7 preguntas, cada uno tiene una ponderación de 2 puntos con un total de 14 puntos."
   ]
  },
  {
   "cell_type": "markdown",
   "id": "775f7ee4-4cc6-4156-8d73-b96705920c2c",
   "metadata": {},
   "source": [
    "__Nombre y apellido__: Joaquin Gutierrez"
   ]
  },
  {
   "cell_type": "markdown",
   "id": "8b6f762f-0316-453c-b069-4a5cae3885f2",
   "metadata": {},
   "source": []
  },
  {
   "cell_type": "code",
   "execution_count": null,
   "id": "209d3724-42c1-43a7-975a-c8ffe44ec205",
   "metadata": {},
   "outputs": [],
   "source": []
  },
  {
   "cell_type": "markdown",
   "id": "80dd582f",
   "metadata": {},
   "source": [
    "__Dependencias__\n",
    "\n",
    "```python\n",
    "    python -m pip install nltk spacy\n",
    "    python -m spacy download en_core_web_sm\n",
    "    python -m spacy download es_core_news_sm\n",
    "    \n",
    "```"
   ]
  },
  {
   "cell_type": "code",
   "execution_count": null,
   "id": "c6b7ddd5",
   "metadata": {},
   "outputs": [],
   "source": []
  },
  {
   "cell_type": "markdown",
   "id": "6091ec56",
   "metadata": {},
   "source": [
    "### Librerias"
   ]
  },
  {
   "cell_type": "code",
   "execution_count": 1,
   "id": "5c9d03d5",
   "metadata": {},
   "outputs": [],
   "source": [
    "from pandas import set_option, Series\n",
    "from spacy import load\n",
    "from nltk.stem import SnowballStemmer  \n",
    "from spacy.lang.es.stop_words import STOP_WORDS\n",
    "from string import punctuation\n",
    "\n",
    "#set_option('display.max_colwidth', None)\n",
    "set_option('display.max_rows', None)\n",
    "\n",
    "## Updated Stopwords\n",
    "STOP_WORDS.add('\\n\\n')\n",
    "\n",
    "## Updated punctuation\n",
    "punctuation = punctuation + '¿'\n",
    "\n",
    "nlp = load('es_core_news_sm')    # Language model\n",
    "stemmer = SnowballStemmer('spanish')    ## Stemmer model"
   ]
  },
  {
   "cell_type": "markdown",
   "id": "8c006af0",
   "metadata": {},
   "source": [
    "# Parte 1"
   ]
  },
  {
   "cell_type": "markdown",
   "id": "4dd80e60",
   "metadata": {},
   "source": [
    "1- ¿Cuáles son los tipos de ambiguedades presentes en el NLP?"
   ]
  },
  {
   "cell_type": "markdown",
   "id": "8d050ac5",
   "metadata": {},
   "source": [
    "Son 4 tipos de ambiguedades y estos son:\n",
    "* Léxico        \n",
    "* Sintático         \n",
    "* Semántico     \n",
    "* Pragmática        "
   ]
  },
  {
   "cell_type": "markdown",
   "id": "7166d1ac",
   "metadata": {},
   "source": [
    "2- La frase \"Juan le dijo a Pablo que podía decidir lo que quisiera.\" presenta algun tipo de ambigüedad?. En caso afirmativo, indique de qué tipo de ambigüedad pertenece."
   ]
  },
  {
   "cell_type": "markdown",
   "id": "53628258",
   "metadata": {},
   "source": [
    "Existe una ambiguedad del tipo pragmático, ya que la oracion no especifica quien puede \"decidir lo que quisiera\" y hay dos interpretaciones posibles:\n",
    "* Intrepretacion 1: Juan puede decidir lo que quisiera.\n",
    "* Interpretacion 2: Pablo puede decidir lo que quisiera."
   ]
  },
  {
   "cell_type": "markdown",
   "id": "326fe104",
   "metadata": {},
   "source": [
    "3- ¿Cuál es la diferencia entre stemming y lemmatización?"
   ]
  },
  {
   "cell_type": "markdown",
   "id": "5f6cb991",
   "metadata": {},
   "source": [
    "La lematizacion es el proceso de convertir una palabra a su forma base. como por ejemplo \"corriendo\" a \"correr\". o \"corre\" a \"correr\".\n",
    "El stemming es el proceso de reducir una palabra a su raíz. como por ejemplo \"corriendo\" a \"corr\". o \"corre\" a \"corr\"."
   ]
  },
  {
   "cell_type": "markdown",
   "id": "8b81020f",
   "metadata": {},
   "source": []
  },
  {
   "cell_type": "markdown",
   "id": "77a3ad5a",
   "metadata": {},
   "source": [
    "# Parte 2"
   ]
  },
  {
   "cell_type": "code",
   "execution_count": 2,
   "id": "c5daa1da",
   "metadata": {
    "tags": []
   },
   "outputs": [
    {
     "name": "stdout",
     "output_type": "stream",
     "text": [
      "¿Vas a comprar una computadora y ni siquiera has pensado en el procesador? Si no lo sabías, se trata de una elemento tanto o más importante que la misma marca del equipo. Y menos que estés por comprarte una Mac, deberás decidir entre AMD vs. Intel.\n",
      "\n",
      "¿Cuál es la diferencia, realmente? ¿Cuáles son las ventajas y desventajas de cada uno de estos procesadores? Lo analizamos a fondo.\n",
      "\n",
      "AMD superó a los procesadores de décima generación de Intel con sus Ryzen 5000, tomando el liderato en rendimiento en videojuegos y en productividad. Sin embargo, Intel se está acercando con el lanzamiento de sus procesadores Rocket Lake de onceava generación, y está ofreciendo mejores precios que AMD.\n",
      "\n",
      "En el universo de las laptops, AMD ofrece sus chips móviles Ryzen 5000, pero estos no aparecen en tantas máquinas como los procesadores Tiger Lake de Intel. Cada nuevo lanzamiento de productos marca un cambio en el balance entre AMD e Intel. A continuación, te contamos cómo va esta rivalidad en 2021.\n",
      "\n",
      "Intel y AMD tienen excelentes procesadores para juegos y tareas de productividad, como la edición y transcodificación de videos, pero también cada uno tiene sus propias especialidades. Los mejores procesadores de AMD hoy día, el Ryzen 9 5900X y el 5950X, superan cualquier procesador de Intel, con 12 y 16 núcleos respectivamente.\n",
      "\n",
      "El mejor procesador Intel en la actualidad es el Core i9-10900K, aunque la compañía ya lanzó su plataforma de escritorio de onceava generación, con el 11900K listo para reemplazarlo. Sin embargo, el chip de generación anterior ofrece mucho más por tu dinero.\n",
      "\n",
      "El 10900K tiene un desempeño bastante similar al del 11900K, y el precio está bajando. Además, el 11900K presenta algunos problemas térmicos, lo que hace del 10900K la opción de Intel. Sin embargo, no es necesario comprar lo más caro para obtener un gran procesador para jugar o trabajar.\n",
      "\n",
      "Con un valor aproximado de $300 dólares, el Ryzen 5 5600X de AMD es un chip fantástico para trabajar y jugar. Intel tiene el 11600K en este rango de precios con sus seis núcleos y 12 hilos. Sin embargo, el 11600K tiene alto poder y demandas térmicas. En el papel, el 11600K tiene hasta el doble de TDP del 5600X, y en el uso del mundo real, puede generar aún más.\n",
      "\n",
      "En los segmentos más básicos del mercado, los procesadores de AMD tienden a ofrecer una mejor relación calidad-precio con productos tan sobresalientes como el 3300X y el 3600, que ofrecen un rendimiento multitarea y de juegos asombroso.\n",
      "\n",
      "Todavía no tenemos una opción económica para el Ryzen 5000, aunque deberíamos tenerla en algún momento de 2021. Sin embargo, el 10300F de Intel representa una durísima competencia.\n",
      "\n",
      "Las opciones económicas como el AMD 3200G e Intel Core i3 10100 hacen posible iniciar tu sistema sin una tarjeta gráfica adicional, los que los hace ideales para el trabajo de oficina general y disfrutar de Netflix, aunque tampoco les puedes pedir mucho más. Si quieres sumergirte en los juegos ligeros, AMD ofrece APU Ryzen 5000 con gráficos Radeon.\n",
      "\n",
      "Pero bueno, hay otras razones -además del rendimiento- por las que deberías considerar tanto a AMD como a Intel. Los procesadores de última generación de Intel tienen un soporte mucho mejor para los puertos Thunderbolt 3, si eso es algo que piensas utilizar.\n",
      "\n",
      "Por otra parte, AMD ofrece overclocking en su más barato chip B-series, lo que permite a quienes arman sus computadoras en base a un presupuesto limitado obtener el mayor desempeño de su equipo.\n",
      "\n",
      "AMD es la mejor opción para computadoras de escritorio en este momento, pero eso podría cambiar pronto. Intel está a punto de lanzar sus procesadores híbridos Alder Lake a finales de 2021. Esta nueva arquitectura combina dos tipos de núcleo, y los rumores sugieren que podrían ser mucho más rápidos que lo que ofrece actualmente Intel.\n",
      "\n",
      "\n"
     ]
    }
   ],
   "source": [
    "## Cargar texto\n",
    "filename = 'Control_1_data.txt'\n",
    "file = open(filename, 'r', encoding='utf-8')\n",
    "texto = file.read()\n",
    "file.close()\n",
    "\n",
    "## Mostrar texto\n",
    "print(texto)"
   ]
  },
  {
   "cell_type": "code",
   "execution_count": 3,
   "id": "e1abd414",
   "metadata": {},
   "outputs": [],
   "source": [
    "## Aplicación del modelo de lenguaje al texto\n",
    "documento = nlp(texto)\n",
    "\n",
    "## Extracción de tokens y normalizado\n",
    "tokens = [word.text.lower() for word in documento]"
   ]
  },
  {
   "cell_type": "code",
   "execution_count": 4,
   "id": "4804d27b",
   "metadata": {},
   "outputs": [
    {
     "data": {
      "text/plain": [
       "738"
      ]
     },
     "execution_count": 4,
     "metadata": {},
     "output_type": "execute_result"
    }
   ],
   "source": [
    "len(tokens)"
   ]
  },
  {
   "cell_type": "markdown",
   "id": "79d37f92-82da-4182-b4e9-6c94199d1ec8",
   "metadata": {
    "jupyter": {
     "outputs_hidden": true
    },
    "tags": []
   },
   "source": [
    "1- Elimine las puntuaciones de la lista de tokens, la lista resultante lo almacena en la variable **tokens_1**"
   ]
  },
  {
   "cell_type": "code",
   "execution_count": 5,
   "id": "7a0de5ce",
   "metadata": {},
   "outputs": [],
   "source": [
    "tokens_1 = []\n",
    "for token in tokens:\n",
    "    if (token not in punctuation) and (len(token)>0):\n",
    "        tokens_1.append(token)"
   ]
  },
  {
   "cell_type": "code",
   "execution_count": 6,
   "id": "3923a0f4-adf6-4f2d-b80d-1c43a972f392",
   "metadata": {},
   "outputs": [
    {
     "name": "stdout",
     "output_type": "stream",
     "text": [
      "['vas', 'a', 'comprar', 'una', 'computadora', 'y', 'ni', 'siquiera', 'has', 'pensado', 'en', 'el', 'procesador', 'si', 'no', 'lo', 'sabías', 'se', 'trata', 'de', 'una', 'elemento', 'tanto', 'o', 'más', 'importante', 'que', 'la', 'misma', 'marca', 'del', 'equipo', 'y', 'menos', 'que', 'estés', 'por', 'comprarte', 'una', 'mac', 'deberás', 'decidir', 'entre', 'amd', 'vs', 'intel', '\\n\\n', 'cuál', 'es', 'la', 'diferencia', 'realmente', 'cuáles', 'son', 'las', 'ventajas', 'y', 'desventajas', 'de', 'cada', 'uno', 'de', 'estos', 'procesadores', 'lo', 'analizamos', 'a', 'fondo', '\\n\\n', 'amd', 'superó', 'a', 'los', 'procesadores', 'de', 'décima', 'generación', 'de', 'intel', 'con', 'sus', 'ryzen', '5000', 'tomando', 'el', 'liderato', 'en', 'rendimiento', 'en', 'videojuegos', 'y', 'en', 'productividad', 'sin', 'embargo', 'intel', 'se', 'está', 'acercando', 'con', 'el', 'lanzamiento', 'de', 'sus', 'procesadores', 'rocket', 'lake', 'de', 'onceava', 'generación', 'y', 'está', 'ofreciendo', 'mejores', 'precios', 'que', 'amd', '\\n\\n', 'en', 'el', 'universo', 'de', 'las', 'laptops', 'amd', 'ofrece', 'sus', 'chips', 'móviles', 'ryzen', '5000', 'pero', 'estos', 'no', 'aparecen', 'en', 'tantas', 'máquinas', 'como', 'los', 'procesadores', 'tiger', 'lake', 'de', 'intel', 'cada', 'nuevo', 'lanzamiento', 'de', 'productos', 'marca', 'un', 'cambio', 'en', 'el', 'balance', 'entre', 'amd', 'e', 'intel', 'a', 'continuación', 'te', 'contamos', 'cómo', 'va', 'esta', 'rivalidad', 'en', '2021', '\\n\\n', 'intel', 'y', 'amd', 'tienen', 'excelentes', 'procesadores', 'para', 'juegos', 'y', 'tareas', 'de', 'productividad', 'como', 'la', 'edición', 'y', 'transcodificación', 'de', 'videos', 'pero', 'también', 'cada', 'uno', 'tiene', 'sus', 'propias', 'especialidades', 'los', 'mejores', 'procesadores', 'de', 'amd', 'hoy', 'día', 'el', 'ryzen', '9', '5900x', 'y', 'el', '5950x', 'superan', 'cualquier', 'procesador', 'de', 'intel', 'con', '12', 'y', '16', 'núcleos', 'respectivamente', '\\n\\n', 'el', 'mejor', 'procesador', 'intel', 'en', 'la', 'actualidad', 'es', 'el', 'core', 'i9-10900', 'k', 'aunque', 'la', 'compañía', 'ya', 'lanzó', 'su', 'plataforma', 'de', 'escritorio', 'de', 'onceava', 'generación', 'con', 'el', '11900', 'k', 'listo', 'para', 'reemplazarlo', 'sin', 'embargo', 'el', 'chip', 'de', 'generación', 'anterior', 'ofrece', 'mucho', 'más', 'por', 'tu', 'dinero', '\\n\\n', 'el', '10900', 'k', 'tiene', 'un', 'desempeño', 'bastante', 'similar', 'al', 'del', '11900', 'k', 'y', 'el', 'precio', 'está', 'bajando', 'además', 'el', '11900', 'k', 'presenta', 'algunos', 'problemas', 'térmicos', 'lo', 'que', 'hace', 'del', '10900', 'k', 'la', 'opción', 'de', 'intel', 'sin', 'embargo', 'no', 'es', 'necesario', 'comprar', 'lo', 'más', 'caro', 'para', 'obtener', 'un', 'gran', 'procesador', 'para', 'jugar', 'o', 'trabajar', '\\n\\n', 'con', 'un', 'valor', 'aproximado', 'de', '300', 'dólares', 'el', 'ryzen', '5', '5600x', 'de', 'amd', 'es', 'un', 'chip', 'fantástico', 'para', 'trabajar', 'y', 'jugar', 'intel', 'tiene', 'el', '11600', 'k', 'en', 'este', 'rango', 'de', 'precios', 'con', 'sus', 'seis', 'núcleos', 'y', '12', 'hilos', 'sin', 'embargo', 'el', '11600', 'k', 'tiene', 'alto', 'poder', 'y', 'demandas', 'térmicas', 'en', 'el', 'papel', 'el', '11600', 'k', 'tiene', 'hasta', 'el', 'doble', 'de', 'tdp', 'del', '5600x', 'y', 'en', 'el', 'uso', 'del', 'mundo', 'real', 'puede', 'generar', 'aún', 'más', '\\n\\n', 'en', 'los', 'segmentos', 'más', 'básicos', 'del', 'mercado', 'los', 'procesadores', 'de', 'amd', 'tienden', 'a', 'ofrecer', 'una', 'mejor', 'relación', 'calidad-precio', 'con', 'productos', 'tan', 'sobresalientes', 'como', 'el', '3300x', 'y', 'el', '3600', 'que', 'ofrecen', 'un', 'rendimiento', 'multitarea', 'y', 'de', 'juegos', 'asombroso', '\\n\\n', 'todavía', 'no', 'tenemos', 'una', 'opción', 'económica', 'para', 'el', 'ryzen', '5000', 'aunque', 'deberíamos', 'tenerla', 'en', 'algún', 'momento', 'de', '2021', 'sin', 'embargo', 'el', '10300f', 'de', 'intel', 'representa', 'una', 'durísima', 'competencia', '\\n\\n', 'las', 'opciones', 'económicas', 'como', 'el', 'amd', '3200', 'g', 'e', 'intel', 'core', 'i3', '10100', 'hacen', 'posible', 'iniciar', 'tu', 'sistema', 'sin', 'una', 'tarjeta', 'gráfica', 'adicional', 'los', 'que', 'los', 'hace', 'ideales', 'para', 'el', 'trabajo', 'de', 'oficina', 'general', 'y', 'disfrutar', 'de', 'netflix', 'aunque', 'tampoco', 'les', 'puedes', 'pedir', 'mucho', 'más', 'si', 'quieres', 'sumergirte', 'en', 'los', 'juegos', 'ligeros', 'amd', 'ofrece', 'apu', 'ryzen', '5000', 'con', 'gráficos', 'radeon', '\\n\\n', 'pero', 'bueno', 'hay', 'otras', 'razones', '-además', 'del', 'rendimiento-', 'por', 'las', 'que', 'deberías', 'considerar', 'tanto', 'a', 'amd', 'como', 'a', 'intel', 'los', 'procesadores', 'de', 'última', 'generación', 'de', 'intel', 'tienen', 'un', 'soporte', 'mucho', 'mejor', 'para', 'los', 'puertos', 'thunderbolt', '3', 'si', 'eso', 'es', 'algo', 'que', 'piensas', 'utilizar', '\\n\\n', 'por', 'otra', 'parte', 'amd', 'ofrece', 'overclocking', 'en', 'su', 'más', 'barato', 'chip', 'b-series', 'lo', 'que', 'permite', 'a', 'quienes', 'arman', 'sus', 'computadoras', 'en', 'base', 'a', 'un', 'presupuesto', 'limitado', 'obtener', 'el', 'mayor', 'desempeño', 'de', 'su', 'equipo', '\\n\\n', 'amd', 'es', 'la', 'mejor', 'opción', 'para', 'computadoras', 'de', 'escritorio', 'en', 'este', 'momento', 'pero', 'eso', 'podría', 'cambiar', 'pronto', 'intel', 'está', 'a', 'punto', 'de', 'lanzar', 'sus', 'procesadores', 'híbridos', 'alder', 'lake', 'a', 'finales', 'de', '2021', 'esta', 'nueva', 'arquitectura', 'combina', 'dos', 'tipos', 'de', 'núcleo', 'y', 'los', 'rumores', 'sugieren', 'que', 'podrían', 'ser', 'mucho', 'más', 'rápidos', 'que', 'lo', 'que', 'ofrece', 'actualmente', 'intel', '\\n\\n']\n"
     ]
    }
   ],
   "source": [
    "print(tokens_1)"
   ]
  },
  {
   "cell_type": "code",
   "execution_count": 7,
   "id": "741e0f75-e66b-448c-bd66-ba743fe9696f",
   "metadata": {},
   "outputs": [
    {
     "data": {
      "text/plain": [
       "661"
      ]
     },
     "execution_count": 7,
     "metadata": {},
     "output_type": "execute_result"
    }
   ],
   "source": [
    "len(tokens_1)"
   ]
  },
  {
   "cell_type": "markdown",
   "id": "b35265e6-dc1a-415c-8b06-f92ff6f918e3",
   "metadata": {},
   "source": [
    "2- Elimine los stopwords de la lista tokens_1 generando una nueva lista llamada **tokens_2**"
   ]
  },
  {
   "cell_type": "code",
   "execution_count": 8,
   "id": "6039474d-72ee-466d-a8f4-ba2390378742",
   "metadata": {},
   "outputs": [],
   "source": [
    "tokens_2 = []\n",
    "for token in tokens_1:\n",
    "    if (token not in STOP_WORDS) and (len(token)>0):\n",
    "        tokens_2.append(token)"
   ]
  },
  {
   "cell_type": "code",
   "execution_count": 9,
   "id": "0be09fc8-2fc5-48f6-9601-284ce8f21f5c",
   "metadata": {},
   "outputs": [
    {
     "data": {
      "text/plain": [
       "301"
      ]
     },
     "execution_count": 9,
     "metadata": {},
     "output_type": "execute_result"
    }
   ],
   "source": [
    "len(tokens_2)"
   ]
  },
  {
   "cell_type": "code",
   "execution_count": 10,
   "id": "cefdf834-67f3-4bcb-9edd-d13514288b2c",
   "metadata": {},
   "outputs": [
    {
     "name": "stdout",
     "output_type": "stream",
     "text": [
      "['vas', 'comprar', 'computadora', 'siquiera', 'has', 'pensado', 'procesador', 'sabías', 'elemento', 'importante', 'marca', 'equipo', 'estés', 'comprarte', 'mac', 'deberás', 'decidir', 'amd', 'vs', 'intel', 'diferencia', 'realmente', 'ventajas', 'desventajas', 'procesadores', 'analizamos', 'fondo', 'amd', 'superó', 'procesadores', 'décima', 'generación', 'intel', 'ryzen', '5000', 'tomando', 'liderato', 'rendimiento', 'videojuegos', 'productividad', 'intel', 'acercando', 'lanzamiento', 'procesadores', 'rocket', 'lake', 'onceava', 'generación', 'ofreciendo', 'mejores', 'precios', 'amd', 'universo', 'laptops', 'amd', 'ofrece', 'chips', 'móviles', 'ryzen', '5000', 'aparecen', 'tantas', 'máquinas', 'procesadores', 'tiger', 'lake', 'intel', 'lanzamiento', 'productos', 'marca', 'cambio', 'balance', 'amd', 'intel', 'continuación', 'contamos', 'rivalidad', '2021', 'intel', 'amd', 'excelentes', 'procesadores', 'juegos', 'tareas', 'productividad', 'edición', 'transcodificación', 'videos', 'especialidades', 'mejores', 'procesadores', 'amd', 'ryzen', '9', '5900x', '5950x', 'superan', 'procesador', 'intel', '12', '16', 'núcleos', 'respectivamente', 'procesador', 'intel', 'actualidad', 'core', 'i9-10900', 'k', 'compañía', 'lanzó', 'plataforma', 'escritorio', 'onceava', 'generación', '11900', 'k', 'listo', 'reemplazarlo', 'chip', 'generación', 'ofrece', 'dinero', '10900', 'k', 'desempeño', 'similar', '11900', 'k', 'precio', 'bajando', '11900', 'k', 'presenta', 'problemas', 'térmicos', '10900', 'k', 'opción', 'intel', 'necesario', 'comprar', 'caro', 'obtener', 'procesador', 'jugar', 'trabajar', 'valor', 'aproximado', '300', 'dólares', 'ryzen', '5', '5600x', 'amd', 'chip', 'fantástico', 'trabajar', 'jugar', 'intel', '11600', 'k', 'rango', 'precios', 'núcleos', '12', 'hilos', '11600', 'k', 'alto', 'demandas', 'térmicas', 'papel', '11600', 'k', 'doble', 'tdp', '5600x', 'mundo', 'real', 'generar', 'segmentos', 'básicos', 'mercado', 'procesadores', 'amd', 'tienden', 'ofrecer', 'relación', 'calidad-precio', 'productos', 'sobresalientes', '3300x', '3600', 'ofrecen', 'rendimiento', 'multitarea', 'juegos', 'asombroso', 'opción', 'económica', 'ryzen', '5000', 'deberíamos', 'tenerla', 'momento', '2021', '10300f', 'intel', 'representa', 'durísima', 'competencia', 'opciones', 'económicas', 'amd', '3200', 'g', 'intel', 'core', 'i3', '10100', 'iniciar', 'sistema', 'tarjeta', 'gráfica', 'adicional', 'ideales', 'trabajo', 'oficina', 'general', 'disfrutar', 'netflix', 'puedes', 'pedir', 'quieres', 'sumergirte', 'juegos', 'ligeros', 'amd', 'ofrece', 'apu', 'ryzen', '5000', 'gráficos', 'radeon', 'razones', '-además', 'rendimiento-', 'deberías', 'considerar', 'amd', 'intel', 'procesadores', 'generación', 'intel', 'soporte', 'puertos', 'thunderbolt', '3', 'piensas', 'utilizar', 'amd', 'ofrece', 'overclocking', 'barato', 'chip', 'b-series', 'permite', 'arman', 'computadoras', 'base', 'presupuesto', 'limitado', 'obtener', 'desempeño', 'equipo', 'amd', 'opción', 'computadoras', 'escritorio', 'momento', 'cambiar', 'intel', 'punto', 'lanzar', 'procesadores', 'híbridos', 'alder', 'lake', 'finales', '2021', 'arquitectura', 'combina', 'tipos', 'núcleo', 'rumores', 'sugieren', 'rápidos', 'ofrece', 'actualmente', 'intel']\n"
     ]
    }
   ],
   "source": [
    "print(tokens_2)"
   ]
  },
  {
   "cell_type": "markdown",
   "id": "198c6109-8f67-4dbb-9a3e-c45f3798b11f",
   "metadata": {},
   "source": [
    "3- Aplicar stemmer a la lista **tokens_2** generando la lista **tokens_stemm**\n",
    "\n",
    "__Tips__: puedes usar stemmer.stem(word)"
   ]
  },
  {
   "cell_type": "code",
   "execution_count": 11,
   "id": "5c1bc9a1-97a7-4bd2-bd52-56fb43bc15e9",
   "metadata": {},
   "outputs": [
    {
     "name": "stdout",
     "output_type": "stream",
     "text": [
      "['vas', 'compr', 'comput', 'siqu', 'has', 'pens', 'proces', 'sab', 'element', 'import', 'marc', 'equip', 'estes', 'comprart', 'mac', 'deb', 'decid', 'amd', 'vs', 'intel', 'diferent', 'realment', 'ventaj', 'desventaj', 'proces', 'analiz', 'fond', 'amd', 'super', 'proces', 'decim', 'gener', 'intel', 'ryzen', '5000', 'tom', 'liderat', 'rendimient', 'videojueg', 'product', 'intel', 'acerc', 'lanzamient', 'proces', 'rocket', 'lak', 'onceav', 'gener', 'ofrec', 'mejor', 'preci', 'amd', 'univers', 'laptops', 'amd', 'ofrec', 'chips', 'movil', 'ryzen', '5000', 'aparec', 'tant', 'maquin', 'proces', 'tig', 'lak', 'intel', 'lanzamient', 'product', 'marc', 'cambi', 'balanc', 'amd', 'intel', 'continu', 'cont', 'rival', '2021', 'intel', 'amd', 'excelent', 'proces', 'jueg', 'tar', 'product', 'edicion', 'transcodif', 'vide', 'especial', 'mejor', 'proces', 'amd', 'ryzen', '9', '5900x', '5950x', 'super', 'proces', 'intel', '12', '16', 'nucle', 'respect', 'proces', 'intel', 'actual', 'cor', 'i9-10900', 'k', 'compañ', 'lanz', 'plataform', 'escritori', 'onceav', 'gener', '11900', 'k', 'list', 'reemplaz', 'chip', 'gener', 'ofrec', 'diner', '10900', 'k', 'desempeñ', 'simil', '11900', 'k', 'preci', 'baj', '11900', 'k', 'present', 'problem', 'termic', '10900', 'k', 'opcion', 'intel', 'necesari', 'compr', 'car', 'obten', 'proces', 'jug', 'trabaj', 'valor', 'aproxim', '300', 'dolar', 'ryzen', '5', '5600x', 'amd', 'chip', 'fantast', 'trabaj', 'jug', 'intel', '11600', 'k', 'rang', 'preci', 'nucle', '12', 'hil', '11600', 'k', 'alto', 'demand', 'termic', 'papel', '11600', 'k', 'dobl', 'tdp', '5600x', 'mund', 'real', 'gener', 'segment', 'basic', 'merc', 'proces', 'amd', 'tiend', 'ofrec', 'relacion', 'calidad-preci', 'product', 'sobresalient', '3300x', '3600', 'ofrec', 'rendimient', 'multitare', 'jueg', 'asombr', 'opcion', 'econom', 'ryzen', '5000', 'deb', 'ten', 'moment', '2021', '10300f', 'intel', 'represent', 'durisim', 'competent', 'opcion', 'econom', 'amd', '3200', 'g', 'intel', 'cor', 'i3', '10100', 'inici', 'sistem', 'tarjet', 'grafic', 'adicional', 'ideal', 'trabaj', 'oficin', 'general', 'disfrut', 'netflix', 'pued', 'ped', 'quier', 'sumergirt', 'jueg', 'liger', 'amd', 'ofrec', 'apu', 'ryzen', '5000', 'grafic', 'radeon', 'razon', '-ademas', 'rendimiento-', 'deb', 'consider', 'amd', 'intel', 'proces', 'gener', 'intel', 'soport', 'puert', 'thunderbolt', '3', 'piens', 'utiliz', 'amd', 'ofrec', 'overclocking', 'barat', 'chip', 'b-seri', 'permit', 'arman', 'comput', 'bas', 'presupuest', 'limit', 'obten', 'desempeñ', 'equip', 'amd', 'opcion', 'comput', 'escritori', 'moment', 'cambi', 'intel', 'punt', 'lanz', 'proces', 'hibr', 'alder', 'lak', 'final', '2021', 'arquitectur', 'combin', 'tip', 'nucle', 'rumor', 'sugier', 'rap', 'ofrec', 'actual', 'intel']\n"
     ]
    }
   ],
   "source": [
    "tokens_stemm = []\n",
    "for token in tokens_2:\n",
    "    tokens_stemm.append(stemmer.stem(token))\n",
    "\n",
    "print(tokens_stemm)"
   ]
  },
  {
   "cell_type": "markdown",
   "id": "a979d775-9241-4ff5-a8c3-f2c454c82362",
   "metadata": {},
   "source": [
    "4-Crear un tabla de frecuencia de la lista **tokens_stemm** y por último, imprimir la tabla ordenada de manera descendente."
   ]
  },
  {
   "cell_type": "code",
   "execution_count": 12,
   "id": "d4d7c4e1-4fe9-40ce-84ba-dde3229550f1",
   "metadata": {},
   "outputs": [
    {
     "name": "stdout",
     "output_type": "stream",
     "text": [
      "           Palabra  Frecuencia\n",
      "0            intel          16\n",
      "1              amd          14\n",
      "2           proces          13\n",
      "3                k           9\n",
      "4            ofrec           8\n",
      "5            gener           6\n",
      "6            ryzen           6\n",
      "7             5000           4\n",
      "8          product           4\n",
      "9           opcion           4\n",
      "10          comput           3\n",
      "11             deb           3\n",
      "12             lak           3\n",
      "13           preci           3\n",
      "14            2021           3\n",
      "15            jueg           3\n",
      "16           nucle           3\n",
      "17           11900           3\n",
      "18            chip           3\n",
      "19          trabaj           3\n",
      "20           11600           3\n",
      "21           compr           2\n",
      "22            marc           2\n",
      "23           equip           2\n",
      "24           super           2\n",
      "25      rendimient           2\n",
      "26      lanzamient           2\n",
      "27          onceav           2\n",
      "28           mejor           2\n",
      "29           cambi           2\n",
      "30              12           2\n",
      "31          actual           2\n",
      "32             cor           2\n",
      "33            lanz           2\n",
      "34       escritori           2\n",
      "35           10900           2\n",
      "36        desempeñ           2\n",
      "37          termic           2\n",
      "38           obten           2\n",
      "39             jug           2\n",
      "40           5600x           2\n",
      "41          econom           2\n",
      "42          moment           2\n",
      "43          grafic           2\n",
      "44             vas           1\n",
      "45            siqu           1\n",
      "46             has           1\n",
      "47            pens           1\n",
      "48             sab           1\n",
      "49         element           1\n",
      "50          import           1\n",
      "51           estes           1\n",
      "52        comprart           1\n",
      "53             mac           1\n",
      "54           decid           1\n",
      "55              vs           1\n",
      "56        diferent           1\n",
      "57        realment           1\n",
      "58          ventaj           1\n",
      "59       desventaj           1\n",
      "60          analiz           1\n",
      "61            fond           1\n",
      "62           decim           1\n",
      "63             tom           1\n",
      "64         liderat           1\n",
      "65       videojueg           1\n",
      "66           acerc           1\n",
      "67          rocket           1\n",
      "68         univers           1\n",
      "69         laptops           1\n",
      "70           chips           1\n",
      "71           movil           1\n",
      "72          aparec           1\n",
      "73            tant           1\n",
      "74          maquin           1\n",
      "75             tig           1\n",
      "76          balanc           1\n",
      "77         continu           1\n",
      "78            cont           1\n",
      "79           rival           1\n",
      "80        excelent           1\n",
      "81             tar           1\n",
      "82         edicion           1\n",
      "83      transcodif           1\n",
      "84            vide           1\n",
      "85        especial           1\n",
      "86               9           1\n",
      "87           5900x           1\n",
      "88           5950x           1\n",
      "89              16           1\n",
      "90         respect           1\n",
      "91        i9-10900           1\n",
      "92          compañ           1\n",
      "93       plataform           1\n",
      "94            list           1\n",
      "95        reemplaz           1\n",
      "96           diner           1\n",
      "97           simil           1\n",
      "98             baj           1\n",
      "99         present           1\n",
      "100        problem           1\n",
      "101       necesari           1\n",
      "102            car           1\n",
      "103          valor           1\n",
      "104        aproxim           1\n",
      "105            300           1\n",
      "106          dolar           1\n",
      "107              5           1\n",
      "108        fantast           1\n",
      "109           rang           1\n",
      "110            hil           1\n",
      "111           alto           1\n",
      "112         demand           1\n",
      "113          papel           1\n",
      "114           dobl           1\n",
      "115            tdp           1\n",
      "116           mund           1\n",
      "117           real           1\n",
      "118        segment           1\n",
      "119          basic           1\n",
      "120           merc           1\n",
      "121          tiend           1\n",
      "122       relacion           1\n",
      "123  calidad-preci           1\n",
      "124   sobresalient           1\n",
      "125          3300x           1\n",
      "126           3600           1\n",
      "127      multitare           1\n",
      "128         asombr           1\n",
      "129            ten           1\n",
      "130         10300f           1\n",
      "131      represent           1\n",
      "132        durisim           1\n",
      "133      competent           1\n",
      "134           3200           1\n",
      "135              g           1\n",
      "136             i3           1\n",
      "137          10100           1\n",
      "138          inici           1\n",
      "139         sistem           1\n",
      "140         tarjet           1\n",
      "141      adicional           1\n",
      "142          ideal           1\n",
      "143         oficin           1\n",
      "144        general           1\n",
      "145        disfrut           1\n",
      "146        netflix           1\n",
      "147           pued           1\n",
      "148            ped           1\n",
      "149          quier           1\n",
      "150      sumergirt           1\n",
      "151          liger           1\n",
      "152            apu           1\n",
      "153         radeon           1\n",
      "154          razon           1\n",
      "155        -ademas           1\n",
      "156   rendimiento-           1\n",
      "157       consider           1\n",
      "158         soport           1\n",
      "159          puert           1\n",
      "160    thunderbolt           1\n",
      "161              3           1\n",
      "162          piens           1\n",
      "163         utiliz           1\n",
      "164   overclocking           1\n",
      "165          barat           1\n",
      "166         b-seri           1\n",
      "167         permit           1\n",
      "168          arman           1\n",
      "169            bas           1\n",
      "170     presupuest           1\n",
      "171          limit           1\n",
      "172           punt           1\n",
      "173           hibr           1\n",
      "174          alder           1\n",
      "175          final           1\n",
      "176    arquitectur           1\n",
      "177         combin           1\n",
      "178            tip           1\n",
      "179          rumor           1\n",
      "180         sugier           1\n",
      "181            rap           1\n"
     ]
    }
   ],
   "source": [
    "from pandas import DataFrame, set_option\n",
    "from nltk import FreqDist\n",
    "\n",
    "set_option('display.max_colwidth', None)\n",
    "set_option('display.max_rows', None)\n",
    "\n",
    "## Crear tabla de frecuencia\n",
    "tabla_frecuencia = FreqDist(tokens_stemm)\n",
    "\n",
    "## Ordenar tabla de frecuencia\n",
    "tabla_frecuencia = DataFrame(sorted(tabla_frecuencia.items(), key=lambda x: x[1], reverse=True), columns=['Palabra', 'Frecuencia'])\n",
    "\n",
    "## Mostrar tabla de frecuencia\n",
    "print(tabla_frecuencia)\n",
    "\n"
   ]
  },
  {
   "cell_type": "code",
   "execution_count": 13,
   "id": "04627fb8-a086-49a5-b961-f9e32c2a1f60",
   "metadata": {
    "tags": []
   },
   "outputs": [
    {
     "data": {
      "image/png": "[encoded data removed]",
      "text/plain": [
       "<Figure size 1000x500 with 1 Axes>"
      ]
     },
     "metadata": {},
     "output_type": "display_data"
    }
   ],
   "source": [
    "#Graficar la tabla de frecuencias con los primeros 10 valores\n",
    "import matplotlib.pyplot as plt\n",
    "\n",
    "tabla_frecuencia[:10].plot(kind='bar', x='Palabra', y='Frecuencia', figsize=(10,5), title='Frecuencia de palabras')\n",
    "plt.show()"
   ]
  }
 ],
 "metadata": {
  "kernelspec": {
   "display_name": "Python 3",
   "language": "python",
   "name": "python3"
  },
  "language_info": {
   "codemirror_mode": {
    "name": "ipython",
    "version": 3
   },
   "file_extension": ".py",
   "mimetype": "text/x-python",
   "name": "python",
   "nbconvert_exporter": "python",
   "pygments_lexer": "ipython3",
   "version": "3.11.4"
  }
 },
 "nbformat": 4,
 "nbformat_minor": 5
}
