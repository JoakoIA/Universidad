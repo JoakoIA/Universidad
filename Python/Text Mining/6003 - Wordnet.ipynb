{
 "cells": [
  {
   "cell_type": "markdown",
   "metadata": {},
   "source": [
    "## __Text mining y Procesamiento de Lenguaje Natural (NLP)__\n",
    "\n",
    "__Profesor__: Anthony D. Cho\n",
    "\n",
    "__Tema__: Analisis semantico\n",
    "\n",
    "__Método__: Wordnet\n",
    "\n",
    "***"
   ]
  },
  {
   "cell_type": "code",
   "execution_count": null,
   "metadata": {},
   "outputs": [],
   "source": [
    "from nltk.corpus import wordnet as wn\n",
    "from nltk import download\n",
    "\n",
    "#download('wordnet')\n",
    "#download('omw-1.4')"
   ]
  },
  {
   "cell_type": "code",
   "execution_count": null,
   "metadata": {},
   "outputs": [],
   "source": [
    "## Lista de lenguajes soportados\n",
    "print(wn.langs())"
   ]
  },
  {
   "cell_type": "code",
   "execution_count": null,
   "metadata": {},
   "outputs": [],
   "source": [
    "## Consulta de sinomino\n",
    "wn.synonyms(word='coche', lang='spa')"
   ]
  },
  {
   "cell_type": "code",
   "execution_count": null,
   "metadata": {},
   "outputs": [],
   "source": [
    "## Busqueda de palabras similares por contexto\n",
    "\n",
    "query = wn.synsets('perro', pos=None, lang='spa')\n",
    "print(query, end=2*'\\n')\n",
    "\n",
    "for word_query in query:\n",
    "    print('{}: {}\\n'.format(word_query, word_query.lemma_names('spa')))\n"
   ]
  },
  {
   "cell_type": "code",
   "execution_count": null,
   "metadata": {},
   "outputs": [],
   "source": [
    "## Alguna información que provee\n",
    " \n",
    "word_query = query[0]\n",
    "print(word_query, end=2*'\\n')\n",
    "\n",
    "## Mostrar definición\n",
    "print('(Definicion): {}\\n'.format(word_query.definition()))\n",
    "\n",
    "## Mostrar ejemplo(s)\n",
    "print('(Ejemplo(s)): {}'.format(word_query.examples()))\n"
   ]
  },
  {
   "cell_type": "code",
   "execution_count": null,
   "metadata": {},
   "outputs": [],
   "source": [
    "## Consulta hipónimo\n",
    "print(word_query.hyponyms())\n",
    "hiponimo = word_query.hyponyms()[0]\n",
    "\n",
    "print('(Eng): {}'.format(hiponimo.lemma_names()))\n",
    "print('(Spa): {}'.format(hiponimo.lemma_names(lang='spa')))\n"
   ]
  },
  {
   "cell_type": "code",
   "execution_count": null,
   "metadata": {},
   "outputs": [],
   "source": [
    "## Consulta hiperónimo\n",
    "print(word_query.hypernyms())\n",
    "hiperonimo = word_query.hypernyms()[0]\n",
    "\n",
    "print('(Eng): {}'.format(hiperonimo.lemma_names()))\n",
    "print('(Spa): {}'.format(hiperonimo.lemma_names(lang='spa')))"
   ]
  }
 ],
 "metadata": {
  "kernelspec": {
   "display_name": "Python 3",
   "language": "python",
   "name": "python3"
  },
  "language_info": {
   "codemirror_mode": {
    "name": "ipython",
    "version": 3
   },
   "file_extension": ".py",
   "mimetype": "text/x-python",
   "name": "python",
   "nbconvert_exporter": "python",
   "pygments_lexer": "ipython3",
   "version": "3.10.11"
  }
 },
 "nbformat": 4,
 "nbformat_minor": 2
}
