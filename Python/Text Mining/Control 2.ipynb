{
 "cells": [
  {
   "cell_type": "markdown",
   "id": "35f68618",
   "metadata": {},
   "source": [
    "## __Text mining y Procesamiento de Lenguaje Natural (NLP)__\n",
    "\n",
    "__Profesor__: Anthony D. Cho\n",
    "\n",
    "__Asunto__: Control 2\n",
    "\n",
    "***"
   ]
  },
  {
   "cell_type": "markdown",
   "id": "10f0a23d",
   "metadata": {},
   "source": [
    "__Instrucciones:__ Al finalizar el control, enviar al correo anthony.cho@umayor.cl\n",
    "\n",
    "El control consta de 6 preguntas, cada uno tiene una ponderación de 3 puntos con un total de 18 puntos."
   ]
  },
  {
   "cell_type": "markdown",
   "id": "775f7ee4-4cc6-4156-8d73-b96705920c2c",
   "metadata": {},
   "source": [
    "Nombre y apellido: <Colocar informacion>"
   ]
  },
  {
   "cell_type": "code",
   "execution_count": null,
   "id": "8b6f762f-0316-453c-b069-4a5cae3885f2",
   "metadata": {},
   "outputs": [],
   "source": []
  },
  {
   "cell_type": "code",
   "execution_count": null,
   "id": "209d3724-42c1-43a7-975a-c8ffe44ec205",
   "metadata": {},
   "outputs": [],
   "source": []
  },
  {
   "cell_type": "markdown",
   "id": "3719b63c",
   "metadata": {},
   "source": [
    "__Requerimientos:__\n",
    "\n",
    "```{python}\n",
    "    python -m pip install nltk spacy mlxtend\n",
    "    python -m spacy download en_core_web_sm\n",
    "    python -m spacy download es_core_news_sm\n",
    "```"
   ]
  },
  {
   "cell_type": "markdown",
   "id": "6091ec56",
   "metadata": {},
   "source": [
    "### Librerias"
   ]
  },
  {
   "cell_type": "code",
   "execution_count": null,
   "id": "5c9d03d5",
   "metadata": {},
   "outputs": [],
   "source": [
    "import os\n",
    "import re\n",
    "from pandas import read_csv, DataFrame\n",
    "from spacy import load\n",
    "from spacy.lang.en.stop_words import STOP_WORDS\n",
    "from string import punctuation\n",
    "\n",
    "# Language model\n",
    "nlp = load('en_core_web_sm')\n",
    "\n",
    "## models\n",
    "from sklearn.feature_extraction.text import TfidfVectorizer\n"
   ]
  },
  {
   "cell_type": "markdown",
   "id": "198d7b3e-218c-428a-8db6-4ae7b080288a",
   "metadata": {},
   "source": [
    "Enlaces:\n",
    "* [TfidfVectorizer](https://scikit-learn.org/stable/modules/generated/sklearn.feature_extraction.text.TfidfVectorizer.html)"
   ]
  },
  {
   "cell_type": "markdown",
   "id": "c14b9441",
   "metadata": {},
   "source": [
    "<p style=\"color:red\"> <b>Instrucciones para usuarios que usan Windows: </b></p>\n",
    "\n",
    "* Descargar la data pulsando [¡¡AQUI!!](https://mayorcl-my.sharepoint.com/:x:/g/personal/anthony_cho_umayor_cl/ESEjID8EBhRHq4d_T0q58YYBFmw8HnC-poh7li4pLb-GDw?download=1)\n",
    "* Dejar el archivo __animes.csv__ junto con el script.\n",
    "* Ya con eso, debería poder ejecutar el script sin ningun problema."
   ]
  },
  {
   "cell_type": "code",
   "execution_count": null,
   "id": "76f4d7c6",
   "metadata": {},
   "outputs": [],
   "source": [
    "## Solo para Linux y MacOS\n",
    "if os.name == 'posix':\n",
    "    if not os.path.exists(\"animes.csv\"):\n",
    "\n",
    "        ## Descarga del archivo\n",
    "        !wget https://mayorcl-my.sharepoint.com/:x:/g/personal/anthony_cho_umayor_cl/ESEjID8EBhRHq4d_T0q58YYBFmw8HnC-poh7li4pLb-GDw?download=1\n",
    "\n",
    "        ## renombrar archivo\n",
    "        !mv \"ESEjID8EBhRHq4d_T0q58YYBFmw8HnC-poh7li4pLb-GDw?download=1\" \"animes.csv\"\n",
    "\n",
    "else:\n",
    "    print('Seguir las instrucciones para usuarios de Windows mencionado arriba.')"
   ]
  },
  {
   "cell_type": "code",
   "execution_count": null,
   "id": "c9a6b5e4",
   "metadata": {},
   "outputs": [],
   "source": []
  },
  {
   "cell_type": "markdown",
   "id": "8c006af0",
   "metadata": {},
   "source": [
    "# Parte 1"
   ]
  },
  {
   "cell_type": "markdown",
   "id": "4dd80e60",
   "metadata": {},
   "source": [
    "1- ¿Qué ventaja tiene en transformar los textos a una representación numérica?"
   ]
  },
  {
   "cell_type": "markdown",
   "id": "8d050ac5",
   "metadata": {},
   "source": []
  },
  {
   "cell_type": "markdown",
   "id": "7166d1ac",
   "metadata": {},
   "source": [
    "2- ¿Qué característica tiene los pesos de los posibles Stopwords en la matriz TFxIDF cuando no se eliminaron previamente del corpus?"
   ]
  },
  {
   "cell_type": "markdown",
   "id": "53628258",
   "metadata": {},
   "source": []
  },
  {
   "cell_type": "markdown",
   "id": "326fe104",
   "metadata": {},
   "source": [
    "3- Para el algoritmo APRIORI ¿qué modelo de representación numérica se debe suministrar? Justifique de manera muy breve. "
   ]
  },
  {
   "cell_type": "markdown",
   "id": "5f6cb991",
   "metadata": {},
   "source": []
  },
  {
   "cell_type": "markdown",
   "id": "8b81020f",
   "metadata": {},
   "source": []
  },
  {
   "cell_type": "markdown",
   "id": "77a3ad5a",
   "metadata": {},
   "source": [
    "# Parte 2"
   ]
  },
  {
   "cell_type": "code",
   "execution_count": null,
   "id": "b5fb9935-5943-4154-8ea3-e74939218490",
   "metadata": {},
   "outputs": [],
   "source": [
    "## Columns selection\n",
    "columns = ['title', 'synopsis', 'genre', 'img_url']\n",
    "\n",
    "## Load data\n",
    "data = read_csv('animes.csv', usecols=columns).dropna()\n",
    "\n",
    "## resampling\n",
    "data = data.sample(n=2000, random_state=20221026)\n",
    "\n",
    "## Display number of rows and columns\n",
    "print('(Shape) data: {}'.format(data.shape))"
   ]
  },
  {
   "cell_type": "code",
   "execution_count": null,
   "id": "afa12cd5-3e31-48fb-a30f-31ca0d9b664d",
   "metadata": {},
   "outputs": [],
   "source": [
    "data.head(3)"
   ]
  },
  {
   "cell_type": "markdown",
   "id": "d465a994-7ead-4a6c-b677-6b2b75ec80b0",
   "metadata": {},
   "source": [
    "1- Construya la tabla de representación de frecuencia inversa de las synopsis de los animes. "
   ]
  },
  {
   "cell_type": "code",
   "execution_count": null,
   "id": "ef4de884-d077-4b13-84e1-1d00dec565fb",
   "metadata": {},
   "outputs": [],
   "source": []
  },
  {
   "cell_type": "code",
   "execution_count": null,
   "id": "93949fe8-dd2b-47d4-9196-f664a23cb1bb",
   "metadata": {},
   "outputs": [],
   "source": []
  },
  {
   "cell_type": "markdown",
   "id": "2a51ab8b-4ebc-4837-b615-968ca9d4e3d9",
   "metadata": {},
   "source": [
    "2-Construya la tabla de representación binaria de los géneros de los animes. "
   ]
  },
  {
   "cell_type": "code",
   "execution_count": null,
   "id": "04627fb8-a086-49a5-b961-f9e32c2a1f60",
   "metadata": {
    "tags": []
   },
   "outputs": [],
   "source": []
  },
  {
   "cell_type": "code",
   "execution_count": null,
   "id": "d9ad06c1-afb1-47f9-ac41-fe20810f29e8",
   "metadata": {},
   "outputs": [],
   "source": []
  },
  {
   "cell_type": "markdown",
   "id": "1e8d432c-1da0-49a2-a554-26739ec09253",
   "metadata": {},
   "source": [
    "3- Determine las reglas de asociación más relevantes que tienen entre los géneros."
   ]
  },
  {
   "cell_type": "code",
   "execution_count": null,
   "id": "362da2be-ffe0-43d6-aa72-ff592536fca7",
   "metadata": {},
   "outputs": [],
   "source": []
  },
  {
   "cell_type": "code",
   "execution_count": null,
   "id": "43c110b5-8d6e-495f-bd8e-ead0d7f1e9ff",
   "metadata": {},
   "outputs": [],
   "source": []
  },
  {
   "cell_type": "code",
   "execution_count": null,
   "id": "c95eeaa7-ce05-4256-a54c-bf43503ef79c",
   "metadata": {},
   "outputs": [],
   "source": []
  },
  {
   "cell_type": "code",
   "execution_count": null,
   "id": "35d61aaf-7560-479d-91aa-724c530160b2",
   "metadata": {},
   "outputs": [],
   "source": []
  },
  {
   "cell_type": "code",
   "execution_count": null,
   "id": "4995ac6b-3f85-4b69-abbc-3bcfc398ce13",
   "metadata": {},
   "outputs": [],
   "source": []
  }
 ],
 "metadata": {
  "kernelspec": {
   "display_name": "Python 3",
   "language": "python",
   "name": "python3"
  },
  "language_info": {
   "codemirror_mode": {
    "name": "ipython",
    "version": 3
   },
   "file_extension": ".py",
   "mimetype": "text/x-python",
   "name": "python",
   "nbconvert_exporter": "python",
   "pygments_lexer": "ipython3",
   "version": "3.10.11"
  }
 },
 "nbformat": 4,
 "nbformat_minor": 5
}
