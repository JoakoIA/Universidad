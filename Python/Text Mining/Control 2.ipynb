{
 "cells": [
  {
   "cell_type": "markdown",
   "id": "35f68618",
   "metadata": {},
   "source": [
    "## __Text mining y Procesamiento de Lenguaje Natural (NLP)__\n",
    "\n",
    "__Profesor__: Anthony D. Cho\n",
    "\n",
    "__Asunto__: Control 2\n",
    "\n",
    "***"
   ]
  },
  {
   "cell_type": "markdown",
   "id": "10f0a23d",
   "metadata": {},
   "source": [
    "__Instrucciones:__ Al finalizar el control, enviar al correo anthony.cho@umayor.cl\n",
    "\n",
    "El control consta de 6 preguntas, cada uno tiene una ponderación de 3 puntos con un total de 18 puntos."
   ]
  },
  {
   "cell_type": "markdown",
   "id": "775f7ee4-4cc6-4156-8d73-b96705920c2c",
   "metadata": {},
   "source": [
    "Nombre y apellido: Joaquin Gutierrez"
   ]
  },
  {
   "cell_type": "code",
   "execution_count": null,
   "id": "8b6f762f-0316-453c-b069-4a5cae3885f2",
   "metadata": {},
   "outputs": [],
   "source": []
  },
  {
   "cell_type": "code",
   "execution_count": null,
   "id": "209d3724-42c1-43a7-975a-c8ffe44ec205",
   "metadata": {},
   "outputs": [],
   "source": []
  },
  {
   "cell_type": "markdown",
   "id": "3719b63c",
   "metadata": {},
   "source": [
    "__Requerimientos:__\n",
    "\n",
    "```{python}\n",
    "    python -m pip install nltk spacy mlxtend\n",
    "    python -m spacy download en_core_web_sm\n",
    "    python -m spacy download es_core_news_sm\n",
    "```"
   ]
  },
  {
   "cell_type": "markdown",
   "id": "6091ec56",
   "metadata": {},
   "source": [
    "### Librerias"
   ]
  },
  {
   "cell_type": "code",
   "execution_count": 11,
   "id": "e8edd182",
   "metadata": {},
   "outputs": [
    {
     "ename": "ImportError",
     "evalue": "cannot import name 'TypeAliasType' from 'typing_extensions' (c:\\Users\\16joa\\AppData\\Local\\Programs\\Python\\Python311\\Lib\\site-packages\\typing_extensions.py)",
     "output_type": "error",
     "traceback": [
      "\u001b[1;31m---------------------------------------------------------------------------\u001b[0m",
      "\u001b[1;31mImportError\u001b[0m                               Traceback (most recent call last)",
      "File \u001b[1;32mc:\\Users\\16joa\\AppData\\Local\\Programs\\Python\\Python311\\Lib\\site-packages\\confection\\__init__.py:38\u001b[0m\n\u001b[0;32m     37\u001b[0m \u001b[39mtry\u001b[39;00m:\n\u001b[1;32m---> 38\u001b[0m     \u001b[39mfrom\u001b[39;00m \u001b[39mpydantic\u001b[39;00m\u001b[39m.\u001b[39;00m\u001b[39mv1\u001b[39;00m \u001b[39mimport\u001b[39;00m BaseModel, Extra, ValidationError, create_model\n\u001b[0;32m     39\u001b[0m     \u001b[39mfrom\u001b[39;00m \u001b[39mpydantic\u001b[39;00m\u001b[39m.\u001b[39;00m\u001b[39mv1\u001b[39;00m\u001b[39m.\u001b[39;00m\u001b[39mfields\u001b[39;00m \u001b[39mimport\u001b[39;00m ModelField\n",
      "File \u001b[1;32mc:\\Users\\16joa\\AppData\\Local\\Programs\\Python\\Python311\\Lib\\site-packages\\pydantic\\__init__.py:13\u001b[0m\n\u001b[0;32m      4\u001b[0m \u001b[39mfrom\u001b[39;00m \u001b[39mpydantic_core\u001b[39;00m\u001b[39m.\u001b[39;00m\u001b[39mcore_schema\u001b[39;00m \u001b[39mimport\u001b[39;00m (\n\u001b[0;32m      5\u001b[0m     FieldSerializationInfo,\n\u001b[0;32m      6\u001b[0m     FieldValidationInfo,\n\u001b[1;32m   (...)\u001b[0m\n\u001b[0;32m     10\u001b[0m     ValidatorFunctionWrapHandler,\n\u001b[0;32m     11\u001b[0m )\n\u001b[1;32m---> 13\u001b[0m \u001b[39mfrom\u001b[39;00m \u001b[39m.\u001b[39;00m \u001b[39mimport\u001b[39;00m dataclasses\n\u001b[0;32m     14\u001b[0m \u001b[39mfrom\u001b[39;00m \u001b[39m.\u001b[39;00m\u001b[39m_internal\u001b[39;00m\u001b[39m.\u001b[39;00m\u001b[39m_annotated_handlers\u001b[39;00m \u001b[39mimport\u001b[39;00m (\n\u001b[0;32m     15\u001b[0m     GetCoreSchemaHandler \u001b[39mas\u001b[39;00m GetCoreSchemaHandler,\n\u001b[0;32m     16\u001b[0m )\n",
      "File \u001b[1;32mc:\\Users\\16joa\\AppData\\Local\\Programs\\Python\\Python311\\Lib\\site-packages\\pydantic\\dataclasses.py:11\u001b[0m\n\u001b[0;32m      9\u001b[0m \u001b[39mfrom\u001b[39;00m \u001b[39mtyping_extensions\u001b[39;00m \u001b[39mimport\u001b[39;00m Literal, dataclass_transform\n\u001b[1;32m---> 11\u001b[0m \u001b[39mfrom\u001b[39;00m \u001b[39m.\u001b[39;00m\u001b[39m_internal\u001b[39;00m \u001b[39mimport\u001b[39;00m _config, _decorators, _typing_extra\n\u001b[0;32m     12\u001b[0m \u001b[39mfrom\u001b[39;00m \u001b[39m.\u001b[39;00m\u001b[39m_internal\u001b[39;00m \u001b[39mimport\u001b[39;00m _dataclasses \u001b[39mas\u001b[39;00m _pydantic_dataclasses\n",
      "File \u001b[1;32mc:\\Users\\16joa\\AppData\\Local\\Programs\\Python\\Python311\\Lib\\site-packages\\pydantic\\_internal\\_decorators.py:15\u001b[0m\n\u001b[0;32m     14\u001b[0m \u001b[39mfrom\u001b[39;00m \u001b[39m.\u001b[39;00m\u001b[39m.\u001b[39;00m\u001b[39merrors\u001b[39;00m \u001b[39mimport\u001b[39;00m PydanticUserError\n\u001b[1;32m---> 15\u001b[0m \u001b[39mfrom\u001b[39;00m \u001b[39m.\u001b[39;00m\u001b[39m.\u001b[39;00m\u001b[39mfields\u001b[39;00m \u001b[39mimport\u001b[39;00m ComputedFieldInfo\n\u001b[0;32m     16\u001b[0m \u001b[39mfrom\u001b[39;00m \u001b[39m.\u001b[39;00m\u001b[39m_core_utils\u001b[39;00m \u001b[39mimport\u001b[39;00m get_type_ref\n",
      "File \u001b[1;32mc:\\Users\\16joa\\AppData\\Local\\Programs\\Python\\Python311\\Lib\\site-packages\\pydantic\\fields.py:18\u001b[0m\n\u001b[0;32m     16\u001b[0m \u001b[39mfrom\u001b[39;00m \u001b[39mtyping_extensions\u001b[39;00m \u001b[39mimport\u001b[39;00m Literal, Unpack\n\u001b[1;32m---> 18\u001b[0m \u001b[39mfrom\u001b[39;00m \u001b[39m.\u001b[39;00m \u001b[39mimport\u001b[39;00m types\n\u001b[0;32m     19\u001b[0m \u001b[39mfrom\u001b[39;00m \u001b[39m.\u001b[39;00m\u001b[39m_internal\u001b[39;00m \u001b[39mimport\u001b[39;00m _decorators, _fields, _generics, _internal_dataclass, _repr, _typing_extra, _utils\n",
      "File \u001b[1;32mc:\\Users\\16joa\\AppData\\Local\\Programs\\Python\\Python311\\Lib\\site-packages\\pydantic\\types.py:34\u001b[0m\n\u001b[0;32m     32\u001b[0m \u001b[39mfrom\u001b[39;00m \u001b[39mtyping_extensions\u001b[39;00m \u001b[39mimport\u001b[39;00m Annotated, Literal, Protocol, deprecated\n\u001b[1;32m---> 34\u001b[0m \u001b[39mfrom\u001b[39;00m \u001b[39m.\u001b[39;00m\u001b[39m_internal\u001b[39;00m \u001b[39mimport\u001b[39;00m (\n\u001b[0;32m     35\u001b[0m     _annotated_handlers,\n\u001b[0;32m     36\u001b[0m     _fields,\n\u001b[0;32m     37\u001b[0m     _internal_dataclass,\n\u001b[0;32m     38\u001b[0m     _known_annotated_metadata,\n\u001b[0;32m     39\u001b[0m     _utils,\n\u001b[0;32m     40\u001b[0m     _validators,\n\u001b[0;32m     41\u001b[0m )\n\u001b[0;32m     42\u001b[0m \u001b[39mfrom\u001b[39;00m \u001b[39m.\u001b[39;00m\u001b[39m_migration\u001b[39;00m \u001b[39mimport\u001b[39;00m getattr_migration\n",
      "File \u001b[1;32mc:\\Users\\16joa\\AppData\\Local\\Programs\\Python\\Python311\\Lib\\site-packages\\pydantic\\_internal\\_fields.py:13\u001b[0m\n\u001b[0;32m     11\u001b[0m \u001b[39mfrom\u001b[39;00m \u001b[39mpydantic_core\u001b[39;00m \u001b[39mimport\u001b[39;00m PydanticUndefined\n\u001b[1;32m---> 13\u001b[0m \u001b[39mfrom\u001b[39;00m \u001b[39m.\u001b[39;00m \u001b[39mimport\u001b[39;00m _typing_extra\n\u001b[0;32m     14\u001b[0m \u001b[39mfrom\u001b[39;00m \u001b[39m.\u001b[39;00m\u001b[39m_config\u001b[39;00m \u001b[39mimport\u001b[39;00m ConfigWrapper\n",
      "File \u001b[1;32mc:\\Users\\16joa\\AppData\\Local\\Programs\\Python\\Python311\\Lib\\site-packages\\pydantic\\_internal\\_typing_extra.py:13\u001b[0m\n\u001b[0;32m     11\u001b[0m \u001b[39mfrom\u001b[39;00m \u001b[39mtyping\u001b[39;00m \u001b[39mimport\u001b[39;00m TYPE_CHECKING, Any, ForwardRef\n\u001b[1;32m---> 13\u001b[0m \u001b[39mfrom\u001b[39;00m \u001b[39mtyping_extensions\u001b[39;00m \u001b[39mimport\u001b[39;00m Annotated, Final, Literal, TypeAliasType, TypeGuard, get_args, get_origin\n\u001b[0;32m     15\u001b[0m \u001b[39mif\u001b[39;00m TYPE_CHECKING:\n",
      "\u001b[1;31mImportError\u001b[0m: cannot import name 'TypeAliasType' from 'typing_extensions' (c:\\Users\\16joa\\AppData\\Local\\Programs\\Python\\Python311\\Lib\\site-packages\\typing_extensions.py)",
      "\nDuring handling of the above exception, another exception occurred:\n",
      "\u001b[1;31mImportError\u001b[0m                               Traceback (most recent call last)",
      "\u001b[1;32mc:\\Users\\16joa\\OneDrive\\Documentos\\GitHub\\Universidad\\Python\\Text Mining\\Control 2.ipynb Celda 8\u001b[0m line \u001b[0;36m4\n\u001b[0;32m      <a href='vscode-notebook-cell:/c%3A/Users/16joa/OneDrive/Documentos/GitHub/Universidad/Python/Text%20Mining/Control%202.ipynb#X50sZmlsZQ%3D%3D?line=1'>2</a>\u001b[0m \u001b[39mimport\u001b[39;00m \u001b[39mre\u001b[39;00m\n\u001b[0;32m      <a href='vscode-notebook-cell:/c%3A/Users/16joa/OneDrive/Documentos/GitHub/Universidad/Python/Text%20Mining/Control%202.ipynb#X50sZmlsZQ%3D%3D?line=2'>3</a>\u001b[0m \u001b[39mfrom\u001b[39;00m \u001b[39mpandas\u001b[39;00m \u001b[39mimport\u001b[39;00m read_csv, DataFrame\n\u001b[1;32m----> <a href='vscode-notebook-cell:/c%3A/Users/16joa/OneDrive/Documentos/GitHub/Universidad/Python/Text%20Mining/Control%202.ipynb#X50sZmlsZQ%3D%3D?line=3'>4</a>\u001b[0m \u001b[39mfrom\u001b[39;00m \u001b[39mspacy\u001b[39;00m \u001b[39mimport\u001b[39;00m load\n",
      "File \u001b[1;32mc:\\Users\\16joa\\AppData\\Local\\Programs\\Python\\Python311\\Lib\\site-packages\\spacy\\__init__.py:6\u001b[0m\n\u001b[0;32m      3\u001b[0m \u001b[39mfrom\u001b[39;00m \u001b[39mtyping\u001b[39;00m \u001b[39mimport\u001b[39;00m Any, Dict, Iterable, Union\n\u001b[0;32m      5\u001b[0m \u001b[39m# set library-specific custom warning handling before doing anything else\u001b[39;00m\n\u001b[1;32m----> 6\u001b[0m \u001b[39mfrom\u001b[39;00m \u001b[39m.\u001b[39;00m\u001b[39merrors\u001b[39;00m \u001b[39mimport\u001b[39;00m setup_default_warnings\n\u001b[0;32m      8\u001b[0m setup_default_warnings()  \u001b[39m# noqa: E402\u001b[39;00m\n\u001b[0;32m     10\u001b[0m \u001b[39m# These are imported as part of the API\u001b[39;00m\n",
      "File \u001b[1;32mc:\\Users\\16joa\\AppData\\Local\\Programs\\Python\\Python311\\Lib\\site-packages\\spacy\\errors.py:3\u001b[0m\n\u001b[0;32m      1\u001b[0m \u001b[39mimport\u001b[39;00m \u001b[39mwarnings\u001b[39;00m\n\u001b[1;32m----> 3\u001b[0m \u001b[39mfrom\u001b[39;00m \u001b[39m.\u001b[39;00m\u001b[39mcompat\u001b[39;00m \u001b[39mimport\u001b[39;00m Literal\n\u001b[0;32m      6\u001b[0m \u001b[39mclass\u001b[39;00m \u001b[39mErrorsWithCodes\u001b[39;00m(\u001b[39mtype\u001b[39m):\n\u001b[0;32m      7\u001b[0m     \u001b[39mdef\u001b[39;00m \u001b[39m__getattribute__\u001b[39m(\u001b[39mself\u001b[39m, code):\n",
      "File \u001b[1;32mc:\\Users\\16joa\\AppData\\Local\\Programs\\Python\\Python311\\Lib\\site-packages\\spacy\\compat.py:4\u001b[0m\n\u001b[0;32m      1\u001b[0m \u001b[39m\"\"\"Helpers for Python and platform compatibility.\"\"\"\u001b[39;00m\n\u001b[0;32m      2\u001b[0m \u001b[39mimport\u001b[39;00m \u001b[39msys\u001b[39;00m\n\u001b[1;32m----> 4\u001b[0m \u001b[39mfrom\u001b[39;00m \u001b[39mthinc\u001b[39;00m\u001b[39m.\u001b[39;00m\u001b[39mutil\u001b[39;00m \u001b[39mimport\u001b[39;00m copy_array\n\u001b[0;32m      6\u001b[0m \u001b[39mtry\u001b[39;00m:\n\u001b[0;32m      7\u001b[0m     \u001b[39mimport\u001b[39;00m \u001b[39mcPickle\u001b[39;00m \u001b[39mas\u001b[39;00m \u001b[39mpickle\u001b[39;00m\n",
      "File \u001b[1;32mc:\\Users\\16joa\\AppData\\Local\\Programs\\Python\\Python311\\Lib\\site-packages\\thinc\\__init__.py:5\u001b[0m\n\u001b[0;32m      2\u001b[0m \u001b[39mimport\u001b[39;00m \u001b[39mnumpy\u001b[39;00m\n\u001b[0;32m      4\u001b[0m \u001b[39mfrom\u001b[39;00m \u001b[39m.\u001b[39;00m\u001b[39mabout\u001b[39;00m \u001b[39mimport\u001b[39;00m __version__\n\u001b[1;32m----> 5\u001b[0m \u001b[39mfrom\u001b[39;00m \u001b[39m.\u001b[39;00m\u001b[39mconfig\u001b[39;00m \u001b[39mimport\u001b[39;00m registry\n\u001b[0;32m      7\u001b[0m \u001b[39m# fmt: off\u001b[39;00m\n\u001b[0;32m      8\u001b[0m __all__ \u001b[39m=\u001b[39m [\n\u001b[0;32m      9\u001b[0m     \u001b[39m\"\u001b[39m\u001b[39mregistry\u001b[39m\u001b[39m\"\u001b[39m,\n\u001b[0;32m     10\u001b[0m     \u001b[39m\"\u001b[39m\u001b[39m__version__\u001b[39m\u001b[39m\"\u001b[39m,\n\u001b[0;32m     11\u001b[0m ]\n",
      "File \u001b[1;32mc:\\Users\\16joa\\AppData\\Local\\Programs\\Python\\Python311\\Lib\\site-packages\\thinc\\config.py:2\u001b[0m\n\u001b[0;32m      1\u001b[0m \u001b[39mimport\u001b[39;00m \u001b[39mcatalogue\u001b[39;00m\n\u001b[1;32m----> 2\u001b[0m \u001b[39mimport\u001b[39;00m \u001b[39mconfection\u001b[39;00m\n\u001b[0;32m      3\u001b[0m \u001b[39mfrom\u001b[39;00m \u001b[39mconfection\u001b[39;00m \u001b[39mimport\u001b[39;00m VARIABLE_RE, Config, ConfigValidationError, Promise\n\u001b[0;32m      5\u001b[0m \u001b[39mfrom\u001b[39;00m \u001b[39m.\u001b[39;00m\u001b[39mtypes\u001b[39;00m \u001b[39mimport\u001b[39;00m Decorator\n",
      "File \u001b[1;32mc:\\Users\\16joa\\AppData\\Local\\Programs\\Python\\Python311\\Lib\\site-packages\\confection\\__init__.py:42\u001b[0m\n\u001b[0;32m     40\u001b[0m     \u001b[39mfrom\u001b[39;00m \u001b[39mpydantic\u001b[39;00m\u001b[39m.\u001b[39;00m\u001b[39mv1\u001b[39;00m\u001b[39m.\u001b[39;00m\u001b[39mmain\u001b[39;00m \u001b[39mimport\u001b[39;00m ModelMetaclass\n\u001b[0;32m     41\u001b[0m \u001b[39mexcept\u001b[39;00m \u001b[39mImportError\u001b[39;00m:\n\u001b[1;32m---> 42\u001b[0m     \u001b[39mfrom\u001b[39;00m \u001b[39mpydantic\u001b[39;00m \u001b[39mimport\u001b[39;00m BaseModel, create_model, ValidationError, Extra  \u001b[39m# type: ignore\u001b[39;00m\n\u001b[0;32m     43\u001b[0m     \u001b[39mfrom\u001b[39;00m \u001b[39mpydantic\u001b[39;00m\u001b[39m.\u001b[39;00m\u001b[39mmain\u001b[39;00m \u001b[39mimport\u001b[39;00m ModelMetaclass  \u001b[39m# type: ignore\u001b[39;00m\n\u001b[0;32m     44\u001b[0m     \u001b[39mfrom\u001b[39;00m \u001b[39mpydantic\u001b[39;00m\u001b[39m.\u001b[39;00m\u001b[39mfields\u001b[39;00m \u001b[39mimport\u001b[39;00m ModelField  \u001b[39m# type: ignore\u001b[39;00m\n",
      "File \u001b[1;32mc:\\Users\\16joa\\AppData\\Local\\Programs\\Python\\Python311\\Lib\\site-packages\\pydantic\\__init__.py:13\u001b[0m\n\u001b[0;32m      3\u001b[0m \u001b[39mimport\u001b[39;00m \u001b[39mpydantic_core\u001b[39;00m\n\u001b[0;32m      4\u001b[0m \u001b[39mfrom\u001b[39;00m \u001b[39mpydantic_core\u001b[39;00m\u001b[39m.\u001b[39;00m\u001b[39mcore_schema\u001b[39;00m \u001b[39mimport\u001b[39;00m (\n\u001b[0;32m      5\u001b[0m     FieldSerializationInfo,\n\u001b[0;32m      6\u001b[0m     FieldValidationInfo,\n\u001b[1;32m   (...)\u001b[0m\n\u001b[0;32m     10\u001b[0m     ValidatorFunctionWrapHandler,\n\u001b[0;32m     11\u001b[0m )\n\u001b[1;32m---> 13\u001b[0m \u001b[39mfrom\u001b[39;00m \u001b[39m.\u001b[39;00m \u001b[39mimport\u001b[39;00m dataclasses\n\u001b[0;32m     14\u001b[0m \u001b[39mfrom\u001b[39;00m \u001b[39m.\u001b[39;00m\u001b[39m_internal\u001b[39;00m\u001b[39m.\u001b[39;00m\u001b[39m_annotated_handlers\u001b[39;00m \u001b[39mimport\u001b[39;00m (\n\u001b[0;32m     15\u001b[0m     GetCoreSchemaHandler \u001b[39mas\u001b[39;00m GetCoreSchemaHandler,\n\u001b[0;32m     16\u001b[0m )\n\u001b[0;32m     17\u001b[0m \u001b[39mfrom\u001b[39;00m \u001b[39m.\u001b[39;00m\u001b[39m_internal\u001b[39;00m\u001b[39m.\u001b[39;00m\u001b[39m_annotated_handlers\u001b[39;00m \u001b[39mimport\u001b[39;00m (\n\u001b[0;32m     18\u001b[0m     GetJsonSchemaHandler \u001b[39mas\u001b[39;00m GetJsonSchemaHandler,\n\u001b[0;32m     19\u001b[0m )\n",
      "File \u001b[1;32mc:\\Users\\16joa\\AppData\\Local\\Programs\\Python\\Python311\\Lib\\site-packages\\pydantic\\dataclasses.py:11\u001b[0m\n\u001b[0;32m      7\u001b[0m \u001b[39mfrom\u001b[39;00m \u001b[39mtyping\u001b[39;00m \u001b[39mimport\u001b[39;00m TYPE_CHECKING, Any, Callable, Generic, NoReturn, TypeVar, overload\n\u001b[0;32m      9\u001b[0m \u001b[39mfrom\u001b[39;00m \u001b[39mtyping_extensions\u001b[39;00m \u001b[39mimport\u001b[39;00m Literal, dataclass_transform\n\u001b[1;32m---> 11\u001b[0m \u001b[39mfrom\u001b[39;00m \u001b[39m.\u001b[39;00m\u001b[39m_internal\u001b[39;00m \u001b[39mimport\u001b[39;00m _config, _decorators, _typing_extra\n\u001b[0;32m     12\u001b[0m \u001b[39mfrom\u001b[39;00m \u001b[39m.\u001b[39;00m\u001b[39m_internal\u001b[39;00m \u001b[39mimport\u001b[39;00m _dataclasses \u001b[39mas\u001b[39;00m _pydantic_dataclasses\n\u001b[0;32m     13\u001b[0m \u001b[39mfrom\u001b[39;00m \u001b[39m.\u001b[39;00m\u001b[39m_migration\u001b[39;00m \u001b[39mimport\u001b[39;00m getattr_migration\n",
      "File \u001b[1;32mc:\\Users\\16joa\\AppData\\Local\\Programs\\Python\\Python311\\Lib\\site-packages\\pydantic\\_internal\\_decorators.py:15\u001b[0m\n\u001b[0;32m     12\u001b[0m \u001b[39mfrom\u001b[39;00m \u001b[39mtyping_extensions\u001b[39;00m \u001b[39mimport\u001b[39;00m Literal, TypeAlias, is_typeddict\n\u001b[0;32m     14\u001b[0m \u001b[39mfrom\u001b[39;00m \u001b[39m.\u001b[39;00m\u001b[39m.\u001b[39;00m\u001b[39merrors\u001b[39;00m \u001b[39mimport\u001b[39;00m PydanticUserError\n\u001b[1;32m---> 15\u001b[0m \u001b[39mfrom\u001b[39;00m \u001b[39m.\u001b[39;00m\u001b[39m.\u001b[39;00m\u001b[39mfields\u001b[39;00m \u001b[39mimport\u001b[39;00m ComputedFieldInfo\n\u001b[0;32m     16\u001b[0m \u001b[39mfrom\u001b[39;00m \u001b[39m.\u001b[39;00m\u001b[39m_core_utils\u001b[39;00m \u001b[39mimport\u001b[39;00m get_type_ref\n\u001b[0;32m     17\u001b[0m \u001b[39mfrom\u001b[39;00m \u001b[39m.\u001b[39;00m\u001b[39m_internal_dataclass\u001b[39;00m \u001b[39mimport\u001b[39;00m slots_true\n",
      "File \u001b[1;32mc:\\Users\\16joa\\AppData\\Local\\Programs\\Python\\Python311\\Lib\\site-packages\\pydantic\\fields.py:18\u001b[0m\n\u001b[0;32m     15\u001b[0m \u001b[39mfrom\u001b[39;00m \u001b[39mpydantic_core\u001b[39;00m \u001b[39mimport\u001b[39;00m PydanticUndefined\n\u001b[0;32m     16\u001b[0m \u001b[39mfrom\u001b[39;00m \u001b[39mtyping_extensions\u001b[39;00m \u001b[39mimport\u001b[39;00m Literal, Unpack\n\u001b[1;32m---> 18\u001b[0m \u001b[39mfrom\u001b[39;00m \u001b[39m.\u001b[39;00m \u001b[39mimport\u001b[39;00m types\n\u001b[0;32m     19\u001b[0m \u001b[39mfrom\u001b[39;00m \u001b[39m.\u001b[39;00m\u001b[39m_internal\u001b[39;00m \u001b[39mimport\u001b[39;00m _decorators, _fields, _generics, _internal_dataclass, _repr, _typing_extra, _utils\n\u001b[0;32m     20\u001b[0m \u001b[39mfrom\u001b[39;00m \u001b[39m.\u001b[39;00m\u001b[39merrors\u001b[39;00m \u001b[39mimport\u001b[39;00m PydanticUserError\n",
      "File \u001b[1;32mc:\\Users\\16joa\\AppData\\Local\\Programs\\Python\\Python311\\Lib\\site-packages\\pydantic\\types.py:34\u001b[0m\n\u001b[0;32m     31\u001b[0m \u001b[39mfrom\u001b[39;00m \u001b[39mpydantic_core\u001b[39;00m \u001b[39mimport\u001b[39;00m CoreSchema, PydanticCustomError, PydanticKnownError, core_schema\n\u001b[0;32m     32\u001b[0m \u001b[39mfrom\u001b[39;00m \u001b[39mtyping_extensions\u001b[39;00m \u001b[39mimport\u001b[39;00m Annotated, Literal, Protocol, deprecated\n\u001b[1;32m---> 34\u001b[0m \u001b[39mfrom\u001b[39;00m \u001b[39m.\u001b[39;00m\u001b[39m_internal\u001b[39;00m \u001b[39mimport\u001b[39;00m (\n\u001b[0;32m     35\u001b[0m     _annotated_handlers,\n\u001b[0;32m     36\u001b[0m     _fields,\n\u001b[0;32m     37\u001b[0m     _internal_dataclass,\n\u001b[0;32m     38\u001b[0m     _known_annotated_metadata,\n\u001b[0;32m     39\u001b[0m     _utils,\n\u001b[0;32m     40\u001b[0m     _validators,\n\u001b[0;32m     41\u001b[0m )\n\u001b[0;32m     42\u001b[0m \u001b[39mfrom\u001b[39;00m \u001b[39m.\u001b[39;00m\u001b[39m_migration\u001b[39;00m \u001b[39mimport\u001b[39;00m getattr_migration\n\u001b[0;32m     43\u001b[0m \u001b[39mfrom\u001b[39;00m \u001b[39m.\u001b[39;00m\u001b[39mconfig\u001b[39;00m \u001b[39mimport\u001b[39;00m ConfigDict\n",
      "File \u001b[1;32mc:\\Users\\16joa\\AppData\\Local\\Programs\\Python\\Python311\\Lib\\site-packages\\pydantic\\_internal\\_fields.py:13\u001b[0m\n\u001b[0;32m     10\u001b[0m \u001b[39mfrom\u001b[39;00m \u001b[39mannotated_types\u001b[39;00m \u001b[39mimport\u001b[39;00m BaseMetadata\n\u001b[0;32m     11\u001b[0m \u001b[39mfrom\u001b[39;00m \u001b[39mpydantic_core\u001b[39;00m \u001b[39mimport\u001b[39;00m PydanticUndefined\n\u001b[1;32m---> 13\u001b[0m \u001b[39mfrom\u001b[39;00m \u001b[39m.\u001b[39;00m \u001b[39mimport\u001b[39;00m _typing_extra\n\u001b[0;32m     14\u001b[0m \u001b[39mfrom\u001b[39;00m \u001b[39m.\u001b[39;00m\u001b[39m_config\u001b[39;00m \u001b[39mimport\u001b[39;00m ConfigWrapper\n\u001b[0;32m     15\u001b[0m \u001b[39mfrom\u001b[39;00m \u001b[39m.\u001b[39;00m\u001b[39m_repr\u001b[39;00m \u001b[39mimport\u001b[39;00m Representation\n",
      "File \u001b[1;32mc:\\Users\\16joa\\AppData\\Local\\Programs\\Python\\Python311\\Lib\\site-packages\\pydantic\\_internal\\_typing_extra.py:13\u001b[0m\n\u001b[0;32m     10\u001b[0m \u001b[39mfrom\u001b[39;00m \u001b[39mtypes\u001b[39;00m \u001b[39mimport\u001b[39;00m GetSetDescriptorType\n\u001b[0;32m     11\u001b[0m \u001b[39mfrom\u001b[39;00m \u001b[39mtyping\u001b[39;00m \u001b[39mimport\u001b[39;00m TYPE_CHECKING, Any, ForwardRef\n\u001b[1;32m---> 13\u001b[0m \u001b[39mfrom\u001b[39;00m \u001b[39mtyping_extensions\u001b[39;00m \u001b[39mimport\u001b[39;00m Annotated, Final, Literal, TypeAliasType, TypeGuard, get_args, get_origin\n\u001b[0;32m     15\u001b[0m \u001b[39mif\u001b[39;00m TYPE_CHECKING:\n\u001b[0;32m     16\u001b[0m     \u001b[39mfrom\u001b[39;00m \u001b[39m.\u001b[39;00m\u001b[39m_dataclasses\u001b[39;00m \u001b[39mimport\u001b[39;00m StandardDataclass\n",
      "\u001b[1;31mImportError\u001b[0m: cannot import name 'TypeAliasType' from 'typing_extensions' (c:\\Users\\16joa\\AppData\\Local\\Programs\\Python\\Python311\\Lib\\site-packages\\typing_extensions.py)"
     ]
    }
   ],
   "source": [
    "import os\n",
    "import re\n",
    "from pandas import read_csv, DataFrame\n",
    "from spacy import load"
   ]
  },
  {
   "cell_type": "code",
   "execution_count": 3,
   "id": "5c9d03d5",
   "metadata": {},
   "outputs": [
    {
     "ename": "ImportError",
     "evalue": "cannot import name 'TypeAliasType' from 'typing_extensions' (c:\\Users\\16joa\\AppData\\Local\\Programs\\Python\\Python311\\Lib\\site-packages\\typing_extensions.py)",
     "output_type": "error",
     "traceback": [
      "\u001b[1;31m---------------------------------------------------------------------------\u001b[0m",
      "\u001b[1;31mImportError\u001b[0m                               Traceback (most recent call last)",
      "File \u001b[1;32mc:\\Users\\16joa\\AppData\\Local\\Programs\\Python\\Python311\\Lib\\site-packages\\confection\\__init__.py:38\u001b[0m\n\u001b[0;32m     37\u001b[0m \u001b[39mtry\u001b[39;00m:\n\u001b[1;32m---> 38\u001b[0m     \u001b[39mfrom\u001b[39;00m \u001b[39mpydantic\u001b[39;00m\u001b[39m.\u001b[39;00m\u001b[39mv1\u001b[39;00m \u001b[39mimport\u001b[39;00m BaseModel, Extra, ValidationError, create_model\n\u001b[0;32m     39\u001b[0m     \u001b[39mfrom\u001b[39;00m \u001b[39mpydantic\u001b[39;00m\u001b[39m.\u001b[39;00m\u001b[39mv1\u001b[39;00m\u001b[39m.\u001b[39;00m\u001b[39mfields\u001b[39;00m \u001b[39mimport\u001b[39;00m ModelField\n",
      "File \u001b[1;32mc:\\Users\\16joa\\AppData\\Local\\Programs\\Python\\Python311\\Lib\\site-packages\\pydantic\\__init__.py:13\u001b[0m\n\u001b[0;32m      4\u001b[0m \u001b[39mfrom\u001b[39;00m \u001b[39mpydantic_core\u001b[39;00m\u001b[39m.\u001b[39;00m\u001b[39mcore_schema\u001b[39;00m \u001b[39mimport\u001b[39;00m (\n\u001b[0;32m      5\u001b[0m     FieldSerializationInfo,\n\u001b[0;32m      6\u001b[0m     FieldValidationInfo,\n\u001b[1;32m   (...)\u001b[0m\n\u001b[0;32m     10\u001b[0m     ValidatorFunctionWrapHandler,\n\u001b[0;32m     11\u001b[0m )\n\u001b[1;32m---> 13\u001b[0m \u001b[39mfrom\u001b[39;00m \u001b[39m.\u001b[39;00m \u001b[39mimport\u001b[39;00m dataclasses\n\u001b[0;32m     14\u001b[0m \u001b[39mfrom\u001b[39;00m \u001b[39m.\u001b[39;00m\u001b[39m_internal\u001b[39;00m\u001b[39m.\u001b[39;00m\u001b[39m_annotated_handlers\u001b[39;00m \u001b[39mimport\u001b[39;00m (\n\u001b[0;32m     15\u001b[0m     GetCoreSchemaHandler \u001b[39mas\u001b[39;00m GetCoreSchemaHandler,\n\u001b[0;32m     16\u001b[0m )\n",
      "File \u001b[1;32mc:\\Users\\16joa\\AppData\\Local\\Programs\\Python\\Python311\\Lib\\site-packages\\pydantic\\dataclasses.py:11\u001b[0m\n\u001b[0;32m      9\u001b[0m \u001b[39mfrom\u001b[39;00m \u001b[39mtyping_extensions\u001b[39;00m \u001b[39mimport\u001b[39;00m Literal, dataclass_transform\n\u001b[1;32m---> 11\u001b[0m \u001b[39mfrom\u001b[39;00m \u001b[39m.\u001b[39;00m\u001b[39m_internal\u001b[39;00m \u001b[39mimport\u001b[39;00m _config, _decorators, _typing_extra\n\u001b[0;32m     12\u001b[0m \u001b[39mfrom\u001b[39;00m \u001b[39m.\u001b[39;00m\u001b[39m_internal\u001b[39;00m \u001b[39mimport\u001b[39;00m _dataclasses \u001b[39mas\u001b[39;00m _pydantic_dataclasses\n",
      "File \u001b[1;32mc:\\Users\\16joa\\AppData\\Local\\Programs\\Python\\Python311\\Lib\\site-packages\\pydantic\\_internal\\_decorators.py:15\u001b[0m\n\u001b[0;32m     14\u001b[0m \u001b[39mfrom\u001b[39;00m \u001b[39m.\u001b[39;00m\u001b[39m.\u001b[39;00m\u001b[39merrors\u001b[39;00m \u001b[39mimport\u001b[39;00m PydanticUserError\n\u001b[1;32m---> 15\u001b[0m \u001b[39mfrom\u001b[39;00m \u001b[39m.\u001b[39;00m\u001b[39m.\u001b[39;00m\u001b[39mfields\u001b[39;00m \u001b[39mimport\u001b[39;00m ComputedFieldInfo\n\u001b[0;32m     16\u001b[0m \u001b[39mfrom\u001b[39;00m \u001b[39m.\u001b[39;00m\u001b[39m_core_utils\u001b[39;00m \u001b[39mimport\u001b[39;00m get_type_ref\n",
      "File \u001b[1;32mc:\\Users\\16joa\\AppData\\Local\\Programs\\Python\\Python311\\Lib\\site-packages\\pydantic\\fields.py:18\u001b[0m\n\u001b[0;32m     16\u001b[0m \u001b[39mfrom\u001b[39;00m \u001b[39mtyping_extensions\u001b[39;00m \u001b[39mimport\u001b[39;00m Literal, Unpack\n\u001b[1;32m---> 18\u001b[0m \u001b[39mfrom\u001b[39;00m \u001b[39m.\u001b[39;00m \u001b[39mimport\u001b[39;00m types\n\u001b[0;32m     19\u001b[0m \u001b[39mfrom\u001b[39;00m \u001b[39m.\u001b[39;00m\u001b[39m_internal\u001b[39;00m \u001b[39mimport\u001b[39;00m _decorators, _fields, _generics, _internal_dataclass, _repr, _typing_extra, _utils\n",
      "File \u001b[1;32mc:\\Users\\16joa\\AppData\\Local\\Programs\\Python\\Python311\\Lib\\site-packages\\pydantic\\types.py:34\u001b[0m\n\u001b[0;32m     32\u001b[0m \u001b[39mfrom\u001b[39;00m \u001b[39mtyping_extensions\u001b[39;00m \u001b[39mimport\u001b[39;00m Annotated, Literal, Protocol, deprecated\n\u001b[1;32m---> 34\u001b[0m \u001b[39mfrom\u001b[39;00m \u001b[39m.\u001b[39;00m\u001b[39m_internal\u001b[39;00m \u001b[39mimport\u001b[39;00m (\n\u001b[0;32m     35\u001b[0m     _annotated_handlers,\n\u001b[0;32m     36\u001b[0m     _fields,\n\u001b[0;32m     37\u001b[0m     _internal_dataclass,\n\u001b[0;32m     38\u001b[0m     _known_annotated_metadata,\n\u001b[0;32m     39\u001b[0m     _utils,\n\u001b[0;32m     40\u001b[0m     _validators,\n\u001b[0;32m     41\u001b[0m )\n\u001b[0;32m     42\u001b[0m \u001b[39mfrom\u001b[39;00m \u001b[39m.\u001b[39;00m\u001b[39m_migration\u001b[39;00m \u001b[39mimport\u001b[39;00m getattr_migration\n",
      "File \u001b[1;32mc:\\Users\\16joa\\AppData\\Local\\Programs\\Python\\Python311\\Lib\\site-packages\\pydantic\\_internal\\_fields.py:13\u001b[0m\n\u001b[0;32m     11\u001b[0m \u001b[39mfrom\u001b[39;00m \u001b[39mpydantic_core\u001b[39;00m \u001b[39mimport\u001b[39;00m PydanticUndefined\n\u001b[1;32m---> 13\u001b[0m \u001b[39mfrom\u001b[39;00m \u001b[39m.\u001b[39;00m \u001b[39mimport\u001b[39;00m _typing_extra\n\u001b[0;32m     14\u001b[0m \u001b[39mfrom\u001b[39;00m \u001b[39m.\u001b[39;00m\u001b[39m_config\u001b[39;00m \u001b[39mimport\u001b[39;00m ConfigWrapper\n",
      "File \u001b[1;32mc:\\Users\\16joa\\AppData\\Local\\Programs\\Python\\Python311\\Lib\\site-packages\\pydantic\\_internal\\_typing_extra.py:13\u001b[0m\n\u001b[0;32m     11\u001b[0m \u001b[39mfrom\u001b[39;00m \u001b[39mtyping\u001b[39;00m \u001b[39mimport\u001b[39;00m TYPE_CHECKING, Any, ForwardRef\n\u001b[1;32m---> 13\u001b[0m \u001b[39mfrom\u001b[39;00m \u001b[39mtyping_extensions\u001b[39;00m \u001b[39mimport\u001b[39;00m Annotated, Final, Literal, TypeAliasType, TypeGuard, get_args, get_origin\n\u001b[0;32m     15\u001b[0m \u001b[39mif\u001b[39;00m TYPE_CHECKING:\n",
      "\u001b[1;31mImportError\u001b[0m: cannot import name 'TypeAliasType' from 'typing_extensions' (c:\\Users\\16joa\\AppData\\Local\\Programs\\Python\\Python311\\Lib\\site-packages\\typing_extensions.py)",
      "\nDuring handling of the above exception, another exception occurred:\n",
      "\u001b[1;31mImportError\u001b[0m                               Traceback (most recent call last)",
      "\u001b[1;32mc:\\Users\\16joa\\OneDrive\\Documentos\\GitHub\\Universidad\\Python\\Text Mining\\Control 2.ipynb Celda 8\u001b[0m line \u001b[0;36m4\n\u001b[0;32m      <a href='vscode-notebook-cell:/c%3A/Users/16joa/OneDrive/Documentos/GitHub/Universidad/Python/Text%20Mining/Control%202.ipynb#X10sZmlsZQ%3D%3D?line=1'>2</a>\u001b[0m \u001b[39mimport\u001b[39;00m \u001b[39mre\u001b[39;00m\n\u001b[0;32m      <a href='vscode-notebook-cell:/c%3A/Users/16joa/OneDrive/Documentos/GitHub/Universidad/Python/Text%20Mining/Control%202.ipynb#X10sZmlsZQ%3D%3D?line=2'>3</a>\u001b[0m \u001b[39mfrom\u001b[39;00m \u001b[39mpandas\u001b[39;00m \u001b[39mimport\u001b[39;00m read_csv, DataFrame\n\u001b[1;32m----> <a href='vscode-notebook-cell:/c%3A/Users/16joa/OneDrive/Documentos/GitHub/Universidad/Python/Text%20Mining/Control%202.ipynb#X10sZmlsZQ%3D%3D?line=3'>4</a>\u001b[0m \u001b[39mfrom\u001b[39;00m \u001b[39mspacy\u001b[39;00m \u001b[39mimport\u001b[39;00m load\n\u001b[0;32m      <a href='vscode-notebook-cell:/c%3A/Users/16joa/OneDrive/Documentos/GitHub/Universidad/Python/Text%20Mining/Control%202.ipynb#X10sZmlsZQ%3D%3D?line=4'>5</a>\u001b[0m \u001b[39mfrom\u001b[39;00m \u001b[39mspacy\u001b[39;00m\u001b[39m.\u001b[39;00m\u001b[39mlang\u001b[39;00m\u001b[39m.\u001b[39;00m\u001b[39men\u001b[39;00m\u001b[39m.\u001b[39;00m\u001b[39mstop_words\u001b[39;00m \u001b[39mimport\u001b[39;00m STOP_WORDS\n\u001b[0;32m      <a href='vscode-notebook-cell:/c%3A/Users/16joa/OneDrive/Documentos/GitHub/Universidad/Python/Text%20Mining/Control%202.ipynb#X10sZmlsZQ%3D%3D?line=5'>6</a>\u001b[0m \u001b[39mfrom\u001b[39;00m \u001b[39mstring\u001b[39;00m \u001b[39mimport\u001b[39;00m punctuation\n",
      "File \u001b[1;32mc:\\Users\\16joa\\AppData\\Local\\Programs\\Python\\Python311\\Lib\\site-packages\\spacy\\__init__.py:6\u001b[0m\n\u001b[0;32m      3\u001b[0m \u001b[39mfrom\u001b[39;00m \u001b[39mtyping\u001b[39;00m \u001b[39mimport\u001b[39;00m Any, Dict, Iterable, Union\n\u001b[0;32m      5\u001b[0m \u001b[39m# set library-specific custom warning handling before doing anything else\u001b[39;00m\n\u001b[1;32m----> 6\u001b[0m \u001b[39mfrom\u001b[39;00m \u001b[39m.\u001b[39;00m\u001b[39merrors\u001b[39;00m \u001b[39mimport\u001b[39;00m setup_default_warnings\n\u001b[0;32m      8\u001b[0m setup_default_warnings()  \u001b[39m# noqa: E402\u001b[39;00m\n\u001b[0;32m     10\u001b[0m \u001b[39m# These are imported as part of the API\u001b[39;00m\n",
      "File \u001b[1;32mc:\\Users\\16joa\\AppData\\Local\\Programs\\Python\\Python311\\Lib\\site-packages\\spacy\\errors.py:3\u001b[0m\n\u001b[0;32m      1\u001b[0m \u001b[39mimport\u001b[39;00m \u001b[39mwarnings\u001b[39;00m\n\u001b[1;32m----> 3\u001b[0m \u001b[39mfrom\u001b[39;00m \u001b[39m.\u001b[39;00m\u001b[39mcompat\u001b[39;00m \u001b[39mimport\u001b[39;00m Literal\n\u001b[0;32m      6\u001b[0m \u001b[39mclass\u001b[39;00m \u001b[39mErrorsWithCodes\u001b[39;00m(\u001b[39mtype\u001b[39m):\n\u001b[0;32m      7\u001b[0m     \u001b[39mdef\u001b[39;00m \u001b[39m__getattribute__\u001b[39m(\u001b[39mself\u001b[39m, code):\n",
      "File \u001b[1;32mc:\\Users\\16joa\\AppData\\Local\\Programs\\Python\\Python311\\Lib\\site-packages\\spacy\\compat.py:4\u001b[0m\n\u001b[0;32m      1\u001b[0m \u001b[39m\"\"\"Helpers for Python and platform compatibility.\"\"\"\u001b[39;00m\n\u001b[0;32m      2\u001b[0m \u001b[39mimport\u001b[39;00m \u001b[39msys\u001b[39;00m\n\u001b[1;32m----> 4\u001b[0m \u001b[39mfrom\u001b[39;00m \u001b[39mthinc\u001b[39;00m\u001b[39m.\u001b[39;00m\u001b[39mutil\u001b[39;00m \u001b[39mimport\u001b[39;00m copy_array\n\u001b[0;32m      6\u001b[0m \u001b[39mtry\u001b[39;00m:\n\u001b[0;32m      7\u001b[0m     \u001b[39mimport\u001b[39;00m \u001b[39mcPickle\u001b[39;00m \u001b[39mas\u001b[39;00m \u001b[39mpickle\u001b[39;00m\n",
      "File \u001b[1;32mc:\\Users\\16joa\\AppData\\Local\\Programs\\Python\\Python311\\Lib\\site-packages\\thinc\\__init__.py:5\u001b[0m\n\u001b[0;32m      2\u001b[0m \u001b[39mimport\u001b[39;00m \u001b[39mnumpy\u001b[39;00m\n\u001b[0;32m      4\u001b[0m \u001b[39mfrom\u001b[39;00m \u001b[39m.\u001b[39;00m\u001b[39mabout\u001b[39;00m \u001b[39mimport\u001b[39;00m __version__\n\u001b[1;32m----> 5\u001b[0m \u001b[39mfrom\u001b[39;00m \u001b[39m.\u001b[39;00m\u001b[39mconfig\u001b[39;00m \u001b[39mimport\u001b[39;00m registry\n\u001b[0;32m      7\u001b[0m \u001b[39m# fmt: off\u001b[39;00m\n\u001b[0;32m      8\u001b[0m __all__ \u001b[39m=\u001b[39m [\n\u001b[0;32m      9\u001b[0m     \u001b[39m\"\u001b[39m\u001b[39mregistry\u001b[39m\u001b[39m\"\u001b[39m,\n\u001b[0;32m     10\u001b[0m     \u001b[39m\"\u001b[39m\u001b[39m__version__\u001b[39m\u001b[39m\"\u001b[39m,\n\u001b[0;32m     11\u001b[0m ]\n",
      "File \u001b[1;32mc:\\Users\\16joa\\AppData\\Local\\Programs\\Python\\Python311\\Lib\\site-packages\\thinc\\config.py:2\u001b[0m\n\u001b[0;32m      1\u001b[0m \u001b[39mimport\u001b[39;00m \u001b[39mcatalogue\u001b[39;00m\n\u001b[1;32m----> 2\u001b[0m \u001b[39mimport\u001b[39;00m \u001b[39mconfection\u001b[39;00m\n\u001b[0;32m      3\u001b[0m \u001b[39mfrom\u001b[39;00m \u001b[39mconfection\u001b[39;00m \u001b[39mimport\u001b[39;00m VARIABLE_RE, Config, ConfigValidationError, Promise\n\u001b[0;32m      5\u001b[0m \u001b[39mfrom\u001b[39;00m \u001b[39m.\u001b[39;00m\u001b[39mtypes\u001b[39;00m \u001b[39mimport\u001b[39;00m Decorator\n",
      "File \u001b[1;32mc:\\Users\\16joa\\AppData\\Local\\Programs\\Python\\Python311\\Lib\\site-packages\\confection\\__init__.py:42\u001b[0m\n\u001b[0;32m     40\u001b[0m     \u001b[39mfrom\u001b[39;00m \u001b[39mpydantic\u001b[39;00m\u001b[39m.\u001b[39;00m\u001b[39mv1\u001b[39;00m\u001b[39m.\u001b[39;00m\u001b[39mmain\u001b[39;00m \u001b[39mimport\u001b[39;00m ModelMetaclass\n\u001b[0;32m     41\u001b[0m \u001b[39mexcept\u001b[39;00m \u001b[39mImportError\u001b[39;00m:\n\u001b[1;32m---> 42\u001b[0m     \u001b[39mfrom\u001b[39;00m \u001b[39mpydantic\u001b[39;00m \u001b[39mimport\u001b[39;00m BaseModel, create_model, ValidationError, Extra  \u001b[39m# type: ignore\u001b[39;00m\n\u001b[0;32m     43\u001b[0m     \u001b[39mfrom\u001b[39;00m \u001b[39mpydantic\u001b[39;00m\u001b[39m.\u001b[39;00m\u001b[39mmain\u001b[39;00m \u001b[39mimport\u001b[39;00m ModelMetaclass  \u001b[39m# type: ignore\u001b[39;00m\n\u001b[0;32m     44\u001b[0m     \u001b[39mfrom\u001b[39;00m \u001b[39mpydantic\u001b[39;00m\u001b[39m.\u001b[39;00m\u001b[39mfields\u001b[39;00m \u001b[39mimport\u001b[39;00m ModelField  \u001b[39m# type: ignore\u001b[39;00m\n",
      "File \u001b[1;32mc:\\Users\\16joa\\AppData\\Local\\Programs\\Python\\Python311\\Lib\\site-packages\\pydantic\\__init__.py:13\u001b[0m\n\u001b[0;32m      3\u001b[0m \u001b[39mimport\u001b[39;00m \u001b[39mpydantic_core\u001b[39;00m\n\u001b[0;32m      4\u001b[0m \u001b[39mfrom\u001b[39;00m \u001b[39mpydantic_core\u001b[39;00m\u001b[39m.\u001b[39;00m\u001b[39mcore_schema\u001b[39;00m \u001b[39mimport\u001b[39;00m (\n\u001b[0;32m      5\u001b[0m     FieldSerializationInfo,\n\u001b[0;32m      6\u001b[0m     FieldValidationInfo,\n\u001b[1;32m   (...)\u001b[0m\n\u001b[0;32m     10\u001b[0m     ValidatorFunctionWrapHandler,\n\u001b[0;32m     11\u001b[0m )\n\u001b[1;32m---> 13\u001b[0m \u001b[39mfrom\u001b[39;00m \u001b[39m.\u001b[39;00m \u001b[39mimport\u001b[39;00m dataclasses\n\u001b[0;32m     14\u001b[0m \u001b[39mfrom\u001b[39;00m \u001b[39m.\u001b[39;00m\u001b[39m_internal\u001b[39;00m\u001b[39m.\u001b[39;00m\u001b[39m_annotated_handlers\u001b[39;00m \u001b[39mimport\u001b[39;00m (\n\u001b[0;32m     15\u001b[0m     GetCoreSchemaHandler \u001b[39mas\u001b[39;00m GetCoreSchemaHandler,\n\u001b[0;32m     16\u001b[0m )\n\u001b[0;32m     17\u001b[0m \u001b[39mfrom\u001b[39;00m \u001b[39m.\u001b[39;00m\u001b[39m_internal\u001b[39;00m\u001b[39m.\u001b[39;00m\u001b[39m_annotated_handlers\u001b[39;00m \u001b[39mimport\u001b[39;00m (\n\u001b[0;32m     18\u001b[0m     GetJsonSchemaHandler \u001b[39mas\u001b[39;00m GetJsonSchemaHandler,\n\u001b[0;32m     19\u001b[0m )\n",
      "File \u001b[1;32mc:\\Users\\16joa\\AppData\\Local\\Programs\\Python\\Python311\\Lib\\site-packages\\pydantic\\dataclasses.py:11\u001b[0m\n\u001b[0;32m      7\u001b[0m \u001b[39mfrom\u001b[39;00m \u001b[39mtyping\u001b[39;00m \u001b[39mimport\u001b[39;00m TYPE_CHECKING, Any, Callable, Generic, NoReturn, TypeVar, overload\n\u001b[0;32m      9\u001b[0m \u001b[39mfrom\u001b[39;00m \u001b[39mtyping_extensions\u001b[39;00m \u001b[39mimport\u001b[39;00m Literal, dataclass_transform\n\u001b[1;32m---> 11\u001b[0m \u001b[39mfrom\u001b[39;00m \u001b[39m.\u001b[39;00m\u001b[39m_internal\u001b[39;00m \u001b[39mimport\u001b[39;00m _config, _decorators, _typing_extra\n\u001b[0;32m     12\u001b[0m \u001b[39mfrom\u001b[39;00m \u001b[39m.\u001b[39;00m\u001b[39m_internal\u001b[39;00m \u001b[39mimport\u001b[39;00m _dataclasses \u001b[39mas\u001b[39;00m _pydantic_dataclasses\n\u001b[0;32m     13\u001b[0m \u001b[39mfrom\u001b[39;00m \u001b[39m.\u001b[39;00m\u001b[39m_migration\u001b[39;00m \u001b[39mimport\u001b[39;00m getattr_migration\n",
      "File \u001b[1;32mc:\\Users\\16joa\\AppData\\Local\\Programs\\Python\\Python311\\Lib\\site-packages\\pydantic\\_internal\\_decorators.py:15\u001b[0m\n\u001b[0;32m     12\u001b[0m \u001b[39mfrom\u001b[39;00m \u001b[39mtyping_extensions\u001b[39;00m \u001b[39mimport\u001b[39;00m Literal, TypeAlias, is_typeddict\n\u001b[0;32m     14\u001b[0m \u001b[39mfrom\u001b[39;00m \u001b[39m.\u001b[39;00m\u001b[39m.\u001b[39;00m\u001b[39merrors\u001b[39;00m \u001b[39mimport\u001b[39;00m PydanticUserError\n\u001b[1;32m---> 15\u001b[0m \u001b[39mfrom\u001b[39;00m \u001b[39m.\u001b[39;00m\u001b[39m.\u001b[39;00m\u001b[39mfields\u001b[39;00m \u001b[39mimport\u001b[39;00m ComputedFieldInfo\n\u001b[0;32m     16\u001b[0m \u001b[39mfrom\u001b[39;00m \u001b[39m.\u001b[39;00m\u001b[39m_core_utils\u001b[39;00m \u001b[39mimport\u001b[39;00m get_type_ref\n\u001b[0;32m     17\u001b[0m \u001b[39mfrom\u001b[39;00m \u001b[39m.\u001b[39;00m\u001b[39m_internal_dataclass\u001b[39;00m \u001b[39mimport\u001b[39;00m slots_true\n",
      "File \u001b[1;32mc:\\Users\\16joa\\AppData\\Local\\Programs\\Python\\Python311\\Lib\\site-packages\\pydantic\\fields.py:18\u001b[0m\n\u001b[0;32m     15\u001b[0m \u001b[39mfrom\u001b[39;00m \u001b[39mpydantic_core\u001b[39;00m \u001b[39mimport\u001b[39;00m PydanticUndefined\n\u001b[0;32m     16\u001b[0m \u001b[39mfrom\u001b[39;00m \u001b[39mtyping_extensions\u001b[39;00m \u001b[39mimport\u001b[39;00m Literal, Unpack\n\u001b[1;32m---> 18\u001b[0m \u001b[39mfrom\u001b[39;00m \u001b[39m.\u001b[39;00m \u001b[39mimport\u001b[39;00m types\n\u001b[0;32m     19\u001b[0m \u001b[39mfrom\u001b[39;00m \u001b[39m.\u001b[39;00m\u001b[39m_internal\u001b[39;00m \u001b[39mimport\u001b[39;00m _decorators, _fields, _generics, _internal_dataclass, _repr, _typing_extra, _utils\n\u001b[0;32m     20\u001b[0m \u001b[39mfrom\u001b[39;00m \u001b[39m.\u001b[39;00m\u001b[39merrors\u001b[39;00m \u001b[39mimport\u001b[39;00m PydanticUserError\n",
      "File \u001b[1;32mc:\\Users\\16joa\\AppData\\Local\\Programs\\Python\\Python311\\Lib\\site-packages\\pydantic\\types.py:34\u001b[0m\n\u001b[0;32m     31\u001b[0m \u001b[39mfrom\u001b[39;00m \u001b[39mpydantic_core\u001b[39;00m \u001b[39mimport\u001b[39;00m CoreSchema, PydanticCustomError, PydanticKnownError, core_schema\n\u001b[0;32m     32\u001b[0m \u001b[39mfrom\u001b[39;00m \u001b[39mtyping_extensions\u001b[39;00m \u001b[39mimport\u001b[39;00m Annotated, Literal, Protocol, deprecated\n\u001b[1;32m---> 34\u001b[0m \u001b[39mfrom\u001b[39;00m \u001b[39m.\u001b[39;00m\u001b[39m_internal\u001b[39;00m \u001b[39mimport\u001b[39;00m (\n\u001b[0;32m     35\u001b[0m     _annotated_handlers,\n\u001b[0;32m     36\u001b[0m     _fields,\n\u001b[0;32m     37\u001b[0m     _internal_dataclass,\n\u001b[0;32m     38\u001b[0m     _known_annotated_metadata,\n\u001b[0;32m     39\u001b[0m     _utils,\n\u001b[0;32m     40\u001b[0m     _validators,\n\u001b[0;32m     41\u001b[0m )\n\u001b[0;32m     42\u001b[0m \u001b[39mfrom\u001b[39;00m \u001b[39m.\u001b[39;00m\u001b[39m_migration\u001b[39;00m \u001b[39mimport\u001b[39;00m getattr_migration\n\u001b[0;32m     43\u001b[0m \u001b[39mfrom\u001b[39;00m \u001b[39m.\u001b[39;00m\u001b[39mconfig\u001b[39;00m \u001b[39mimport\u001b[39;00m ConfigDict\n",
      "File \u001b[1;32mc:\\Users\\16joa\\AppData\\Local\\Programs\\Python\\Python311\\Lib\\site-packages\\pydantic\\_internal\\_fields.py:13\u001b[0m\n\u001b[0;32m     10\u001b[0m \u001b[39mfrom\u001b[39;00m \u001b[39mannotated_types\u001b[39;00m \u001b[39mimport\u001b[39;00m BaseMetadata\n\u001b[0;32m     11\u001b[0m \u001b[39mfrom\u001b[39;00m \u001b[39mpydantic_core\u001b[39;00m \u001b[39mimport\u001b[39;00m PydanticUndefined\n\u001b[1;32m---> 13\u001b[0m \u001b[39mfrom\u001b[39;00m \u001b[39m.\u001b[39;00m \u001b[39mimport\u001b[39;00m _typing_extra\n\u001b[0;32m     14\u001b[0m \u001b[39mfrom\u001b[39;00m \u001b[39m.\u001b[39;00m\u001b[39m_config\u001b[39;00m \u001b[39mimport\u001b[39;00m ConfigWrapper\n\u001b[0;32m     15\u001b[0m \u001b[39mfrom\u001b[39;00m \u001b[39m.\u001b[39;00m\u001b[39m_repr\u001b[39;00m \u001b[39mimport\u001b[39;00m Representation\n",
      "File \u001b[1;32mc:\\Users\\16joa\\AppData\\Local\\Programs\\Python\\Python311\\Lib\\site-packages\\pydantic\\_internal\\_typing_extra.py:13\u001b[0m\n\u001b[0;32m     10\u001b[0m \u001b[39mfrom\u001b[39;00m \u001b[39mtypes\u001b[39;00m \u001b[39mimport\u001b[39;00m GetSetDescriptorType\n\u001b[0;32m     11\u001b[0m \u001b[39mfrom\u001b[39;00m \u001b[39mtyping\u001b[39;00m \u001b[39mimport\u001b[39;00m TYPE_CHECKING, Any, ForwardRef\n\u001b[1;32m---> 13\u001b[0m \u001b[39mfrom\u001b[39;00m \u001b[39mtyping_extensions\u001b[39;00m \u001b[39mimport\u001b[39;00m Annotated, Final, Literal, TypeAliasType, TypeGuard, get_args, get_origin\n\u001b[0;32m     15\u001b[0m \u001b[39mif\u001b[39;00m TYPE_CHECKING:\n\u001b[0;32m     16\u001b[0m     \u001b[39mfrom\u001b[39;00m \u001b[39m.\u001b[39;00m\u001b[39m_dataclasses\u001b[39;00m \u001b[39mimport\u001b[39;00m StandardDataclass\n",
      "\u001b[1;31mImportError\u001b[0m: cannot import name 'TypeAliasType' from 'typing_extensions' (c:\\Users\\16joa\\AppData\\Local\\Programs\\Python\\Python311\\Lib\\site-packages\\typing_extensions.py)"
     ]
    }
   ],
   "source": [
    "import os\n",
    "import re\n",
    "from pandas import read_csv, DataFrame\n",
    "from spacy import load\n",
    "from spacy.lang.en.stop_words import STOP_WORDS\n",
    "from string import punctuation\n",
    "\n",
    "# Language model\n",
    "nlp = load('en_core_web_sm')\n",
    "\n",
    "## models\n",
    "from sklearn.feature_extraction.text import TfidfVectorizer\n"
   ]
  },
  {
   "cell_type": "markdown",
   "id": "198d7b3e-218c-428a-8db6-4ae7b080288a",
   "metadata": {},
   "source": [
    "Enlaces:\n",
    "* [TfidfVectorizer](https://scikit-learn.org/stable/modules/generated/sklearn.feature_extraction.text.TfidfVectorizer.html)"
   ]
  },
  {
   "cell_type": "markdown",
   "id": "c14b9441",
   "metadata": {},
   "source": [
    "<p style=\"color:red\"> <b>Instrucciones para usuarios que usan Windows: </b></p>\n",
    "\n",
    "* Descargar la data pulsando [¡¡AQUI!!](https://mayorcl-my.sharepoint.com/:x:/g/personal/anthony_cho_umayor_cl/ESEjID8EBhRHq4d_T0q58YYBFmw8HnC-poh7li4pLb-GDw?download=1)\n",
    "* Dejar el archivo __animes.csv__ junto con el script.\n",
    "* Ya con eso, debería poder ejecutar el script sin ningun problema."
   ]
  },
  {
   "cell_type": "code",
   "execution_count": 2,
   "id": "76f4d7c6",
   "metadata": {},
   "outputs": [
    {
     "name": "stdout",
     "output_type": "stream",
     "text": [
      "Seguir las instrucciones para usuarios de Windows mencionado arriba.\n"
     ]
    }
   ],
   "source": [
    "## Solo para Linux y MacOS\n",
    "if os.name == 'posix':\n",
    "    if not os.path.exists(\"animes.csv\"):\n",
    "\n",
    "        ## Descarga del archivo\n",
    "        !wget https://mayorcl-my.sharepoint.com/:x:/g/personal/anthony_cho_umayor_cl/ESEjID8EBhRHq4d_T0q58YYBFmw8HnC-poh7li4pLb-GDw?download=1\n",
    "\n",
    "        ## renombrar archivo\n",
    "        !mv \"ESEjID8EBhRHq4d_T0q58YYBFmw8HnC-poh7li4pLb-GDw?download=1\" \"animes.csv\"\n",
    "\n",
    "else:\n",
    "    print('Seguir las instrucciones para usuarios de Windows mencionado arriba.')"
   ]
  },
  {
   "cell_type": "code",
   "execution_count": null,
   "id": "c9a6b5e4",
   "metadata": {},
   "outputs": [],
   "source": []
  },
  {
   "cell_type": "markdown",
   "id": "8c006af0",
   "metadata": {},
   "source": [
    "# Parte 1"
   ]
  },
  {
   "cell_type": "markdown",
   "id": "4dd80e60",
   "metadata": {},
   "source": [
    "1- ¿Qué ventaja tiene en transformar los textos a una representación numérica?"
   ]
  },
  {
   "cell_type": "markdown",
   "id": "8d050ac5",
   "metadata": {},
   "source": []
  },
  {
   "cell_type": "markdown",
   "id": "7166d1ac",
   "metadata": {},
   "source": [
    "2- ¿Qué característica tiene los pesos de los posibles Stopwords en la matriz TFxIDF cuando no se eliminaron previamente del corpus?"
   ]
  },
  {
   "cell_type": "markdown",
   "id": "53628258",
   "metadata": {},
   "source": []
  },
  {
   "cell_type": "markdown",
   "id": "326fe104",
   "metadata": {},
   "source": [
    "3- Para el algoritmo APRIORI ¿qué modelo de representación numérica se debe suministrar? Justifique de manera muy breve. "
   ]
  },
  {
   "cell_type": "markdown",
   "id": "5f6cb991",
   "metadata": {},
   "source": []
  },
  {
   "cell_type": "markdown",
   "id": "8b81020f",
   "metadata": {},
   "source": []
  },
  {
   "cell_type": "markdown",
   "id": "77a3ad5a",
   "metadata": {},
   "source": [
    "# Parte 2"
   ]
  },
  {
   "cell_type": "code",
   "execution_count": 3,
   "id": "b5fb9935-5943-4154-8ea3-e74939218490",
   "metadata": {},
   "outputs": [
    {
     "name": "stdout",
     "output_type": "stream",
     "text": [
      "(Shape) data: (2000, 4)\n"
     ]
    }
   ],
   "source": [
    "## Columns selection\n",
    "columns = ['title', 'synopsis', 'genre', 'img_url']\n",
    "\n",
    "## Load data\n",
    "data = read_csv('animes.csv', usecols=columns).dropna()\n",
    "\n",
    "## resampling\n",
    "data = data.sample(n=2000, random_state=20221026)\n",
    "\n",
    "## Display number of rows and columns\n",
    "print('(Shape) data: {}'.format(data.shape))"
   ]
  },
  {
   "cell_type": "code",
   "execution_count": 4,
   "id": "afa12cd5-3e31-48fb-a30f-31ca0d9b664d",
   "metadata": {},
   "outputs": [
    {
     "data": {
      "text/html": [
       "<div>\n",
       "<style scoped>\n",
       "    .dataframe tbody tr th:only-of-type {\n",
       "        vertical-align: middle;\n",
       "    }\n",
       "\n",
       "    .dataframe tbody tr th {\n",
       "        vertical-align: top;\n",
       "    }\n",
       "\n",
       "    .dataframe thead th {\n",
       "        text-align: right;\n",
       "    }\n",
       "</style>\n",
       "<table border=\"1\" class=\"dataframe\">\n",
       "  <thead>\n",
       "    <tr style=\"text-align: right;\">\n",
       "      <th></th>\n",
       "      <th>title</th>\n",
       "      <th>synopsis</th>\n",
       "      <th>genre</th>\n",
       "      <th>img_url</th>\n",
       "    </tr>\n",
       "  </thead>\n",
       "  <tbody>\n",
       "    <tr>\n",
       "      <th>11175</th>\n",
       "      <td>Bogeul Bogeul Bomulseon</td>\n",
       "      <td>A bunch of dreamers and treasure hunters go hu...</td>\n",
       "      <td>['Adventure', 'Fantasy']</td>\n",
       "      <td>https://cdn.myanimelist.net/images/anime/12/71...</td>\n",
       "    </tr>\n",
       "    <tr>\n",
       "      <th>7311</th>\n",
       "      <td>Kikou Senki Dragonar</td>\n",
       "      <td>A.D. 2087 - the United Lunar Empire Giganos w...</td>\n",
       "      <td>['Sci-Fi', 'Adventure', 'Space', 'Mecha']</td>\n",
       "      <td>https://cdn.myanimelist.net/images/anime/13/11...</td>\n",
       "    </tr>\n",
       "    <tr>\n",
       "      <th>8243</th>\n",
       "      <td>Kissaten Soudou</td>\n",
       "      <td>A customer and cafe owner get into a fight.</td>\n",
       "      <td>['Comedy']</td>\n",
       "      <td>https://cdn.myanimelist.net/images/anime/8/815...</td>\n",
       "    </tr>\n",
       "  </tbody>\n",
       "</table>\n",
       "</div>"
      ],
      "text/plain": [
       "                         title  \\\n",
       "11175  Bogeul Bogeul Bomulseon   \n",
       "7311      Kikou Senki Dragonar   \n",
       "8243           Kissaten Soudou   \n",
       "\n",
       "                                                synopsis  \\\n",
       "11175  A bunch of dreamers and treasure hunters go hu...   \n",
       "7311    A.D. 2087 - the United Lunar Empire Giganos w...   \n",
       "8243         A customer and cafe owner get into a fight.   \n",
       "\n",
       "                                           genre  \\\n",
       "11175                   ['Adventure', 'Fantasy']   \n",
       "7311   ['Sci-Fi', 'Adventure', 'Space', 'Mecha']   \n",
       "8243                                  ['Comedy']   \n",
       "\n",
       "                                                 img_url  \n",
       "11175  https://cdn.myanimelist.net/images/anime/12/71...  \n",
       "7311   https://cdn.myanimelist.net/images/anime/13/11...  \n",
       "8243   https://cdn.myanimelist.net/images/anime/8/815...  "
      ]
     },
     "execution_count": 4,
     "metadata": {},
     "output_type": "execute_result"
    }
   ],
   "source": [
    "data.head(3)"
   ]
  },
  {
   "cell_type": "markdown",
   "id": "d465a994-7ead-4a6c-b677-6b2b75ec80b0",
   "metadata": {},
   "source": [
    "1- Construya la tabla de representación de frecuencia inversa de las synopsis de los animes. "
   ]
  },
  {
   "cell_type": "code",
   "execution_count": null,
   "id": "ef4de884-d077-4b13-84e1-1d00dec565fb",
   "metadata": {},
   "outputs": [],
   "source": [
    "#1- Construya la tabla de representación de frecuencia inversa de las synopsis de los animes. (1 punto)\n",
    "\n",
    "## TF-IDF\n",
    "tfidf = TfidfVectorizer(stop_words='english')\n",
    "\n",
    "## TF-IDF matrix\n",
    "tfidf_matrix = tfidf.fit_transform(data['synopsis'])\n",
    "\n",
    "## TF-IDF matrix shape\n",
    "print('(Shape) TF-IDF matrix: {}'.format(tfidf_matrix.shape))\n",
    "\n",
    "## TF-IDF matrix\n",
    "tfidf_matrix\n",
    "\n"
   ]
  },
  {
   "cell_type": "markdown",
   "id": "1e8d432c-1da0-49a2-a554-26739ec09253",
   "metadata": {},
   "source": [
    "3- Determine las reglas de asociación más relevantes que tienen entre los géneros."
   ]
  },
  {
   "cell_type": "code",
   "execution_count": null,
   "id": "362da2be-ffe0-43d6-aa72-ff592536fca7",
   "metadata": {},
   "outputs": [],
   "source": [
    "#2-Construya la tabla de representación binaria de los géneros de los animes. (1 punto)\n",
    "\n",
    "## Binary matrix\n",
    "binary_matrix = tfidf_matrix.copy()\n",
    "\n",
    "## Binary matrix\n",
    "binary_matrix.data = 1\n",
    "\n",
    "## Binary matrix\n",
    "binary_matrix"
   ]
  },
  {
   "cell_type": "code",
   "execution_count": null,
   "id": "43c110b5-8d6e-495f-bd8e-ead0d7f1e9ff",
   "metadata": {},
   "outputs": [],
   "source": []
  },
  {
   "cell_type": "code",
   "execution_count": null,
   "id": "c95eeaa7-ce05-4256-a54c-bf43503ef79c",
   "metadata": {},
   "outputs": [],
   "source": []
  },
  {
   "cell_type": "code",
   "execution_count": null,
   "id": "35d61aaf-7560-479d-91aa-724c530160b2",
   "metadata": {},
   "outputs": [],
   "source": []
  },
  {
   "cell_type": "code",
   "execution_count": null,
   "id": "4995ac6b-3f85-4b69-abbc-3bcfc398ce13",
   "metadata": {},
   "outputs": [],
   "source": []
  }
 ],
 "metadata": {
  "kernelspec": {
   "display_name": "Python 3",
   "language": "python",
   "name": "python3"
  },
  "language_info": {
   "codemirror_mode": {
    "name": "ipython",
    "version": 3
   },
   "file_extension": ".py",
   "mimetype": "text/x-python",
   "name": "python",
   "nbconvert_exporter": "python",
   "pygments_lexer": "ipython3",
   "version": "3.11.4"
  }
 },
 "nbformat": 4,
 "nbformat_minor": 5
}
