{
 "cells": [
  {
   "cell_type": "markdown",
   "metadata": {},
   "source": [
    "# Item 1"
   ]
  },
  {
   "cell_type": "markdown",
   "metadata": {},
   "source": [
    "### Repaso\n",
    "Covarianza:\n",
    "La covarianza es una medida estadística que describe la relación entre dos variables aleatorias. Indica si las dos variables tienden a aumentar o disminuir juntas. Es una medida de la tendencia conjunta de dos variables a variar al mismo tiempo. La covarianza se calcula como la media del producto de las desviaciones de cada variable respecto a sus medias respectivas. Si la covarianza es positiva, significa que cuando una variable es mayor que su media, la otra también tiende a ser mayor que su media, y viceversa. Si es negativa, indica que cuando una variable es mayor que su media, la otra tiende a ser menor que su media.\n",
    "\n",
    "Covarianza Semidefinida Positiva:\n",
    "La covarianza semidefinida positiva se refiere a las propiedades de una matriz de covarianza. Una matriz es semidefinida positiva si satisface dos condiciones:\n",
    "\n",
    "    Todos sus valores propios (eigenvalues) son no negativos o mayores que cero.\n",
    "    La matriz es simétrica.\n",
    "\n",
    "En el contexto de la matriz de covarianza, esto significa que la matriz de covarianza es semidefinida positiva si todas sus variables están correlacionadas de una manera no negativa o positiva. Si todas las covarianzas entre las variables son no negativas, entonces la matriz de covarianza será semidefinida positiva.\n",
    "\n",
    "Covarianza:     \n",
    "$\\text{cov}(X, Y) = \\frac{1}{N} \\sum_{i=1}^{N} (X_i - \\bar{X})(Y_i - \\bar{Y})$\n",
    "\n",
    "\n",
    "Eigenvalues:        \n",
    "$\\det(A - \\lambda I) = 0$\n"
   ]
  },
  {
   "cell_type": "markdown",
   "metadata": {},
   "source": [
    "### Importar librerias"
   ]
  },
  {
   "cell_type": "code",
   "execution_count": 1,
   "metadata": {},
   "outputs": [],
   "source": [
    "import pandas as pd\n",
    "import numpy as np\n",
    "import matplotlib.pyplot as plt"
   ]
  },
  {
   "cell_type": "markdown",
   "metadata": {},
   "source": [
    "### Leer el set de datos"
   ]
  },
  {
   "cell_type": "code",
   "execution_count": 4,
   "metadata": {},
   "outputs": [],
   "source": [
    "df = pd.read_csv('crabs_dataset.csv')\n",
    "columnas = ['FL', 'RW', 'CL', 'CW', 'BD']\n",
    "data = df[columnas]"
   ]
  },
  {
   "cell_type": "markdown",
   "metadata": {},
   "source": [
    "### Calcular la matriz de covarianza\n",
    "Solo para las variables que nos interesa analizar"
   ]
  },
  {
   "cell_type": "code",
   "execution_count": 6,
   "metadata": {},
   "outputs": [
    {
     "data": {
      "text/plain": [
       "array([[12.21729749,  8.15804472, 24.35667688, 26.5508005 , 11.82258141],\n",
       "       [ 8.15804472,  6.62207814, 16.35466156, 18.23963995,  7.83665905],\n",
       "       [24.35667688, 16.35466156, 50.67991935, 55.76137714, 23.9713892 ],\n",
       "       [26.5508005 , 18.23963995, 55.76137714, 61.96767814, 26.09186709],\n",
       "       [11.82258141,  7.83665905, 23.9713892 , 26.09186709, 11.72906508]])"
      ]
     },
     "execution_count": 6,
     "metadata": {},
     "output_type": "execute_result"
    }
   ],
   "source": [
    "cov_matrix = np.cov(data, rowvar=False)\n",
    "cov_matrix"
   ]
  },
  {
   "cell_type": "code",
   "execution_count": 15,
   "metadata": {},
   "outputs": [
    {
     "data": {
      "image/png": "[encoded data removed]",
      "text/plain": [
       "<Figure size 800x600 with 2 Axes>"
      ]
     },
     "metadata": {},
     "output_type": "display_data"
    }
   ],
   "source": [
    "plt.figure(figsize=(8, 6))\n",
    "plt.imshow(cov_matrix, cmap='viridis', interpolation='nearest')\n",
    "plt.colorbar()\n",
    "plt.title(\"Matriz de Covarianza\")\n",
    "plt.xticks(range(len(columnas)), columnas)\n",
    "plt.yticks(range(len(columnas)), columnas)\n",
    "plt.show()"
   ]
  },
  {
   "cell_type": "code",
   "execution_count": 17,
   "metadata": {},
   "outputs": [
    {
     "name": "stdout",
     "output_type": "stream",
     "text": [
      "La matriz de covarianza es semidefinida positiva.\n"
     ]
    }
   ],
   "source": [
    "# Verificar si la matriz de covarianza es semidefinida positiva\n",
    "is_semidefinite_positive = np.all(np.linalg.eigvals(cov_matrix) >= 0) #Calcular los autovalores de la matriz de covarianza\n",
    "\n",
    "if is_semidefinite_positive:\n",
    "    print(\"La matriz de covarianza es semidefinida positiva.\")\n",
    "else:\n",
    "    print(\"La matriz de covarianza no es semidefinida positiva.\")"
   ]
  },
  {
   "cell_type": "markdown",
   "metadata": {},
   "source": [
    "* Repaso"
   ]
  },
  {
   "cell_type": "markdown",
   "metadata": {},
   "source": []
  }
 ],
 "metadata": {
  "kernelspec": {
   "display_name": "Python 3",
   "language": "python",
   "name": "python3"
  },
  "language_info": {
   "codemirror_mode": {
    "name": "ipython",
    "version": 3
   },
   "file_extension": ".py",
   "mimetype": "text/x-python",
   "name": "python",
   "nbconvert_exporter": "python",
   "pygments_lexer": "ipython3",
   "version": "3.11.3"
  },
  "orig_nbformat": 4
 },
 "nbformat": 4,
 "nbformat_minor": 2
}
