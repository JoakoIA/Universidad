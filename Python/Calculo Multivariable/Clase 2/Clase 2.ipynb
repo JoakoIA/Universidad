{
 "cells": [
  {
   "cell_type": "code",
   "execution_count": 2,
   "id": "94b7564d-2c51-40e5-8331-d4f18edd06e2",
   "metadata": {},
   "outputs": [],
   "source": [
    "import numpy as np \n",
    "from scipy import linalg \n",
    "from scipy.linalg import cholesky\n",
    "import matplotlib.pyplot as plt\n",
    "from scipy.linalg import svd"
   ]
  },
  {
   "cell_type": "code",
   "execution_count": null,
   "id": "1de255e9-0a84-448f-8178-ef2ebe3aa27f",
   "metadata": {},
   "outputs": [],
   "source": []
  },
  {
   "cell_type": "code",
   "execution_count": 3,
   "id": "ef6dad10-71a8-4a83-bc44-3e64fbd5a683",
   "metadata": {},
   "outputs": [
    {
     "name": "stdout",
     "output_type": "stream",
     "text": [
      "trM 4\n",
      "M_inv [[ 0.66666667 -0.33333333]\n",
      " [-0.33333333  0.66666667]]\n",
      "M_trans [[2 1]\n",
      " [1 2]]\n",
      "detM 3.0\n"
     ]
    }
   ],
   "source": [
    "M = np.array([[2,1],[1,2]])\n",
    "trM= np.trace(M)\n",
    "print('trM', trM)\n",
    "M_inv= linalg.inv(M)\n",
    "M_trans=np.transpose(M)\n",
    "print('M_inv',M_inv)\n",
    "print('M_trans',M_trans)\n",
    "detM=linalg.det(M)\n",
    "print('detM',detM)\n"
   ]
  },
  {
   "cell_type": "code",
   "execution_count": 9,
   "id": "a3daa293-2a22-4b42-8e9b-98f3f52eb64a",
   "metadata": {},
   "outputs": [
    {
     "name": "stdout",
     "output_type": "stream",
     "text": [
      "rank(M1) 2\n",
      "valores propios [ 1.09282032e+01+0.j -4.90222453e-16+0.j -2.92820323e+00+0.j]\n",
      "U [[-0.21320072 -0.91287093  0.21320072]\n",
      " [-0.73854895  0.36514837 -0.73854895]\n",
      " [-0.63960215  0.18257419  0.63960215]]\n",
      "det(M1) 0.0\n"
     ]
    }
   ],
   "source": [
    "M1= np.array([[1,2,1],[3,4,7],[3,6,3]])\n",
    "\n",
    "print('rank(M1)', np.linalg.matrix_rank(M1))\n",
    "\n",
    "w,U= linalg.eig(M1)\n",
    "\n",
    "print('valores propios', w)\n",
    "print('U',U)\n",
    "\n",
    "print('det(M1)',linalg.det(M1))"
   ]
  },
  {
   "cell_type": "code",
   "execution_count": 12,
   "id": "cd87013f-ae31-40ee-b9df-1fa5875a83a5",
   "metadata": {},
   "outputs": [
    {
     "name": "stdout",
     "output_type": "stream",
     "text": [
      "w [-4.79128785+0.j -0.20871215+0.j]\n",
      "U [[-0.94140906 -0.87315384]\n",
      " [ 0.33726692 -0.48744474]]\n"
     ]
    }
   ],
   "source": [
    "##espectral descomposition\n",
    "\n",
    "A= np.array([[-3,5],[1,-2]])\n",
    "w,U= linalg.eig(A)\n",
    "print('w',w)\n",
    "print('U',U)\n",
    "#print('w[0]', w[0],'v[:,0]', )"
   ]
  },
  {
   "cell_type": "code",
   "execution_count": 13,
   "id": "1ef65b36-653a-41e4-9103-a23b2e66e764",
   "metadata": {},
   "outputs": [
    {
     "name": "stdout",
     "output_type": "stream",
     "text": [
      "U [[-0.94140906 -0.87315384]\n",
      " [ 0.33726692 -0.48744474]]\n",
      "[[-4.79128785+0.j  0.        +0.j]\n",
      " [ 0.        +0.j -0.20871215+0.j]]\n"
     ]
    }
   ],
   "source": [
    "print('U',U)\n",
    "D=np.diag((w))\n",
    "print(D)"
   ]
  },
  {
   "cell_type": "code",
   "execution_count": 14,
   "id": "5436a0f4-f925-4bd7-9644-37d03faa398f",
   "metadata": {},
   "outputs": [
    {
     "data": {
      "text/plain": [
       "array([[-3.+0.j,  5.+0.j],\n",
       "       [ 1.+0.j, -2.+0.j]])"
      ]
     },
     "execution_count": 14,
     "metadata": {},
     "output_type": "execute_result"
    }
   ],
   "source": [
    "np.matmul(np.matmul(U,D),np.linalg.inv(U))"
   ]
  },
  {
   "cell_type": "code",
   "execution_count": 27,
   "id": "1dc60fa8-b302-4a02-a608-7a1ddf912f27",
   "metadata": {},
   "outputs": [
    {
     "name": "stdout",
     "output_type": "stream",
     "text": [
      "w [ 7.07467358+0.j -3.1878826 +0.j -0.88679099+0.j]\n",
      "U [[-0.58437383 -0.60130182 -0.54492509]\n",
      " [-0.63457746  0.75716113 -0.15497893]\n",
      " [-0.50578521 -0.25523155  0.82403773]]\n",
      "U inverse [[-0.58437383 -0.63457746 -0.50578521]\n",
      " [-0.60130182  0.75716113 -0.25523155]\n",
      " [-0.54492509 -0.15497893  0.82403773]]\n",
      "U trasnpose [[-0.58437383 -0.63457746 -0.50578521]\n",
      " [-0.60130182  0.75716113 -0.25523155]\n",
      " [-0.54492509 -0.15497893  0.82403773]]\n"
     ]
    },
    {
     "ename": "AttributeError",
     "evalue": "module 'numpy.linalg' has no attribute 'transpose'",
     "output_type": "error",
     "traceback": [
      "\u001b[0;31m---------------------------------------------------------------------------\u001b[0m",
      "\u001b[0;31mAttributeError\u001b[0m                            Traceback (most recent call last)",
      "\u001b[0;32m/tmp/ipykernel_35019/3139127150.py\u001b[0m in \u001b[0;36m<cell line: 9>\u001b[0;34m()\u001b[0m\n\u001b[1;32m      7\u001b[0m \u001b[0mprint\u001b[0m\u001b[0;34m(\u001b[0m\u001b[0;34m'U inverse'\u001b[0m\u001b[0;34m,\u001b[0m \u001b[0mnp\u001b[0m\u001b[0;34m.\u001b[0m\u001b[0mlinalg\u001b[0m\u001b[0;34m.\u001b[0m\u001b[0minv\u001b[0m\u001b[0;34m(\u001b[0m\u001b[0mU\u001b[0m\u001b[0;34m)\u001b[0m\u001b[0;34m)\u001b[0m\u001b[0;34m\u001b[0m\u001b[0;34m\u001b[0m\u001b[0m\n\u001b[1;32m      8\u001b[0m \u001b[0mprint\u001b[0m\u001b[0;34m(\u001b[0m\u001b[0;34m'U trasnpose'\u001b[0m\u001b[0;34m,\u001b[0m \u001b[0mnp\u001b[0m\u001b[0;34m.\u001b[0m\u001b[0mtranspose\u001b[0m\u001b[0;34m(\u001b[0m\u001b[0mU\u001b[0m\u001b[0;34m)\u001b[0m\u001b[0;34m)\u001b[0m\u001b[0;34m\u001b[0m\u001b[0;34m\u001b[0m\u001b[0m\n\u001b[0;32m----> 9\u001b[0;31m \u001b[0mprint\u001b[0m\u001b[0;34m(\u001b[0m\u001b[0;34m'U_inverse-U_transponse'\u001b[0m\u001b[0;34m,\u001b[0m\u001b[0mnp\u001b[0m\u001b[0;34m.\u001b[0m\u001b[0mlinalg\u001b[0m\u001b[0;34m.\u001b[0m\u001b[0minv\u001b[0m\u001b[0;34m(\u001b[0m\u001b[0mU\u001b[0m\u001b[0;34m)\u001b[0m\u001b[0;34m-\u001b[0m\u001b[0mnp\u001b[0m\u001b[0;34m.\u001b[0m\u001b[0mlinalg\u001b[0m\u001b[0;34m.\u001b[0m\u001b[0mtranspose\u001b[0m\u001b[0;34m(\u001b[0m\u001b[0mU\u001b[0m\u001b[0;34m)\u001b[0m\u001b[0;34m)\u001b[0m\u001b[0;34m\u001b[0m\u001b[0;34m\u001b[0m\u001b[0m\n\u001b[0m\u001b[1;32m     10\u001b[0m \u001b[0;34m\u001b[0m\u001b[0m\n",
      "\u001b[0;31mAttributeError\u001b[0m: module 'numpy.linalg' has no attribute 'transpose'"
     ]
    }
   ],
   "source": [
    "#Descomposición espectral para matriz simétrica\n",
    "\n",
    "S=np.array([[1,4,2],[4,1,3],[2,3,1]])\n",
    "w,U= linalg.eig(S)\n",
    "print('w',w)\n",
    "print('U',U)\n",
    "print('U inverse', np.linalg.inv(U))\n",
    "print('U trasnpose', np.transpose(U))\n",
    "print('U_inverse-U_transponse',np.linalg.inv(U)-np.linalg.transpose(U))\n",
    "\n"
   ]
  },
  {
   "cell_type": "code",
   "execution_count": 17,
   "id": "338c024b-1d73-4e35-8a6a-f046329ccad8",
   "metadata": {},
   "outputs": [
    {
     "data": {
      "text/plain": [
       "(-1.0, 1.0)"
      ]
     },
     "execution_count": 17,
     "metadata": {},
     "output_type": "execute_result"
    },
    {
     "data": {
      "image/png": "[encoded data removed]",
      "text/plain": [
       "<Figure size 432x288 with 1 Axes>"
      ]
     },
     "metadata": {
      "needs_background": "light"
     },
     "output_type": "display_data"
    }
   ],
   "source": [
    "A2=np.array([[1,0,0],[0,1,0],[0,0,2]]) \n",
    "w,U=np.linalg.eig(A2)\n",
    "\n",
    "X=np.array(0)\n",
    "Y=np.array(0)\n",
    "\n",
    "ig, ax=plt.subplots()\n",
    "ax.quiver(X,Y, np.array(U[:,0][0]),np.array(U[:,0][1]),units='xy',color='red',scale=1)\n",
    "ax.quiver(X,Y, np.array(U[:,1][0]),np.array(U[:,1][1]),units='xy',color='blue',scale=1)\n",
    "plt.grid()\n",
    "ax.set_aspect('equal')\n",
    "plt.xlim(-1,1)\n",
    "plt.ylim(-1,1)"
   ]
  },
  {
   "cell_type": "code",
   "execution_count": 22,
   "id": "0ba0d353-0c70-4cd8-956e-cee13da0d950",
   "metadata": {},
   "outputs": [
    {
     "name": "stdout",
     "output_type": "stream",
     "text": [
      "D [[-4.79128785+0.j  0.        +0.j]\n",
      " [ 0.        +0.j -0.20871215+0.j]]\n",
      "sqrt [[0.+2.18890106j 0.+0.j        ]\n",
      " [0.+0.j         0.+0.45685025j]]\n",
      "sqrt [[0.9083113 +0.92518969j 0.98634444-0.73336238j 0.78615845-0.14884065j]\n",
      " [0.98634444-0.73336238j 1.07108143+1.04621221j 0.85369742-0.46530602j]\n",
      " [0.78615845-0.14884065j 0.85369742-0.46530602j 0.68043313+0.75575816j]]\n"
     ]
    }
   ],
   "source": [
    "## Raíz Cuadrada\n",
    "print('D',D)\n",
    "print('sqrt', linalg.sqrtm(D))\n",
    "print('sqrt', linalg.sqrtm(S))"
   ]
  },
  {
   "cell_type": "code",
   "execution_count": 25,
   "id": "789ee18c-ab49-458a-a1f6-2b8a79aa3f75",
   "metadata": {},
   "outputs": [
    {
     "data": {
      "text/plain": [
       "array([[ 5., -4.],\n",
       "       [-4.,  5.]])"
      ]
     },
     "execution_count": 25,
     "metadata": {},
     "output_type": "execute_result"
    }
   ],
   "source": [
    "#Cholesky\n",
    "A=np.array([[5,-4],[-4,5]])\n",
    "T=cholesky(A, lower=True)\n",
    "np.matmul(T,np.transpose(T))"
   ]
  }
 ],
 "metadata": {
  "kernelspec": {
   "display_name": "Python 3 (ipykernel)",
   "language": "python",
   "name": "python3"
  },
  "language_info": {
   "codemirror_mode": {
    "name": "ipython",
    "version": 3
   },
   "file_extension": ".py",
   "mimetype": "text/x-python",
   "name": "python",
   "nbconvert_exporter": "python",
   "pygments_lexer": "ipython3",
   "version": "3.9.7"
  }
 },
 "nbformat": 4,
 "nbformat_minor": 5
}
