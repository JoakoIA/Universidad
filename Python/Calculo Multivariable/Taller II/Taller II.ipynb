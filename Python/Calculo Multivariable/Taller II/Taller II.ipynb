{
 "cells": [
  {
   "cell_type": "code",
   "execution_count": 32,
   "metadata": {},
   "outputs": [
    {
     "data": {
      "image/png": "[encoded data removed]",
      "text/plain": [
       "<Figure size 640x480 with 1 Axes>"
      ]
     },
     "metadata": {},
     "output_type": "display_data"
    },
    {
     "name": "stdout",
     "output_type": "stream",
     "text": [
      "Covarianza entre x e y: 0.08448871202875928\n"
     ]
    }
   ],
   "source": [
    "import numpy as np\n",
    "import matplotlib.pyplot as plt\n",
    "\n",
    "# (b) Generar un set de 10,000 datos para x e y\n",
    "n = 10000\n",
    "x = np.random.uniform(0, 1, n)\n",
    "y = x**2\n",
    "\n",
    "# (c) Graficar un scatterplot de x e y\n",
    "plt.scatter(x, y, alpha=0.5)\n",
    "plt.xlabel('x')\n",
    "plt.ylabel('y')\n",
    "plt.title('Scatterplot de x e y')\n",
    "plt.show()\n",
    "\n",
    "# (d) Calcular cov(x, y) y comentar sobre el resultado\n",
    "#Si la covarianza es distinta de 0 entonces existe una dependencia lineal entre las variables\n",
    "cov_xy = np.cov(x, y)[0, 1]\n",
    "print(f'Covarianza entre x e y: {cov_xy}')\n",
    "\n"
   ]
  },
  {
   "cell_type": "code",
   "execution_count": null,
   "metadata": {},
   "outputs": [],
   "source": []
  },
  {
   "cell_type": "code",
   "execution_count": 2,
   "metadata": {},
   "outputs": [],
   "source": [
    "X = np.array([[2,6,-3],[-4,8,7],[-2,9,7],[-7,8,2]])"
   ]
  },
  {
   "cell_type": "code",
   "execution_count": 10,
   "metadata": {},
   "outputs": [
    {
     "data": {
      "text/plain": [
       "array([-2.75,  7.75,  3.25])"
      ]
     },
     "execution_count": 10,
     "metadata": {},
     "output_type": "execute_result"
    }
   ],
   "source": [
    "mu_mle = np.mean(X, axis=0)\n",
    "mu_mle"
   ]
  },
  {
   "cell_type": "code",
   "execution_count": 14,
   "metadata": {},
   "outputs": [
    {
     "data": {
      "text/plain": [
       "array([[10.6875, -2.1875, -6.5625],\n",
       "       [-2.1875,  1.1875,  4.0625],\n",
       "       [-6.5625,  4.0625, 17.1875]])"
      ]
     },
     "execution_count": 14,
     "metadata": {},
     "output_type": "execute_result"
    }
   ],
   "source": [
    "n = len(X)\n",
    "sigma_mle = sum([(xi - mu_mle).reshape(-1,1) @ (xi - mu_mle).reshape(1,-1) for xi in X]) / n\n",
    "sigma_mle\n"
   ]
  },
  {
   "cell_type": "code",
   "execution_count": 16,
   "metadata": {},
   "outputs": [
    {
     "name": "stdout",
     "output_type": "stream",
     "text": [
      "[[10.6875 -2.1875 -6.5625]\n",
      " [-2.1875  1.1875  4.0625]\n",
      " [-6.5625  4.0625 17.1875]]\n"
     ]
    }
   ],
   "source": [
    "x1 = X[0]\n",
    "x2 = X[1]\n",
    "x3 = X[2]\n",
    "x4 = X[3]\n",
    "\n",
    "sigma = (1/4)*((x1-mu_mle).reshape(-1,1) @ (x1-mu_mle).reshape(1,-1) + (x2-mu_mle).reshape(-1,1) @ (x2-mu_mle).reshape(1,-1) + (x3-mu_mle).reshape(-1,1) @ (x3-mu_mle).reshape(1,-1) + (x4-mu_mle).reshape(-1,1) @ (x4-mu_mle).reshape(1,-1))\n",
    "print(sigma)"
   ]
  },
  {
   "cell_type": "code",
   "execution_count": 17,
   "metadata": {},
   "outputs": [
    {
     "name": "stdout",
     "output_type": "stream",
     "text": [
      "[[210.54 126.99]\n",
      " [126.99 119.68]]\n"
     ]
    }
   ],
   "source": [
    "S = np.array([[210.54,126.99],[126.99,119.68]])\n",
    "print(S)"
   ]
  },
  {
   "cell_type": "code",
   "execution_count": 26,
   "metadata": {},
   "outputs": [
    {
     "data": {
      "text/plain": [
       "array([168.765, 123.335])"
      ]
     },
     "execution_count": 26,
     "metadata": {},
     "output_type": "execute_result"
    }
   ],
   "source": [
    "x_ = np.mean(S, axis=0)\n",
    "x_"
   ]
  },
  {
   "cell_type": "code",
   "execution_count": 29,
   "metadata": {},
   "outputs": [
    {
     "name": "stdout",
     "output_type": "stream",
     "text": [
      "Estadístico T^2: 35.39026914781776\n",
      "Valor crítico de la distribución F de Hotelling: 6.059467437463481\n",
      "Rechazamos la hipótesis nula H0\n"
     ]
    }
   ],
   "source": [
    "import numpy as np\n",
    "from scipy.stats import f\n",
    "\n",
    "# Datos proporcionados\n",
    "n = 10\n",
    "x_barra = np.array([55.24, 34.97])\n",
    "mu_hipotesis_nula = np.array([60, 50])\n",
    "S = np.array([[210.54, 126.99], [126.99, 119.68]])\n",
    "\n",
    "# Grados de libertad\n",
    "p = 2  # Dimensionalidad del vector de medias\n",
    "n_p = n - p  # Grados de libertad\n",
    "\n",
    "# Cálculo del estadístico T^2 de Hotelling\n",
    "T2 = n * np.dot(np.dot(x_barra - mu_hipotesis_nula, np.linalg.inv(S)), x_barra - mu_hipotesis_nula)\n",
    "\n",
    "# Valor crítico de la distribución F de Hotelling para alfa/2 = 0.025\n",
    "alpha = 0.05\n",
    "alpha_over_2 = alpha / 2\n",
    "F_critico = f.ppf(1 - alpha_over_2, p, n_p)\n",
    "\n",
    "# Imprimir los resultados\n",
    "print(\"Estadístico T^2:\", T2)\n",
    "print(\"Valor crítico de la distribución F de Hotelling:\", F_critico)\n",
    "\n",
    "# Realizar la prueba de hipótesis\n",
    "if T2 > F_critico:\n",
    "    print(\"Rechazamos la hipótesis nula H0\")\n",
    "else:\n",
    "    print(\"No podemos rechazar la hipótesis nula H0\")\n"
   ]
  },
  {
   "cell_type": "code",
   "execution_count": 31,
   "metadata": {},
   "outputs": [
    {
     "name": "stdout",
     "output_type": "stream",
     "text": [
      "Rechazamos la hipótesis nula H0\n"
     ]
    }
   ],
   "source": [
    "import numpy as np\n",
    "from scipy.stats import f\n",
    "\n",
    "# Datos\n",
    "n = 100\n",
    "p1 = 2\n",
    "p2 = n - p1 - 1\n",
    "\n",
    "# Matrices de covarianza\n",
    "S = np.array([[1.6635, 1.2410], [1.2410, 1.3747]])\n",
    "Sigma0 = np.array([[1.2248, 1.1425], [1.1425, 1.5112]])\n",
    "\n",
    "# Calcula el valor de la estadística de prueba F\n",
    "det_S = np.linalg.det(S)\n",
    "det_Sigma0 = np.linalg.det(Sigma0)\n",
    "F = (det_S / det_Sigma0) * (p2 / p1)\n",
    "\n",
    "# Calcula el valor crítico de F para alpha = 0.05\n",
    "alpha = 0.05\n",
    "F_critico = f.ppf(1 - alpha / 2, p1, p2)\n",
    "\n",
    "# Compara F con el valor crítico\n",
    "if F > F_critico:\n",
    "    print(\"Rechazamos la hipótesis nula H0\")\n",
    "else:\n",
    "    print(\"No podemos rechazar la hipótesis nula H0\")"
   ]
  }
 ],
 "metadata": {
  "kernelspec": {
   "display_name": "Python 3",
   "language": "python",
   "name": "python3"
  },
  "language_info": {
   "codemirror_mode": {
    "name": "ipython",
    "version": 3
   },
   "file_extension": ".py",
   "mimetype": "text/x-python",
   "name": "python",
   "nbconvert_exporter": "python",
   "pygments_lexer": "ipython3",
   "version": "3.11.3"
  }
 },
 "nbformat": 4,
 "nbformat_minor": 2
}
