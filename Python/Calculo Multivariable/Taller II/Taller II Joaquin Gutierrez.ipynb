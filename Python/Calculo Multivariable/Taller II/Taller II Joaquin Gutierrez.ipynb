{
 "cells": [
  {
   "cell_type": "markdown",
   "metadata": {},
   "source": [
    "### Sea x una variable aleatoria uniforme en el rango [0,1] e y = x^2 . (2 pts total)       \n",
    "(a) Son x e y independientes? (0.5 pto)      \n",
    "la probabilidad conjunta P(x, y) es igual al producto de las probabilidades marginales P(x) y P(y). En este caso, x e y no son independientes porque y es una función de x. Por lo tanto, P(x, y) ≠ P(x) * P(y).    \n",
    "(b) Genera un set de ݊ = 10000 datos para x e y (0.5 pto).       \n",
    "  "
   ]
  },
  {
   "cell_type": "code",
   "execution_count": 2,
   "metadata": {},
   "outputs": [],
   "source": [
    "import numpy as np\n",
    "\n",
    "x = np.random.rand(10000)\n",
    "y = x**2\n"
   ]
  },
  {
   "cell_type": "markdown",
   "metadata": {},
   "source": [
    "(c) Grafica scatterplot de x e y (0.5 pto)"
   ]
  },
  {
   "cell_type": "code",
   "execution_count": 3,
   "metadata": {},
   "outputs": [
    {
     "data": {
      "image/png": "[encoded data removed]",
      "text/plain": [
       "<Figure size 640x480 with 1 Axes>"
      ]
     },
     "metadata": {},
     "output_type": "display_data"
    }
   ],
   "source": [
    "import matplotlib.pyplot as plt\n",
    "\n",
    "plt.scatter(x, y, alpha=0.5)\n",
    "plt.xlabel('x')\n",
    "plt.ylabel('y')\n",
    "plt.title('Scatterplot de x e y')\n",
    "plt.show()"
   ]
  },
  {
   "cell_type": "markdown",
   "metadata": {},
   "source": [
    "(d) Calcula cov(x,y) y comenta sobre el resultado. (0.5 pts)\n",
    "La covarianza mide la relacion lineal entre variables, al ser este un caso no lineal la covarianza no es una medida muy representativa"
   ]
  },
  {
   "cell_type": "code",
   "execution_count": 4,
   "metadata": {},
   "outputs": [
    {
     "name": "stdout",
     "output_type": "stream",
     "text": [
      "Covarianza entre x e y: 0.08365166967566622\n"
     ]
    }
   ],
   "source": [
    "covariance = np.cov(x, y)[0, 1]\n",
    "print(\"Covarianza entre x e y:\", covariance)"
   ]
  },
  {
   "cell_type": "markdown",
   "metadata": {},
   "source": [
    "### Sea $x = (x1,x2,...,xp)^T$ un vector de p variables aleatorias independientes con las funciones de distribuciones marginales Fx1(x1),Fx2(x2),...Fxp(xp). (1 pto total)      \n",
    "(a) Encuentra la función de distribución conjunta F(x1,x2,...,xp)? (0.5 pto)        \n",
    "$F(x1,x2,...,xp)=Fx1(x1)∗Fx2(x2)∗...∗Fxp(xp)$       \n",
    "\n",
    "(b) Encuentra la función de copula. (0.5 pto)       \n",
    "$C(u1,u2,...,up)=F(Fx1(−1)(u1),Fx2(−1)(u2),...,Fxp(−1)(up))$        \n",
    "$(u1,u2,...,up)=u1∗u2∗...∗up$       "
   ]
  },
  {
   "cell_type": "markdown",
   "metadata": {},
   "source": []
  },
  {
   "cell_type": "code",
   "execution_count": null,
   "metadata": {},
   "outputs": [],
   "source": []
  },
  {
   "cell_type": "markdown",
   "metadata": {},
   "source": [
    "### Considera datos muestrales (1 pts total)        \n",
    "x = matrix([2,6,-3],[-4,8,7],[-2,9,7],[-7,8,2])     \n",
    "de una distribucion normal N3 con media mu y desviacion estandar sigma desconocidos. Calcula:       \n",
    "(a) El estimador de máxima verosimilitud de mu (0.5 pto)        \n",
    "(b) El estimador de máxima verosimilitud de Σ (0.5 pto)     "
   ]
  },
  {
   "cell_type": "code",
   "execution_count": 6,
   "metadata": {},
   "outputs": [
    {
     "name": "stdout",
     "output_type": "stream",
     "text": [
      "Estimador MLE de mu:\n",
      "[-2.75  7.75  3.25]\n",
      "\n",
      "Estimador MLE de Sigma:\n",
      "[[10.6875 -2.1875 -6.5625]\n",
      " [-2.1875  1.1875  4.0625]\n",
      " [-6.5625  4.0625 17.1875]]\n"
     ]
    }
   ],
   "source": [
    "import numpy as np\n",
    "\n",
    "x = np.array([[2, 6, -3],\n",
    "              [-4, 8, 7],\n",
    "              [-2, 9, 7],\n",
    "              [-7, 8, 2]])\n",
    "n = x.shape[0]\n",
    "\n",
    "mu_hat = np.mean(x, axis=0)\n",
    "\n",
    "residuals = x - mu_hat\n",
    "sigma_hat = (1 / n) * residuals.T @ residuals\n",
    "\n",
    "print(\"Estimador MLE de mu:\")\n",
    "print(mu_hat)\n",
    "\n",
    "print(\"\\nEstimador MLE de Sigma:\")\n",
    "print(sigma_hat)\n"
   ]
  },
  {
   "cell_type": "markdown",
   "metadata": {},
   "source": [
    "### sea x = [x1, x2] un vector aleatorio bivariado con función de distribución dada por:\n",
    "$F(x1,x2) =  1/(1+exp(-x1)+exp(-x2))$       \n",
    "donde X pertenece a R^2     \n",
    "Encuentre funcion de cupula     "
   ]
  },
  {
   "cell_type": "code",
   "execution_count": 9,
   "metadata": {},
   "outputs": [
    {
     "name": "stdout",
     "output_type": "stream",
     "text": [
      "C(u1=0.5, u2=0.3) = 0.4347643985548188\n"
     ]
    }
   ],
   "source": [
    "import numpy as np\n",
    "from scipy.optimize import root_scalar\n",
    "\n",
    "def joint_distribution(x1, x2):\n",
    "    return 1 / (1 + np.exp(-x1) + np.exp(-x2))\n",
    "def marginal_distribution_x1(x1):\n",
    "    return root_scalar(lambda u: joint_distribution(x1, u) - u, bracket=[-10, 10]).root\n",
    "\n",
    "def marginal_distribution_x2(x2):\n",
    "    return root_scalar(lambda u: joint_distribution(u, x2) - u, bracket=[-10, 10]).root\n",
    "\n",
    "u1 = 0.5  # Valor de u1\n",
    "u2 = 0.3  # Valor de u2\n",
    "x1_inverse = marginal_distribution_x1(u1)\n",
    "x2_inverse = marginal_distribution_x2(u2)\n",
    "\n",
    "copula_value = joint_distribution(x1_inverse, x2_inverse)\n",
    "\n",
    "print(f\"C(u1={u1}, u2={u2}) =\", copula_value)\n"
   ]
  },
  {
   "cell_type": "markdown",
   "metadata": {},
   "source": [
    "### Sea x una variable aleatoria multivariada p=2 dimensional que sigue una distribución normal multivariada con la media y la covarianza desconocido. El vector de media y la matriz de covarianza muestrales para una muestra de tamaño n=10 están dados por (2 pts)\n",
    "S = (210.54 126.99),(126.99 119.68)         \n",
    "x barra = (55.24 34.97)         \n",
    "Contrasta la hipótesis nula     \n",
    "H0:  μ = (60, 50)   \n",
    "Frente la hipótesis alternativa     \n",
    "H1: μ ≠ (60, 50)        \n",
    "con el nivel de significacion a = 0.05       "
   ]
  },
  {
   "cell_type": "code",
   "execution_count": 10,
   "metadata": {},
   "outputs": [
    {
     "name": "stdout",
     "output_type": "stream",
     "text": [
      "Estadístico T^2: 31.851242233035986\n",
      "Valor crítico de la distribución F de Hotelling: 4.458970107524511\n",
      "Rechazamos la hipótesis nula H0\n"
     ]
    }
   ],
   "source": [
    "import numpy as np\n",
    "from scipy.stats import f\n",
    "\n",
    "n = 10\n",
    "x_barra = np.array([55.24, 34.97])\n",
    "mu_hipotesis_nula = np.array([60, 50])\n",
    "S = np.array([[210.54, 126.99], [126.99, 119.68]])\n",
    "p = 2  # Dimensionalidad del vector de medias\n",
    "n_p = n - p  # Grados de libertad\n",
    "\n",
    "# Cálculo del estadístico T^2 de Hotelling\n",
    "T2 = (n-1) * np.dot(np.dot(x_barra - mu_hipotesis_nula, np.linalg.inv(S)), x_barra - mu_hipotesis_nula)\n",
    "F = (n-p) / (p*(n-1)) * T2\n",
    "alpha = 0.05\n",
    "F_critico = f.ppf(1 - alpha, p, n_p)\n",
    "\n",
    "print(\"Estadístico T^2:\", T2)\n",
    "print(\"Valor crítico de la distribución F de Hotelling:\", F_critico)\n",
    "if F > F_critico:\n",
    "    print(\"Rechazamos la hipótesis nula H0\")\n",
    "else:\n",
    "    print(\"No podemos rechazar la hipótesis nula H0\")\n"
   ]
  },
  {
   "cell_type": "markdown",
   "metadata": {},
   "source": [
    "### Sea x una variable aleatoria multivariada p=2 dimensional que sigue una distribución normal multivariada con la media y la covarianza desconocido. La matriz de covarianza muestral para una muestra de tamaño n=100 está dado por (2 pts)\n",
    "\n",
    "S = (1.6635 1.2410),(1.2410 1.3747)     \n",
    "Contrasta la hipótesis nula        \n",
    "H0:   Σ =  Σ0 = (1.2248 1.1425),(1.1425 1.5112)     \n",
    "Frente la hipótesis alternativa     \n",
    "H1: Σ ≠ Σ0      \n",
    "con el nivel de significacion ܽa= 0.05       "
   ]
  },
  {
   "cell_type": "code",
   "execution_count": 7,
   "metadata": {},
   "outputs": [
    {
     "name": "stdout",
     "output_type": "stream",
     "text": [
      "Rechazar H0. Hay evidencia significativa de diferencia en las matrices de covarianza.\n"
     ]
    }
   ],
   "source": [
    "import numpy as np\n",
    "from scipy.stats import f\n",
    "\n",
    "\n",
    "n = 100\n",
    "p1 = 2\n",
    "p2 = n - p1 - 1\n",
    "\n",
    "\n",
    "S = np.array([[1.6635, 1.2410], [1.2410, 1.3747]])\n",
    "Sigma0 = np.array([[1.2248, 1.1425], [1.1425, 1.5112]])\n",
    "\n",
    "\n",
    "det_S = np.linalg.det(S)\n",
    "det_Sigma0 = np.linalg.det(Sigma0)\n",
    "F = (det_S / det_Sigma0) * (p2 / p1)\n",
    "\n",
    "alpha = 0.05\n",
    "F_critico = f.ppf(1 - alpha / 2, p1, p2)\n",
    "if F > F_critico:\n",
    "    print(\"Rechazar H0. Hay evidencia significativa de diferencia en las matrices de covarianza.\")\n",
    "else:\n",
    "    print(\"No se puede rechazar H0. No hay evidencia significativa de diferencia en las matrices de covarianza.\")\n"
   ]
  }
 ],
 "metadata": {
  "kernelspec": {
   "display_name": "Python 3",
   "language": "python",
   "name": "python3"
  },
  "language_info": {
   "codemirror_mode": {
    "name": "ipython",
    "version": 3
   },
   "file_extension": ".py",
   "mimetype": "text/x-python",
   "name": "python",
   "nbconvert_exporter": "python",
   "pygments_lexer": "ipython3",
   "version": "3.11.3"
  }
 },
 "nbformat": 4,
 "nbformat_minor": 2
}
